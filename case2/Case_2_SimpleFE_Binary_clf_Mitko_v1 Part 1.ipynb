{
 "cells": [
  {
   "cell_type": "markdown",
   "metadata": {},
   "source": [
    "## Case 2: Financial Distress"
   ]
  },
  {
   "cell_type": "markdown",
   "metadata": {},
   "source": [
    "### Authors:\n",
    "Team 4:\n",
    "- Stephen Panev\n",
    "- Marin St\n",
    "- Dayana Hristova\n",
    "- Dimitar Lyubchev"
   ]
  },
  {
   "cell_type": "code",
   "execution_count": 1,
   "metadata": {
    "scrolled": true
   },
   "outputs": [],
   "source": [
    "import pandas as pd\n",
    "import numpy as np\n",
    "import seaborn as sns\n",
    "\n",
    "from sklearn.model_selection import train_test_split, cross_val_score\n",
    "from sklearn.base import BaseEstimator\n",
    "from sklearn.linear_model import SGDClassifier, LogisticRegression\n",
    "from sklearn.model_selection import cross_val_predict\n",
    "from sklearn.metrics import confusion_matrix, roc_curve, roc_auc_score, precision_score, recall_score, f1_score, precision_recall_curve\n",
    "from sklearn.preprocessing import StandardScaler\n",
    "from imblearn.over_sampling import SMOTE\n",
    "from sklearn.ensemble import RandomForestClassifier, GradientBoostingClassifier\n",
    "from xgboost import XGBClassifier\n",
    "from lightgbm import LGBMClassifier\n",
    "\n",
    "\n",
    "\n",
    "pd.set_option(\"display.max_columns\", 90)\n",
    "pd.set_option(\"display.max_rows\", 185)\n",
    "\n",
    "\n",
    "import matplotlib.pyplot as plt\n",
    "%matplotlib inline"
   ]
  },
  {
   "cell_type": "code",
   "execution_count": 2,
   "metadata": {},
   "outputs": [],
   "source": [
    "df = pd.read_csv(\"data/Financial Distress.csv\")"
   ]
  },
  {
   "cell_type": "markdown",
   "metadata": {},
   "source": [
    "### Transform the target into 0s and 1s"
   ]
  },
  {
   "cell_type": "markdown",
   "metadata": {},
   "source": [
    "Here the new labels will be as follows: <br>\n",
    "\n",
    "- 0s represent a healthy company\n",
    "- 1s represent a company in a bad shape(or already in bankrupt)"
   ]
  },
  {
   "cell_type": "code",
   "execution_count": 3,
   "metadata": {},
   "outputs": [],
   "source": [
    "def new_labels(row):\n",
    "    return 0 if row[\"Financial Distress\"] > -0.5 else 1"
   ]
  },
  {
   "cell_type": "code",
   "execution_count": 4,
   "metadata": {},
   "outputs": [],
   "source": [
    "\n",
    "df[\"Financial Distress\"] = df.apply(new_labels, axis=1)"
   ]
  },
  {
   "cell_type": "code",
   "execution_count": 5,
   "metadata": {},
   "outputs": [
    {
     "data": {
      "text/plain": [
       "0    3536\n",
       "1     136\n",
       "Name: Financial Distress, dtype: int64"
      ]
     },
     "execution_count": 5,
     "metadata": {},
     "output_type": "execute_result"
    }
   ],
   "source": [
    "df[\"Financial Distress\"].value_counts()"
   ]
  },
  {
   "cell_type": "markdown",
   "metadata": {},
   "source": [
    "### Split the data into train and test sets"
   ]
  },
  {
   "cell_type": "code",
   "execution_count": 6,
   "metadata": {},
   "outputs": [],
   "source": [
    "X = df.iloc[:,3:]\n",
    "Y = df[\"Financial Distress\"]"
   ]
  },
  {
   "cell_type": "code",
   "execution_count": 7,
   "metadata": {},
   "outputs": [],
   "source": [
    "X_train, X_test, y_train, y_test = train_test_split(X, Y, test_size=0.30, random_state=42)"
   ]
  },
  {
   "cell_type": "code",
   "execution_count": 8,
   "metadata": {},
   "outputs": [],
   "source": [
    "test_data = pd.concat([X_test, y_test], axis=1)\n",
    "test_data.sort_index(inplace=True)"
   ]
  },
  {
   "cell_type": "code",
   "execution_count": 9,
   "metadata": {
    "scrolled": true
   },
   "outputs": [
    {
     "name": "stderr",
     "output_type": "stream",
     "text": [
      "<ipython-input-9-2444e6b3f6d3>:1: SettingWithCopyWarning: \n",
      "A value is trying to be set on a copy of a slice from a DataFrame\n",
      "\n",
      "See the caveats in the documentation: https://pandas.pydata.org/pandas-docs/stable/user_guide/indexing.html#returning-a-view-versus-a-copy\n",
      "  X_train.sort_index(inplace=True)\n"
     ]
    }
   ],
   "source": [
    "X_train.sort_index(inplace=True)\n",
    "y_train.sort_index(inplace=True)\n",
    "train_data = pd.concat([X_train, y_train], axis=1)"
   ]
  },
  {
   "cell_type": "code",
   "execution_count": 10,
   "metadata": {
    "scrolled": true
   },
   "outputs": [
    {
     "data": {
      "text/plain": [
       "0    2487\n",
       "1      83\n",
       "Name: Financial Distress, dtype: int64"
      ]
     },
     "execution_count": 10,
     "metadata": {},
     "output_type": "execute_result"
    }
   ],
   "source": [
    "y_train.value_counts()"
   ]
  },
  {
   "cell_type": "code",
   "execution_count": 11,
   "metadata": {},
   "outputs": [
    {
     "data": {
      "text/html": [
       "<div>\n",
       "<style scoped>\n",
       "    .dataframe tbody tr th:only-of-type {\n",
       "        vertical-align: middle;\n",
       "    }\n",
       "\n",
       "    .dataframe tbody tr th {\n",
       "        vertical-align: top;\n",
       "    }\n",
       "\n",
       "    .dataframe thead th {\n",
       "        text-align: right;\n",
       "    }\n",
       "</style>\n",
       "<table border=\"1\" class=\"dataframe\">\n",
       "  <thead>\n",
       "    <tr style=\"text-align: right;\">\n",
       "      <th></th>\n",
       "      <th>x1</th>\n",
       "      <th>x2</th>\n",
       "      <th>x3</th>\n",
       "      <th>x4</th>\n",
       "      <th>x5</th>\n",
       "      <th>x6</th>\n",
       "      <th>x7</th>\n",
       "      <th>x8</th>\n",
       "      <th>x9</th>\n",
       "      <th>x10</th>\n",
       "      <th>x11</th>\n",
       "      <th>x12</th>\n",
       "      <th>x13</th>\n",
       "      <th>x14</th>\n",
       "      <th>x15</th>\n",
       "      <th>x16</th>\n",
       "      <th>x17</th>\n",
       "      <th>x18</th>\n",
       "      <th>x19</th>\n",
       "      <th>x20</th>\n",
       "      <th>x21</th>\n",
       "      <th>x22</th>\n",
       "      <th>x23</th>\n",
       "      <th>x24</th>\n",
       "      <th>x25</th>\n",
       "      <th>x26</th>\n",
       "      <th>x27</th>\n",
       "      <th>x28</th>\n",
       "      <th>x29</th>\n",
       "      <th>x30</th>\n",
       "      <th>x31</th>\n",
       "      <th>x32</th>\n",
       "      <th>x33</th>\n",
       "      <th>x34</th>\n",
       "      <th>x35</th>\n",
       "      <th>x36</th>\n",
       "      <th>x37</th>\n",
       "      <th>x38</th>\n",
       "      <th>x39</th>\n",
       "      <th>x40</th>\n",
       "      <th>x41</th>\n",
       "      <th>x42</th>\n",
       "      <th>x43</th>\n",
       "      <th>x44</th>\n",
       "      <th>x45</th>\n",
       "      <th>x46</th>\n",
       "      <th>x47</th>\n",
       "      <th>x48</th>\n",
       "      <th>x49</th>\n",
       "      <th>x50</th>\n",
       "      <th>x51</th>\n",
       "      <th>x52</th>\n",
       "      <th>x53</th>\n",
       "      <th>x54</th>\n",
       "      <th>x55</th>\n",
       "      <th>x56</th>\n",
       "      <th>x57</th>\n",
       "      <th>x58</th>\n",
       "      <th>x59</th>\n",
       "      <th>x60</th>\n",
       "      <th>x61</th>\n",
       "      <th>x62</th>\n",
       "      <th>x63</th>\n",
       "      <th>x64</th>\n",
       "      <th>x65</th>\n",
       "      <th>x66</th>\n",
       "      <th>x67</th>\n",
       "      <th>x68</th>\n",
       "      <th>x69</th>\n",
       "      <th>x70</th>\n",
       "      <th>x71</th>\n",
       "      <th>x72</th>\n",
       "      <th>x73</th>\n",
       "      <th>x74</th>\n",
       "      <th>x75</th>\n",
       "      <th>x76</th>\n",
       "      <th>x77</th>\n",
       "      <th>x78</th>\n",
       "      <th>x79</th>\n",
       "      <th>x80</th>\n",
       "      <th>x81</th>\n",
       "      <th>x82</th>\n",
       "      <th>x83</th>\n",
       "    </tr>\n",
       "  </thead>\n",
       "  <tbody>\n",
       "    <tr>\n",
       "      <th>min</th>\n",
       "      <td>0.075170</td>\n",
       "      <td>-0.247880</td>\n",
       "      <td>0.016135</td>\n",
       "      <td>5.350000e-07</td>\n",
       "      <td>-0.269790</td>\n",
       "      <td>-0.627750</td>\n",
       "      <td>0.039691</td>\n",
       "      <td>-145000.000000</td>\n",
       "      <td>-3.498500</td>\n",
       "      <td>-0.25648</td>\n",
       "      <td>0.021491</td>\n",
       "      <td>-2.620000e+06</td>\n",
       "      <td>0.036667</td>\n",
       "      <td>0.016400</td>\n",
       "      <td>3.540000e-06</td>\n",
       "      <td>-35758.000000</td>\n",
       "      <td>0.000000e+00</td>\n",
       "      <td>0.000287</td>\n",
       "      <td>0.000000</td>\n",
       "      <td>0.000603</td>\n",
       "      <td>0.000003</td>\n",
       "      <td>7.730000e-07</td>\n",
       "      <td>-0.553850</td>\n",
       "      <td>0.016135</td>\n",
       "      <td>-2302.800000</td>\n",
       "      <td>8.195100</td>\n",
       "      <td>-288000.000000</td>\n",
       "      <td>-0.499440</td>\n",
       "      <td>0.00000</td>\n",
       "      <td>0.002082</td>\n",
       "      <td>0.000000e+00</td>\n",
       "      <td>0.010060</td>\n",
       "      <td>0.049372</td>\n",
       "      <td>4.560000e-05</td>\n",
       "      <td>0.000000e+00</td>\n",
       "      <td>-4.856200</td>\n",
       "      <td>0.000000</td>\n",
       "      <td>0.000244</td>\n",
       "      <td>-1.000000</td>\n",
       "      <td>0.000170</td>\n",
       "      <td>0.000002</td>\n",
       "      <td>-214.820000</td>\n",
       "      <td>0.089251</td>\n",
       "      <td>-56.719000</td>\n",
       "      <td>-9.376900</td>\n",
       "      <td>-0.642120</td>\n",
       "      <td>1.640100e-02</td>\n",
       "      <td>533.07000</td>\n",
       "      <td>0.016400</td>\n",
       "      <td>0.000000</td>\n",
       "      <td>0.000000</td>\n",
       "      <td>-33563.000000</td>\n",
       "      <td>-0.225220</td>\n",
       "      <td>0.012658</td>\n",
       "      <td>-1.000000</td>\n",
       "      <td>0.000000</td>\n",
       "      <td>-0.998710</td>\n",
       "      <td>-0.27926</td>\n",
       "      <td>-7872.00000</td>\n",
       "      <td>-0.349060</td>\n",
       "      <td>-7.714000</td>\n",
       "      <td>-11.824000</td>\n",
       "      <td>-25.736000</td>\n",
       "      <td>-21.411000</td>\n",
       "      <td>-21.90700</td>\n",
       "      <td>15.91600</td>\n",
       "      <td>10.300000</td>\n",
       "      <td>7941.800000</td>\n",
       "      <td>-58.122000</td>\n",
       "      <td>10.400000</td>\n",
       "      <td>-10.665000</td>\n",
       "      <td>0.000000</td>\n",
       "      <td>22.000000</td>\n",
       "      <td>54.806000</td>\n",
       "      <td>24.318000</td>\n",
       "      <td>23.776000</td>\n",
       "      <td>15.250000</td>\n",
       "      <td>12.000000</td>\n",
       "      <td>-20.200000</td>\n",
       "      <td>1.000000</td>\n",
       "      <td>-0.499220</td>\n",
       "      <td>1.000000</td>\n",
       "      <td>2.000000</td>\n",
       "    </tr>\n",
       "    <tr>\n",
       "      <th>max</th>\n",
       "      <td>51.954000</td>\n",
       "      <td>0.740320</td>\n",
       "      <td>0.963330</td>\n",
       "      <td>6.835600e+00</td>\n",
       "      <td>0.647010</td>\n",
       "      <td>0.929550</td>\n",
       "      <td>38.836000</td>\n",
       "      <td>209000.000000</td>\n",
       "      <td>2.892200</td>\n",
       "      <td>0.76962</td>\n",
       "      <td>0.998110</td>\n",
       "      <td>3.830000e+07</td>\n",
       "      <td>0.983860</td>\n",
       "      <td>26.272000</td>\n",
       "      <td>3.960000e+06</td>\n",
       "      <td>42180.000000</td>\n",
       "      <td>3.540000e+06</td>\n",
       "      <td>0.596550</td>\n",
       "      <td>140000.000000</td>\n",
       "      <td>5.964600</td>\n",
       "      <td>13.398000</td>\n",
       "      <td>1.072100e+04</td>\n",
       "      <td>1.000000</td>\n",
       "      <td>0.932900</td>\n",
       "      <td>79551.000000</td>\n",
       "      <td>19.009000</td>\n",
       "      <td>2482.300000</td>\n",
       "      <td>4.625400</td>\n",
       "      <td>0.68071</td>\n",
       "      <td>0.948000</td>\n",
       "      <td>3.610000e+08</td>\n",
       "      <td>312000.000000</td>\n",
       "      <td>1.000000</td>\n",
       "      <td>4.350000e+06</td>\n",
       "      <td>1.020000e+08</td>\n",
       "      <td>5.766100</td>\n",
       "      <td>6.646800</td>\n",
       "      <td>12494.000000</td>\n",
       "      <td>290000.000000</td>\n",
       "      <td>0.977760</td>\n",
       "      <td>56.913000</td>\n",
       "      <td>482.600000</td>\n",
       "      <td>5731.700000</td>\n",
       "      <td>3201.900000</td>\n",
       "      <td>3.496000</td>\n",
       "      <td>34.063000</td>\n",
       "      <td>1.660000e+06</td>\n",
       "      <td>136000.00000</td>\n",
       "      <td>19.625000</td>\n",
       "      <td>1.553800</td>\n",
       "      <td>19.809000</td>\n",
       "      <td>46045.000000</td>\n",
       "      <td>0.904560</td>\n",
       "      <td>342000.000000</td>\n",
       "      <td>1.000000</td>\n",
       "      <td>0.806430</td>\n",
       "      <td>786.250000</td>\n",
       "      <td>0.24727</td>\n",
       "      <td>1.40290</td>\n",
       "      <td>0.863320</td>\n",
       "      <td>7.416600</td>\n",
       "      <td>15.381000</td>\n",
       "      <td>14.321000</td>\n",
       "      <td>18.770000</td>\n",
       "      <td>124.76000</td>\n",
       "      <td>39.43200</td>\n",
       "      <td>13.850000</td>\n",
       "      <td>34501.000000</td>\n",
       "      <td>364.950000</td>\n",
       "      <td>34.700000</td>\n",
       "      <td>61.476000</td>\n",
       "      <td>4.000000</td>\n",
       "      <td>36.750000</td>\n",
       "      <td>120.870000</td>\n",
       "      <td>227.500000</td>\n",
       "      <td>214.500000</td>\n",
       "      <td>22.000000</td>\n",
       "      <td>22.000000</td>\n",
       "      <td>8.600000</td>\n",
       "      <td>37.000000</td>\n",
       "      <td>128.400000</td>\n",
       "      <td>49.000000</td>\n",
       "      <td>73.000000</td>\n",
       "    </tr>\n",
       "    <tr>\n",
       "      <th>mean</th>\n",
       "      <td>1.401391</td>\n",
       "      <td>0.129969</td>\n",
       "      <td>0.614478</td>\n",
       "      <td>8.736285e-01</td>\n",
       "      <td>0.154939</td>\n",
       "      <td>0.108153</td>\n",
       "      <td>0.792444</td>\n",
       "      <td>56.976937</td>\n",
       "      <td>0.330593</td>\n",
       "      <td>0.13765</td>\n",
       "      <td>0.638430</td>\n",
       "      <td>1.302164e+05</td>\n",
       "      <td>0.385522</td>\n",
       "      <td>2.389097</td>\n",
       "      <td>8.983965e+03</td>\n",
       "      <td>-24.459713</td>\n",
       "      <td>2.423283e+03</td>\n",
       "      <td>0.041940</td>\n",
       "      <td>110.777881</td>\n",
       "      <td>0.106353</td>\n",
       "      <td>1.457453</td>\n",
       "      <td>1.578174e+01</td>\n",
       "      <td>0.272809</td>\n",
       "      <td>0.530278</td>\n",
       "      <td>1005.214993</td>\n",
       "      <td>13.278748</td>\n",
       "      <td>-116.211357</td>\n",
       "      <td>0.202216</td>\n",
       "      <td>0.08420</td>\n",
       "      <td>0.354331</td>\n",
       "      <td>4.592202e+05</td>\n",
       "      <td>424.209227</td>\n",
       "      <td>0.862016</td>\n",
       "      <td>3.224794e+03</td>\n",
       "      <td>6.415663e+04</td>\n",
       "      <td>0.241008</td>\n",
       "      <td>0.307843</td>\n",
       "      <td>15.481594</td>\n",
       "      <td>114.194077</td>\n",
       "      <td>0.260505</td>\n",
       "      <td>3.022500</td>\n",
       "      <td>0.738844</td>\n",
       "      <td>12.148407</td>\n",
       "      <td>3.528729</td>\n",
       "      <td>0.153273</td>\n",
       "      <td>0.307177</td>\n",
       "      <td>1.673733e+03</td>\n",
       "      <td>2490.91428</td>\n",
       "      <td>2.081255</td>\n",
       "      <td>0.727191</td>\n",
       "      <td>12.911536</td>\n",
       "      <td>-20.358305</td>\n",
       "      <td>0.207386</td>\n",
       "      <td>3682.663322</td>\n",
       "      <td>0.007861</td>\n",
       "      <td>0.236839</td>\n",
       "      <td>0.627828</td>\n",
       "      <td>-0.00979</td>\n",
       "      <td>-3.71581</td>\n",
       "      <td>0.113702</td>\n",
       "      <td>2.723413</td>\n",
       "      <td>3.466554</td>\n",
       "      <td>1.417702</td>\n",
       "      <td>-0.624893</td>\n",
       "      <td>31.00526</td>\n",
       "      <td>28.18821</td>\n",
       "      <td>11.448807</td>\n",
       "      <td>15835.009261</td>\n",
       "      <td>20.409864</td>\n",
       "      <td>17.809635</td>\n",
       "      <td>23.540521</td>\n",
       "      <td>1.921821</td>\n",
       "      <td>30.390444</td>\n",
       "      <td>86.786278</td>\n",
       "      <td>91.850979</td>\n",
       "      <td>89.040949</td>\n",
       "      <td>17.781016</td>\n",
       "      <td>15.215709</td>\n",
       "      <td>-2.593925</td>\n",
       "      <td>19.575486</td>\n",
       "      <td>1.115854</td>\n",
       "      <td>13.151751</td>\n",
       "      <td>32.953307</td>\n",
       "    </tr>\n",
       "  </tbody>\n",
       "</table>\n",
       "</div>"
      ],
      "text/plain": [
       "             x1        x2        x3            x4        x5        x6  \\\n",
       "min    0.075170 -0.247880  0.016135  5.350000e-07 -0.269790 -0.627750   \n",
       "max   51.954000  0.740320  0.963330  6.835600e+00  0.647010  0.929550   \n",
       "mean   1.401391  0.129969  0.614478  8.736285e-01  0.154939  0.108153   \n",
       "\n",
       "             x7             x8        x9      x10       x11           x12  \\\n",
       "min    0.039691 -145000.000000 -3.498500 -0.25648  0.021491 -2.620000e+06   \n",
       "max   38.836000  209000.000000  2.892200  0.76962  0.998110  3.830000e+07   \n",
       "mean   0.792444      56.976937  0.330593  0.13765  0.638430  1.302164e+05   \n",
       "\n",
       "           x13        x14           x15           x16           x17       x18  \\\n",
       "min   0.036667   0.016400  3.540000e-06 -35758.000000  0.000000e+00  0.000287   \n",
       "max   0.983860  26.272000  3.960000e+06  42180.000000  3.540000e+06  0.596550   \n",
       "mean  0.385522   2.389097  8.983965e+03    -24.459713  2.423283e+03  0.041940   \n",
       "\n",
       "                x19       x20        x21           x22       x23       x24  \\\n",
       "min        0.000000  0.000603   0.000003  7.730000e-07 -0.553850  0.016135   \n",
       "max   140000.000000  5.964600  13.398000  1.072100e+04  1.000000  0.932900   \n",
       "mean     110.777881  0.106353   1.457453  1.578174e+01  0.272809  0.530278   \n",
       "\n",
       "               x25        x26            x27       x28      x29       x30  \\\n",
       "min   -2302.800000   8.195100 -288000.000000 -0.499440  0.00000  0.002082   \n",
       "max   79551.000000  19.009000    2482.300000  4.625400  0.68071  0.948000   \n",
       "mean   1005.214993  13.278748    -116.211357  0.202216  0.08420  0.354331   \n",
       "\n",
       "               x31            x32       x33           x34           x35  \\\n",
       "min   0.000000e+00       0.010060  0.049372  4.560000e-05  0.000000e+00   \n",
       "max   3.610000e+08  312000.000000  1.000000  4.350000e+06  1.020000e+08   \n",
       "mean  4.592202e+05     424.209227  0.862016  3.224794e+03  6.415663e+04   \n",
       "\n",
       "           x36       x37           x38            x39       x40        x41  \\\n",
       "min  -4.856200  0.000000      0.000244      -1.000000  0.000170   0.000002   \n",
       "max   5.766100  6.646800  12494.000000  290000.000000  0.977760  56.913000   \n",
       "mean  0.241008  0.307843     15.481594     114.194077  0.260505   3.022500   \n",
       "\n",
       "             x42          x43          x44       x45        x46           x47  \\\n",
       "min  -214.820000     0.089251   -56.719000 -9.376900  -0.642120  1.640100e-02   \n",
       "max   482.600000  5731.700000  3201.900000  3.496000  34.063000  1.660000e+06   \n",
       "mean    0.738844    12.148407     3.528729  0.153273   0.307177  1.673733e+03   \n",
       "\n",
       "               x48        x49       x50        x51           x52       x53  \\\n",
       "min      533.07000   0.016400  0.000000   0.000000 -33563.000000 -0.225220   \n",
       "max   136000.00000  19.625000  1.553800  19.809000  46045.000000  0.904560   \n",
       "mean    2490.91428   2.081255  0.727191  12.911536    -20.358305  0.207386   \n",
       "\n",
       "                x54       x55       x56         x57      x58         x59  \\\n",
       "min        0.012658 -1.000000  0.000000   -0.998710 -0.27926 -7872.00000   \n",
       "max   342000.000000  1.000000  0.806430  786.250000  0.24727     1.40290   \n",
       "mean    3682.663322  0.007861  0.236839    0.627828 -0.00979    -3.71581   \n",
       "\n",
       "           x60       x61        x62        x63        x64        x65  \\\n",
       "min  -0.349060 -7.714000 -11.824000 -25.736000 -21.411000  -21.90700   \n",
       "max   0.863320  7.416600  15.381000  14.321000  18.770000  124.76000   \n",
       "mean  0.113702  2.723413   3.466554   1.417702  -0.624893   31.00526   \n",
       "\n",
       "           x66        x67           x68         x69        x70        x71  \\\n",
       "min   15.91600  10.300000   7941.800000  -58.122000  10.400000 -10.665000   \n",
       "max   39.43200  13.850000  34501.000000  364.950000  34.700000  61.476000   \n",
       "mean  28.18821  11.448807  15835.009261   20.409864  17.809635  23.540521   \n",
       "\n",
       "           x72        x73         x74         x75         x76        x77  \\\n",
       "min   0.000000  22.000000   54.806000   24.318000   23.776000  15.250000   \n",
       "max   4.000000  36.750000  120.870000  227.500000  214.500000  22.000000   \n",
       "mean  1.921821  30.390444   86.786278   91.850979   89.040949  17.781016   \n",
       "\n",
       "            x78        x79        x80         x81        x82        x83  \n",
       "min   12.000000 -20.200000   1.000000   -0.499220   1.000000   2.000000  \n",
       "max   22.000000   8.600000  37.000000  128.400000  49.000000  73.000000  \n",
       "mean  15.215709  -2.593925  19.575486    1.115854  13.151751  32.953307  "
      ]
     },
     "execution_count": 11,
     "metadata": {},
     "output_type": "execute_result"
    }
   ],
   "source": [
    "X_train.describe().loc[[\"min\", \"max\", \"mean\"]]"
   ]
  },
  {
   "cell_type": "markdown",
   "metadata": {},
   "source": [
    "Columns who might have outliers (based on the metrics in the previous cell)"
   ]
  },
  {
   "cell_type": "code",
   "execution_count": 12,
   "metadata": {},
   "outputs": [],
   "source": [
    "cols_to_check = [\"x1\", \"x7\", \"x14\", \"x15\", \"x19\", \"x20\", \"x21\", \"x22\", \"x25\", \"x27\", \"x28\", \n",
    "                \"x32\", \"x37\", \"x38\", \"x39\", \"x41\", \"x43\", \"x44\", \"x46\", \"x48\", \"x49\", \"x54\", \"x57\", \"x59\", \"x81\",]"
   ]
  },
  {
   "cell_type": "code",
   "execution_count": 13,
   "metadata": {},
   "outputs": [
    {
     "data": {
      "text/plain": [
       "<matplotlib.collections.PathCollection at 0xd1f3cd0>"
      ]
     },
     "execution_count": 13,
     "metadata": {},
     "output_type": "execute_result"
    },
    {
     "data": {
      "image/png": "[encoded data removed]",
      "text/plain": [
       "<Figure size 432x288 with 1 Axes>"
      ]
     },
     "metadata": {
      "needs_background": "light"
     },
     "output_type": "display_data"
    }
   ],
   "source": [
    "# plot x1 as an example\n",
    "plt.scatter(x=range(len(y_train)), y=X_train['x1'])"
   ]
  },
  {
   "cell_type": "code",
   "execution_count": 14,
   "metadata": {},
   "outputs": [],
   "source": [
    "def plot_outlier_cols(data, columns, n=1):\n",
    "    \n",
    "    plt.figure(figsize=(20,10))\n",
    "    \n",
    "    for col in columns:\n",
    "        \n",
    "        \n",
    "        plt.subplot(5,6,n)\n",
    "        data[col].plot(ax=plt.gca())\n",
    "        plt.legend()\n",
    "        \n",
    "        n += 1"
   ]
  },
  {
   "cell_type": "code",
   "execution_count": 15,
   "metadata": {},
   "outputs": [
    {
     "data": {
      "image/png": "[encoded data removed]",
      "text/plain": [
       "<Figure size 1440x720 with 25 Axes>"
      ]
     },
     "metadata": {
      "needs_background": "light"
     },
     "output_type": "display_data"
    }
   ],
   "source": [
    "plot_outlier_cols(X_train, cols_to_check)"
   ]
  },
  {
   "cell_type": "markdown",
   "metadata": {},
   "source": [
    "Here we can see that there are outliers on most of the plots. <br>\n",
    "In addition a particular row is causing noise on multiple features <br>\n",
    "To solve this problem, later, I am going to perform standardization of the independent variables"
   ]
  },
  {
   "cell_type": "markdown",
   "metadata": {},
   "source": [
    "### Simple Feature engineering"
   ]
  },
  {
   "cell_type": "markdown",
   "metadata": {},
   "source": [
    "- I am going to discard the features that have an absolute correlation score of 0.1 or less towards the target <br>\n",
    "- Then I am going to check the rest of the features with a confusion matrix, and see if there are high correlations between the independent features themselves"
   ]
  },
  {
   "cell_type": "code",
   "execution_count": 16,
   "metadata": {},
   "outputs": [
    {
     "data": {
      "text/plain": [
       "Index(['x1', 'x2', 'x3', 'x4', 'x5', 'x6', 'x7', 'x8', 'x9', 'x10', 'x11',\n",
       "       'x12', 'x13', 'x14', 'x15', 'x16', 'x17', 'x18', 'x19', 'x20', 'x21',\n",
       "       'x22', 'x23', 'x24', 'x25', 'x26', 'x27', 'x28', 'x29', 'x30', 'x31',\n",
       "       'x32', 'x33', 'x34', 'x35', 'x36', 'x37', 'x38', 'x39', 'x40', 'x41',\n",
       "       'x42', 'x43', 'x44', 'x45', 'x46', 'x47', 'x48', 'x49', 'x50', 'x51',\n",
       "       'x52', 'x53', 'x54', 'x55', 'x56', 'x57', 'x58', 'x59', 'x60', 'x61',\n",
       "       'x62', 'x63', 'x64', 'x65', 'x66', 'x67', 'x68', 'x69', 'x70', 'x71',\n",
       "       'x72', 'x73', 'x74', 'x75', 'x76', 'x77', 'x78', 'x79', 'x80', 'x81',\n",
       "       'x82', 'x83', 'Financial Distress'],\n",
       "      dtype='object')"
      ]
     },
     "execution_count": 16,
     "metadata": {},
     "output_type": "execute_result"
    }
   ],
   "source": [
    "train_data.columns"
   ]
  },
  {
   "cell_type": "code",
   "execution_count": 17,
   "metadata": {},
   "outputs": [],
   "source": [
    "corr_matrix = train_data.corr()"
   ]
  },
  {
   "cell_type": "code",
   "execution_count": 18,
   "metadata": {},
   "outputs": [
    {
     "data": {
      "text/plain": [
       "Financial Distress    1.000000\n",
       "x14                   0.266849\n",
       "x9                    0.260128\n",
       "x49                   0.246892\n",
       "x2                    0.226905\n",
       "x10                   0.218722\n",
       "x5                    0.208428\n",
       "x13                   0.195865\n",
       "x3                    0.195865\n",
       "x37                   0.190276\n",
       "x55                   0.183245\n",
       "x53                   0.170101\n",
       "x36                   0.163028\n",
       "x23                   0.161423\n",
       "x50                   0.161420\n",
       "x24                   0.151351\n",
       "x60                   0.143300\n",
       "x45                   0.121897\n",
       "x6                    0.109445\n",
       "x59                   0.105075\n",
       "Name: Financial Distress, dtype: float64"
      ]
     },
     "execution_count": 18,
     "metadata": {},
     "output_type": "execute_result"
    }
   ],
   "source": [
    "# print how many features are left after performing the correlation analysis\n",
    "target_corr = abs(corr_matrix[\"Financial Distress\"]).sort_values(ascending=False)\n",
    "target_corr.head(20)"
   ]
  },
  {
   "cell_type": "code",
   "execution_count": 19,
   "metadata": {},
   "outputs": [
    {
     "data": {
      "text/plain": [
       "['x14',\n",
       " 'x9',\n",
       " 'x49',\n",
       " 'x2',\n",
       " 'x10',\n",
       " 'x5',\n",
       " 'x13',\n",
       " 'x3',\n",
       " 'x37',\n",
       " 'x55',\n",
       " 'x53',\n",
       " 'x36',\n",
       " 'x23',\n",
       " 'x50',\n",
       " 'x24',\n",
       " 'x60',\n",
       " 'x45',\n",
       " 'x6',\n",
       " 'x59']"
      ]
     },
     "execution_count": 19,
     "metadata": {},
     "output_type": "execute_result"
    }
   ],
   "source": [
    "criteria = list(target_corr > 0.1)\n",
    "features = list(target_corr[criteria].index)[1:]\n",
    "features"
   ]
  },
  {
   "cell_type": "code",
   "execution_count": 20,
   "metadata": {},
   "outputs": [
    {
     "data": {
      "text/plain": [
       "19"
      ]
     },
     "execution_count": 20,
     "metadata": {},
     "output_type": "execute_result"
    }
   ],
   "source": [
    "len(features)"
   ]
  },
  {
   "cell_type": "code",
   "execution_count": 21,
   "metadata": {},
   "outputs": [],
   "source": [
    "corr_features_matrix = train_data[features].corr()"
   ]
  },
  {
   "cell_type": "markdown",
   "metadata": {},
   "source": [
    "Now the remaining 19 features are going to be checked for similarities between them and those who have strong correlation (positive or negative) will be discarded."
   ]
  },
  {
   "cell_type": "code",
   "execution_count": 22,
   "metadata": {},
   "outputs": [
    {
     "data": {
      "text/plain": [
       "<matplotlib.axes._subplots.AxesSubplot at 0xe5e8520>"
      ]
     },
     "execution_count": 22,
     "metadata": {},
     "output_type": "execute_result"
    },
    {
     "data": {
      "image/png": "[encoded data removed]",
      "text/plain": [
       "<Figure size 432x288 with 2 Axes>"
      ]
     },
     "metadata": {
      "needs_background": "light"
     },
     "output_type": "display_data"
    }
   ],
   "source": [
    "sns.heatmap(train_data[features].corr(), cmap=\"Purples\")"
   ]
  },
  {
   "cell_type": "markdown",
   "metadata": {},
   "source": [
    "Seems like there is a strong positive correlation between features <br>\n",
    "- x14 and x49; x14 and x3; x14 and x24; <br>\n",
    "- x2 and x5; x2 and x10; x6 and x45\n",
    "\n",
    "\n",
    "strong negative correlated features are: <br>\n",
    "\n",
    "- x3 and x13; x23 and x50\n",
    "\n",
    "Based on that I decide to remove the following features: x49, x3, x24, x5, x10, x45, x50"
   ]
  },
  {
   "cell_type": "code",
   "execution_count": 23,
   "metadata": {},
   "outputs": [
    {
     "data": {
      "text/plain": [
       "12"
      ]
     },
     "execution_count": 23,
     "metadata": {},
     "output_type": "execute_result"
    }
   ],
   "source": [
    "# print the number of features remaining after the feature engineering\n",
    "features_to_drop = [\"x49\", \"x3\", \"x24\", \"x5\", \"x10\", \"x45\", \"x50\"]\n",
    "features_selected = [col for col in features if col not in features_to_drop]\n",
    "len(features_selected)"
   ]
  },
  {
   "cell_type": "code",
   "execution_count": 24,
   "metadata": {},
   "outputs": [],
   "source": [
    "X_train_final = X_train[features_selected]\n",
    "X_test_final = X_test[features_selected]"
   ]
  },
  {
   "cell_type": "markdown",
   "metadata": {},
   "source": [
    "## Over-sampling"
   ]
  },
  {
   "cell_type": "markdown",
   "metadata": {},
   "source": [
    "Before doing standardization I am going to balance the target classes by oversampling the training data. For this I am going to use SMOTE algorithm"
   ]
  },
  {
   "cell_type": "code",
   "execution_count": 25,
   "metadata": {},
   "outputs": [
    {
     "name": "stdout",
     "output_type": "stream",
     "text": [
      "Length of the normal data:  2570\n",
      "Length of the oversampled data:  4974\n",
      "Number of 0s before:  2487\n",
      "Number of 0s in oversampled data:  2487\n",
      "Number of 1s before:  83\n",
      "Number of 1s in oversampled data:  2487\n",
      "Proportion of 0s in oversampled data is:  0.5\n",
      "Proportion of 1s in oversampled data is:  0.5\n"
     ]
    }
   ],
   "source": [
    "os = SMOTE(random_state=42)\n",
    "\n",
    "os_data_X_tr, os_data_y_tr = os.fit_sample(X_train_final, y_train)\n",
    "os_data_X_tr = pd.DataFrame(data=os_data_X_tr ,columns=features_selected)\n",
    "os_data_y_tr = pd.DataFrame(data=os_data_y_tr, columns=[\"Financial Distress\"])\n",
    "\n",
    "\n",
    "# we can Check the numbers of our data\n",
    "\n",
    "print(\"Length of the normal data: \",len(X_train_final))\n",
    "\n",
    "print(\"Length of the oversampled data: \",len(os_data_X_tr))\n",
    "\n",
    "print(\"Number of 0s before: \", len(y_train[y_train==0]))\n",
    "\n",
    "print(\"Number of 0s in oversampled data: \",\n",
    "      len(os_data_y_tr[os_data_y_tr[\"Financial Distress\"]==0]))\n",
    "\n",
    "print(\"Number of 1s before: \", len(y_train[y_train==1]))\n",
    "\n",
    "print(\"Number of 1s in oversampled data: \",len(os_data_y_tr[os_data_y_tr[\"Financial Distress\"]==1]))\n",
    "\n",
    "\n",
    "print(\"Proportion of 0s in oversampled data is: \",\n",
    "      len(os_data_y_tr[os_data_y_tr[\"Financial Distress\"]==0])/len(os_data_X_tr))\n",
    "\n",
    "print(\"Proportion of 1s in oversampled data is: \",\n",
    "      len(os_data_y_tr[os_data_y_tr[\"Financial Distress\"]==1])/len(os_data_X_tr))\n",
    "\n"
   ]
  },
  {
   "cell_type": "code",
   "execution_count": 26,
   "metadata": {},
   "outputs": [
    {
     "data": {
      "text/plain": [
       "(4974, 12)"
      ]
     },
     "execution_count": 26,
     "metadata": {},
     "output_type": "execute_result"
    }
   ],
   "source": [
    "os_data_X_tr.shape"
   ]
  },
  {
   "cell_type": "markdown",
   "metadata": {},
   "source": [
    "## Standardization of the data"
   ]
  },
  {
   "cell_type": "code",
   "execution_count": 27,
   "metadata": {},
   "outputs": [],
   "source": [
    "scaler = StandardScaler()\n",
    "\n",
    "os_X_train_scaled = scaler.fit_transform(os_data_X_tr)\n",
    "os_X_train = pd.DataFrame(data=os_X_train_scaled, columns=features_selected)\n",
    "os_y_train_values = os_data_y_tr.values.ravel()\n"
   ]
  },
  {
   "cell_type": "code",
   "execution_count": 28,
   "metadata": {},
   "outputs": [
    {
     "data": {
      "text/html": [
       "<div>\n",
       "<style scoped>\n",
       "    .dataframe tbody tr th:only-of-type {\n",
       "        vertical-align: middle;\n",
       "    }\n",
       "\n",
       "    .dataframe tbody tr th {\n",
       "        vertical-align: top;\n",
       "    }\n",
       "\n",
       "    .dataframe thead th {\n",
       "        text-align: right;\n",
       "    }\n",
       "</style>\n",
       "<table border=\"1\" class=\"dataframe\">\n",
       "  <thead>\n",
       "    <tr style=\"text-align: right;\">\n",
       "      <th></th>\n",
       "      <th>x14</th>\n",
       "      <th>x9</th>\n",
       "      <th>x2</th>\n",
       "      <th>x13</th>\n",
       "      <th>x37</th>\n",
       "      <th>x55</th>\n",
       "      <th>x53</th>\n",
       "      <th>x36</th>\n",
       "      <th>x23</th>\n",
       "      <th>x60</th>\n",
       "      <th>x6</th>\n",
       "      <th>x59</th>\n",
       "    </tr>\n",
       "  </thead>\n",
       "  <tbody>\n",
       "    <tr>\n",
       "      <th>count</th>\n",
       "      <td>4.974000e+03</td>\n",
       "      <td>4.974000e+03</td>\n",
       "      <td>4.974000e+03</td>\n",
       "      <td>4.974000e+03</td>\n",
       "      <td>4.974000e+03</td>\n",
       "      <td>4.974000e+03</td>\n",
       "      <td>4.974000e+03</td>\n",
       "      <td>4.974000e+03</td>\n",
       "      <td>4.974000e+03</td>\n",
       "      <td>4.974000e+03</td>\n",
       "      <td>4.974000e+03</td>\n",
       "      <td>4.974000e+03</td>\n",
       "    </tr>\n",
       "    <tr>\n",
       "      <th>mean</th>\n",
       "      <td>-1.667343e-16</td>\n",
       "      <td>-3.329107e-17</td>\n",
       "      <td>-1.106006e-15</td>\n",
       "      <td>-1.114666e-16</td>\n",
       "      <td>-7.934947e-16</td>\n",
       "      <td>-3.873728e-15</td>\n",
       "      <td>-4.380850e-16</td>\n",
       "      <td>-3.422183e-16</td>\n",
       "      <td>4.529728e-16</td>\n",
       "      <td>3.602355e-15</td>\n",
       "      <td>-4.524817e-16</td>\n",
       "      <td>-5.453351e-16</td>\n",
       "    </tr>\n",
       "    <tr>\n",
       "      <th>std</th>\n",
       "      <td>1.000101e+00</td>\n",
       "      <td>1.000101e+00</td>\n",
       "      <td>1.000101e+00</td>\n",
       "      <td>1.000101e+00</td>\n",
       "      <td>1.000101e+00</td>\n",
       "      <td>1.000101e+00</td>\n",
       "      <td>1.000101e+00</td>\n",
       "      <td>1.000101e+00</td>\n",
       "      <td>1.000101e+00</td>\n",
       "      <td>1.000101e+00</td>\n",
       "      <td>1.000101e+00</td>\n",
       "      <td>1.000101e+00</td>\n",
       "    </tr>\n",
       "    <tr>\n",
       "      <th>min</th>\n",
       "      <td>-1.165988e+00</td>\n",
       "      <td>-9.087248e+00</td>\n",
       "      <td>-2.589667e+00</td>\n",
       "      <td>-1.469586e+00</td>\n",
       "      <td>-8.297688e-01</td>\n",
       "      <td>-1.350105e+00</td>\n",
       "      <td>-3.104037e+00</td>\n",
       "      <td>-1.788510e+01</td>\n",
       "      <td>-4.883265e+00</td>\n",
       "      <td>-4.172429e+00</td>\n",
       "      <td>-3.372043e+00</td>\n",
       "      <td>-1.622336e+01</td>\n",
       "    </tr>\n",
       "    <tr>\n",
       "      <th>25%</th>\n",
       "      <td>-7.172852e-01</td>\n",
       "      <td>-5.615063e-01</td>\n",
       "      <td>-6.893668e-01</td>\n",
       "      <td>-7.711858e-01</td>\n",
       "      <td>-6.051232e-01</td>\n",
       "      <td>-1.060448e+00</td>\n",
       "      <td>-7.303565e-01</td>\n",
       "      <td>-5.243490e-01</td>\n",
       "      <td>-6.756322e-01</td>\n",
       "      <td>-7.536450e-01</td>\n",
       "      <td>-5.995355e-01</td>\n",
       "      <td>7.623240e-02</td>\n",
       "    </tr>\n",
       "    <tr>\n",
       "      <th>50%</th>\n",
       "      <td>-2.787125e-01</td>\n",
       "      <td>2.911023e-02</td>\n",
       "      <td>-2.574023e-01</td>\n",
       "      <td>-2.557895e-01</td>\n",
       "      <td>-2.734711e-01</td>\n",
       "      <td>1.690770e-01</td>\n",
       "      <td>-2.300702e-01</td>\n",
       "      <td>-2.498695e-01</td>\n",
       "      <td>-1.939543e-01</td>\n",
       "      <td>-4.360867e-01</td>\n",
       "      <td>-1.614457e-03</td>\n",
       "      <td>7.627555e-02</td>\n",
       "    </tr>\n",
       "    <tr>\n",
       "      <th>75%</th>\n",
       "      <td>3.892654e-01</td>\n",
       "      <td>5.747676e-01</td>\n",
       "      <td>4.605222e-01</td>\n",
       "      <td>5.810190e-01</td>\n",
       "      <td>1.463412e-01</td>\n",
       "      <td>6.713299e-01</td>\n",
       "      <td>4.803598e-01</td>\n",
       "      <td>2.454486e-01</td>\n",
       "      <td>4.682897e-01</td>\n",
       "      <td>8.585566e-01</td>\n",
       "      <td>5.707663e-01</td>\n",
       "      <td>7.628809e-02</td>\n",
       "    </tr>\n",
       "    <tr>\n",
       "      <th>max</th>\n",
       "      <td>6.506904e+00</td>\n",
       "      <td>7.048658e+00</td>\n",
       "      <td>5.782289e+00</td>\n",
       "      <td>3.989731e+00</td>\n",
       "      <td>1.016117e+01</td>\n",
       "      <td>2.114126e+00</td>\n",
       "      <td>6.232450e+00</td>\n",
       "      <td>2.037616e+01</td>\n",
       "      <td>5.178056e+00</td>\n",
       "      <td>7.701935e+00</td>\n",
       "      <td>4.379431e+00</td>\n",
       "      <td>7.919291e-02</td>\n",
       "    </tr>\n",
       "  </tbody>\n",
       "</table>\n",
       "</div>"
      ],
      "text/plain": [
       "                x14            x9            x2           x13           x37  \\\n",
       "count  4.974000e+03  4.974000e+03  4.974000e+03  4.974000e+03  4.974000e+03   \n",
       "mean  -1.667343e-16 -3.329107e-17 -1.106006e-15 -1.114666e-16 -7.934947e-16   \n",
       "std    1.000101e+00  1.000101e+00  1.000101e+00  1.000101e+00  1.000101e+00   \n",
       "min   -1.165988e+00 -9.087248e+00 -2.589667e+00 -1.469586e+00 -8.297688e-01   \n",
       "25%   -7.172852e-01 -5.615063e-01 -6.893668e-01 -7.711858e-01 -6.051232e-01   \n",
       "50%   -2.787125e-01  2.911023e-02 -2.574023e-01 -2.557895e-01 -2.734711e-01   \n",
       "75%    3.892654e-01  5.747676e-01  4.605222e-01  5.810190e-01  1.463412e-01   \n",
       "max    6.506904e+00  7.048658e+00  5.782289e+00  3.989731e+00  1.016117e+01   \n",
       "\n",
       "                x55           x53           x36           x23           x60  \\\n",
       "count  4.974000e+03  4.974000e+03  4.974000e+03  4.974000e+03  4.974000e+03   \n",
       "mean  -3.873728e-15 -4.380850e-16 -3.422183e-16  4.529728e-16  3.602355e-15   \n",
       "std    1.000101e+00  1.000101e+00  1.000101e+00  1.000101e+00  1.000101e+00   \n",
       "min   -1.350105e+00 -3.104037e+00 -1.788510e+01 -4.883265e+00 -4.172429e+00   \n",
       "25%   -1.060448e+00 -7.303565e-01 -5.243490e-01 -6.756322e-01 -7.536450e-01   \n",
       "50%    1.690770e-01 -2.300702e-01 -2.498695e-01 -1.939543e-01 -4.360867e-01   \n",
       "75%    6.713299e-01  4.803598e-01  2.454486e-01  4.682897e-01  8.585566e-01   \n",
       "max    2.114126e+00  6.232450e+00  2.037616e+01  5.178056e+00  7.701935e+00   \n",
       "\n",
       "                 x6           x59  \n",
       "count  4.974000e+03  4.974000e+03  \n",
       "mean  -4.524817e-16 -5.453351e-16  \n",
       "std    1.000101e+00  1.000101e+00  \n",
       "min   -3.372043e+00 -1.622336e+01  \n",
       "25%   -5.995355e-01  7.623240e-02  \n",
       "50%   -1.614457e-03  7.627555e-02  \n",
       "75%    5.707663e-01  7.628809e-02  \n",
       "max    4.379431e+00  7.919291e-02  "
      ]
     },
     "execution_count": 28,
     "metadata": {},
     "output_type": "execute_result"
    }
   ],
   "source": [
    "os_X_train.describe()"
   ]
  },
  {
   "cell_type": "markdown",
   "metadata": {
    "scrolled": true
   },
   "source": [
    "### Test some models"
   ]
  },
  {
   "cell_type": "code",
   "execution_count": 29,
   "metadata": {},
   "outputs": [],
   "source": [
    "sgd_clf = SGDClassifier(loss=\"log\", max_iter=1000, tol=-np.infty, random_state=24)\n",
    "log_reg_clf = LogisticRegression()\n",
    "forest_clf = RandomForestClassifier(n_estimators=10, random_state=24)\n",
    "gr_boost_clf = GradientBoostingClassifier()\n",
    "xgb_clf = XGBClassifier()\n",
    "lgbm_clf = LGBMClassifier()"
   ]
  },
  {
   "cell_type": "code",
   "execution_count": 30,
   "metadata": {},
   "outputs": [],
   "source": [
    "def select_model(model, X, y, predict_proba=False):\n",
    "    \n",
    "    model.fit(X, y)\n",
    "    model_score = cross_val_score(model, X, y, cv=5, scoring=\"accuracy\")\n",
    "    \n",
    "    y_model_predict = cross_val_predict(model, X, y, cv=5)\n",
    "    \n",
    "    if predict_proba:\n",
    "        y_probas = cross_val_predict(model, X, y, cv=5,\n",
    "                             method=\"predict_proba\")\n",
    "        y_scores = y_probas[:, 1]\n",
    "    else:\n",
    "        y_scores = cross_val_predict(model, X, y, cv=5,\n",
    "                             method=\"decision_function\")\n",
    "    \n",
    "    \n",
    "    conf_matrix = confusion_matrix(y, y_model_predict)\n",
    "    precision_sc = precision_score(y, y_model_predict)\n",
    "    recall_sc = recall_score(y, y_model_predict)\n",
    "    f1_sc = f1_score(y, y_model_predict)\n",
    "    \n",
    "    \n",
    "    print(f\" Results for the {model} are:\")\n",
    "    print()\n",
    "    print(f\" Accuracy score: {model_score.mean()}\")\n",
    "    print()\n",
    "    print(f\" Confusion matrix: \\n {conf_matrix}\")\n",
    "    print()\n",
    "    print(f\" Precision: {precision_sc}\")\n",
    "    print(f\" Recall: {recall_sc}\")\n",
    "    print(f\" F1 score: {f1_sc}\")\n",
    "    \n",
    "    return y_scores, y_model_predict"
   ]
  },
  {
   "cell_type": "code",
   "execution_count": 31,
   "metadata": {
    "scrolled": true
   },
   "outputs": [
    {
     "name": "stdout",
     "output_type": "stream",
     "text": [
      " Results for the SGDClassifier(loss='log', random_state=24, tol=-inf) are:\n",
      "\n",
      " Accuracy score: 0.882185980202825\n",
      "\n",
      " Confusion matrix: \n",
      " [[2130  357]\n",
      " [ 229 2258]]\n",
      "\n",
      " Precision: 0.8634799235181644\n",
      " Recall: 0.9079211901889828\n",
      " F1 score: 0.8851430811446491\n"
     ]
    }
   ],
   "source": [
    "y_scores_sgd, y_predict_sgd = select_model(sgd_clf, os_X_train, os_y_train_values)"
   ]
  },
  {
   "cell_type": "code",
   "execution_count": 32,
   "metadata": {},
   "outputs": [
    {
     "name": "stdout",
     "output_type": "stream",
     "text": [
      " Results for the LogisticRegression() are:\n",
      "\n",
      " Accuracy score: 0.8821863846394953\n",
      "\n",
      " Confusion matrix: \n",
      " [[2127  360]\n",
      " [ 226 2261]]\n",
      "\n",
      " Precision: 0.8626478443342236\n",
      " Recall: 0.9091274628065943\n",
      " F1 score: 0.8852779953014878\n"
     ]
    }
   ],
   "source": [
    "y_scores_log_reg, y_predict_log_reg = select_model(log_reg_clf, os_X_train, os_y_train_values)"
   ]
  },
  {
   "cell_type": "code",
   "execution_count": 33,
   "metadata": {},
   "outputs": [
    {
     "name": "stdout",
     "output_type": "stream",
     "text": [
      " Results for the RandomForestClassifier(n_estimators=10, random_state=24) are:\n",
      "\n",
      " Accuracy score: 0.965821259213573\n",
      "\n",
      " Confusion matrix: \n",
      " [[2357  130]\n",
      " [  40 2447]]\n",
      "\n",
      " Precision: 0.9495537446643384\n",
      " Recall: 0.9839163650985122\n",
      " F1 score: 0.9664296998420221\n"
     ]
    }
   ],
   "source": [
    "y_scores_forest, y_predict_forest = select_model(forest_clf, os_X_train, os_y_train_values, predict_proba=True)"
   ]
  },
  {
   "cell_type": "code",
   "execution_count": 34,
   "metadata": {},
   "outputs": [
    {
     "name": "stdout",
     "output_type": "stream",
     "text": [
      " Results for the GradientBoostingClassifier() are:\n",
      "\n",
      " Accuracy score: 0.9422996269071717\n",
      "\n",
      " Confusion matrix: \n",
      " [[2235  252]\n",
      " [  41 2446]]\n",
      "\n",
      " Precision: 0.9065974796145293\n",
      " Recall: 0.983514274225975\n",
      " F1 score: 0.9434908389585343\n"
     ]
    }
   ],
   "source": [
    "y_scores_grb, y_predict_grb = select_model(gr_boost_clf, os_X_train, os_y_train_values, predict_proba=True)"
   ]
  },
  {
   "cell_type": "code",
   "execution_count": 35,
   "metadata": {},
   "outputs": [
    {
     "name": "stdout",
     "output_type": "stream",
     "text": [
      " Results for the XGBClassifier(base_score=0.5, booster='gbtree', colsample_bylevel=1,\n",
      "              colsample_bynode=1, colsample_bytree=1, gamma=0, gpu_id=-1,\n",
      "              importance_type='gain', interaction_constraints='',\n",
      "              learning_rate=0.300000012, max_delta_step=0, max_depth=6,\n",
      "              min_child_weight=1, missing=nan, monotone_constraints='()',\n",
      "              n_estimators=100, n_jobs=0, num_parallel_tree=1, random_state=0,\n",
      "              reg_alpha=0, reg_lambda=1, scale_pos_weight=1, subsample=1,\n",
      "              tree_method='exact', validate_parameters=1, verbosity=None) are:\n",
      "\n",
      " Accuracy score: 0.9682345328250911\n",
      "\n",
      " Confusion matrix: \n",
      " [[2344  143]\n",
      " [  15 2472]]\n",
      "\n",
      " Precision: 0.9453154875717017\n",
      " Recall: 0.9939686369119421\n",
      " F1 score: 0.969031752254018\n"
     ]
    }
   ],
   "source": [
    "y_scores_xgb, y_predict_xgb = select_model(xgb_clf, os_X_train, os_y_train_values, predict_proba=True)"
   ]
  },
  {
   "cell_type": "code",
   "execution_count": 36,
   "metadata": {},
   "outputs": [
    {
     "name": "stdout",
     "output_type": "stream",
     "text": [
      " Results for the LGBMClassifier() are:\n",
      "\n",
      " Accuracy score: 0.9698427752444314\n",
      "\n",
      " Confusion matrix: \n",
      " [[2354  133]\n",
      " [  17 2470]]\n",
      "\n",
      " Precision: 0.948905109489051\n",
      " Recall: 0.9931644551668677\n",
      " F1 score: 0.9705304518664047\n"
     ]
    }
   ],
   "source": [
    "y_scores_lgbm, y_predict_lgbm = select_model(lgbm_clf, os_X_train, os_y_train_values, predict_proba=True)"
   ]
  },
  {
   "cell_type": "markdown",
   "metadata": {},
   "source": [
    "### Precision-Recall and ROC Curves"
   ]
  },
  {
   "cell_type": "markdown",
   "metadata": {},
   "source": [
    "Below there is a comparison for all of the models with the usage of PR and ROC Curves"
   ]
  },
  {
   "cell_type": "code",
   "execution_count": 37,
   "metadata": {},
   "outputs": [],
   "source": [
    "precisions_sgd, recalls_sgd, thresholds_sgd = precision_recall_curve(os_y_train_values, y_scores_sgd)\n",
    "precisions_log_reg, recalls_log_reg, thresholds_log_reg = precision_recall_curve(os_y_train_values, y_scores_log_reg)\n",
    "precisions_forest, recalls_forest, thresholds_forest = precision_recall_curve(os_y_train_values, y_scores_forest)\n",
    "precisions_grb, recalls_grb, thresholds_grb = precision_recall_curve(os_y_train_values, y_scores_grb)\n",
    "precisions_xgb, recalls_xgb, thresholds_xgb = precision_recall_curve(os_y_train_values, y_scores_xgb)\n",
    "precisions_lgbm, recalls_lgbm, thresholds_lgbm = precision_recall_curve(os_y_train_values, y_scores_lgbm)"
   ]
  },
  {
   "cell_type": "code",
   "execution_count": 38,
   "metadata": {},
   "outputs": [
    {
     "data": {
      "image/png": "[encoded data removed]",
      "text/plain": [
       "<Figure size 576x432 with 1 Axes>"
      ]
     },
     "metadata": {
      "needs_background": "light"
     },
     "output_type": "display_data"
    }
   ],
   "source": [
    "def plot_precision_vs_recall(precisions, recalls, color=\"g\", label=None):\n",
    "    plt.plot(recalls, precisions, color=color, linestyle='dashed', linewidth=2, label=label)\n",
    "    plt.xlabel(\"Recall\", fontsize=16)\n",
    "    plt.ylabel(\"Precision\", fontsize=16)\n",
    "    plt.axis([0, 1, 0, 1])\n",
    "    plt.title(\"PR Curves\", fontsize=18)\n",
    "    plt.ylim(0, 1.2)\n",
    "\n",
    "plt.figure(figsize=(8, 6))\n",
    "plot_precision_vs_recall(precisions_sgd, recalls_sgd, label=\"SGD\")\n",
    "plot_precision_vs_recall(precisions_log_reg, recalls_log_reg, color=\"#b55167\", label=\"LogReg\")\n",
    "plot_precision_vs_recall(precisions_forest, recalls_forest, color=\"#d000eb\", label=\"RF\")\n",
    "plot_precision_vs_recall(precisions_grb, recalls_grb, color=\"#ebc700\", label=\"GRB\")\n",
    "plot_precision_vs_recall(precisions_xgb, recalls_xgb, color=\"r\", label=\"XGB\")\n",
    "plot_precision_vs_recall(precisions_lgbm, recalls_lgbm, color=\"c\", label=\"LGBM\")\n",
    "plt.legend()\n",
    "plt.show()"
   ]
  },
  {
   "cell_type": "code",
   "execution_count": 39,
   "metadata": {},
   "outputs": [
    {
     "data": {
      "image/png": "[encoded data removed]",
      "text/plain": [
       "<Figure size 576x432 with 1 Axes>"
      ]
     },
     "metadata": {
      "needs_background": "light"
     },
     "output_type": "display_data"
    }
   ],
   "source": [
    "fpr_sgd, tpr_sgd, thresholds_sgd = roc_curve(os_y_train_values, y_scores_sgd)\n",
    "fpr_log_reg, tpr_log_reg, thresholds_log_reg = roc_curve(os_y_train_values, y_scores_log_reg)\n",
    "fpr_forest, tpr_forest, thresholds_forest = roc_curve(os_y_train_values, y_scores_forest)\n",
    "fpr_grb, tpr_grb, thresholds_grb = roc_curve(os_y_train_values, y_scores_grb)\n",
    "fpr_xgb, tpr_xgb, thresholds_xgb = roc_curve(os_y_train_values, y_scores_xgb)\n",
    "fpr_lgbm, tpr_lgbm, thresholds_lgbm = roc_curve(os_y_train_values, y_scores_lgbm)\n",
    "\n",
    "def plot_roc_curve(fpr, tpr, color=\"g\", label=None):\n",
    "    plt.plot(fpr, tpr, linewidth=2, color=color, label=label)\n",
    "    plt.plot([0, 1], [0, 1], 'k--')\n",
    "    plt.axis([0, 1, 0, 1])\n",
    "    plt.xlabel('False Positive Rate', fontsize=16)\n",
    "    plt.ylabel('True Positive Rate', fontsize=16)\n",
    "    plt.title(\"ROC Curves\", fontsize=18)\n",
    "    plt.ylim(0, 1.1)\n",
    "\n",
    "plt.figure(figsize=(8, 6))\n",
    "plot_roc_curve(fpr_sgd, tpr_sgd, label=\"SGD\")\n",
    "plot_roc_curve(fpr_log_reg, tpr_log_reg, color=\"#b55167\", label=\"LogReg\")\n",
    "plot_roc_curve(fpr_forest, tpr_forest, color=\"#d000eb\", label=\"RF\")\n",
    "plot_roc_curve(fpr_grb, tpr_grb, color=\"#ebc700\", label=\"GRB\")\n",
    "plot_roc_curve(fpr_xgb, tpr_xgb, color=\"r\", label=\"XGB\")\n",
    "plot_roc_curve(fpr_lgbm, tpr_lgbm, color=\"c\", label=\"LGBM\")\n",
    "plt.legend()\n",
    "plt.show()"
   ]
  },
  {
   "cell_type": "code",
   "execution_count": 40,
   "metadata": {},
   "outputs": [
    {
     "name": "stdout",
     "output_type": "stream",
     "text": [
      " ROC AUC Score SGD: 0.9500348333246836\n",
      " ROC AUC Score LogReg: 0.9501727438652041\n",
      " ROC AUC Score RF: 0.9925478188227355\n",
      " ROC AUC Score GRB: 0.9832936658642635\n",
      " ROC AUC Score XGB: 0.994566599554515\n",
      " ROC AUC Score LGBM: 0.995587186057487\n"
     ]
    }
   ],
   "source": [
    "print(f\" ROC AUC Score SGD: {roc_auc_score(os_y_train_values, y_scores_sgd)}\")\n",
    "print(f\" ROC AUC Score LogReg: {roc_auc_score(os_y_train_values, y_scores_log_reg)}\")\n",
    "print(f\" ROC AUC Score RF: {roc_auc_score(os_y_train_values, y_scores_forest)}\")\n",
    "print(f\" ROC AUC Score GRB: {roc_auc_score(os_y_train_values, y_scores_grb)}\")\n",
    "print(f\" ROC AUC Score XGB: {roc_auc_score(os_y_train_values, y_scores_xgb)}\")\n",
    "print(f\" ROC AUC Score LGBM: {roc_auc_score(os_y_train_values, y_scores_lgbm)}\")"
   ]
  },
  {
   "cell_type": "markdown",
   "metadata": {},
   "source": [
    "## Make predictions with all classifiers"
   ]
  },
  {
   "cell_type": "code",
   "execution_count": 41,
   "metadata": {},
   "outputs": [
    {
     "name": "stdout",
     "output_type": "stream",
     "text": [
      "Prediction Scores:\n",
      "SGD: 0.9500907441016334\n",
      "LogReg: 0.9500907441016334\n",
      "RF: 0.9537205081669692\n",
      "GRB: 0.941923774954628\n",
      "XGB: 0.6397459165154264\n",
      "LGBM: 0.17150635208711434\n"
     ]
    }
   ],
   "source": [
    "y_sgd_predict = sgd_clf.predict(X_test_final)\n",
    "n_correct_sgd = sum(y_sgd_predict == y_test)\n",
    "y_sgd_predict_proba = sgd_clf.predict_proba(X_test_final)\n",
    "y_sgd_predict_proba = y_sgd_predict_proba[:, 1]\n",
    "\n",
    "y_log_reg_predict = log_reg_clf.predict(X_test_final)\n",
    "n_correct_log_reg = sum(y_log_reg_predict == y_test)\n",
    "y_log_reg_predict_proba = log_reg_clf.predict_proba(X_test_final)\n",
    "y_log_reg_predict_proba = y_log_reg_predict_proba[:, 1]\n",
    "\n",
    "\n",
    "\n",
    "y_forest_predict = forest_clf.predict(X_test_final)\n",
    "n_correct_forest = sum(y_forest_predict == y_test)\n",
    "y_forest_predict_proba = forest_clf.predict_proba(X_test_final)\n",
    "y_forest_predict_proba = y_forest_predict_proba[:, 1]\n",
    "\n",
    "\n",
    "y_grb_predict = gr_boost_clf.predict(X_test_final)\n",
    "n_correct_grb = sum(y_grb_predict == y_test)\n",
    "y_grb_predict_proba = gr_boost_clf.predict_proba(X_test_final)\n",
    "y_grb_predict_proba = y_grb_predict_proba[:, 1]\n",
    "\n",
    "\n",
    "y_xgb_predict = xgb_clf.predict(X_test_final)\n",
    "n_correct_xgb = sum(y_xgb_predict == y_test)\n",
    "y_xgb_predict_proba = xgb_clf.predict_proba(X_test_final)\n",
    "y_xgb_predict_proba = y_xgb_predict_proba[:, 1]\n",
    "\n",
    "\n",
    "y_lgbm_predict = lgbm_clf.predict(X_test_final)\n",
    "n_correct_lgbm = sum(y_lgbm_predict == y_test)\n",
    "y_lgbm_predict_proba = lgbm_clf.predict_proba(X_test_final)\n",
    "y_lgbm_predict_proba = y_lgbm_predict_proba[:, 1]\n",
    "\n",
    "\n",
    "print(\"Prediction Scores:\")\n",
    "print(f\"SGD: {(n_correct_sgd / len(y_sgd_predict))}\")\n",
    "print(f\"LogReg: {(n_correct_sgd / len(y_log_reg_predict))}\")\n",
    "print(f\"RF: {(n_correct_forest / len(y_forest_predict))}\")\n",
    "print(f\"GRB: {(n_correct_grb / len(y_grb_predict))}\")\n",
    "print(f\"XGB: {(n_correct_xgb / len(y_xgb_predict))}\")\n",
    "print(f\"LGBM: {(n_correct_lgbm / len(y_lgbm_predict))}\")"
   ]
  },
  {
   "cell_type": "markdown",
   "metadata": {},
   "source": [
    "### ROC Curve after predictions"
   ]
  },
  {
   "cell_type": "code",
   "execution_count": 42,
   "metadata": {
    "scrolled": false
   },
   "outputs": [
    {
     "data": {
      "image/png": "[encoded data removed]",
      "text/plain": [
       "<Figure size 576x432 with 1 Axes>"
      ]
     },
     "metadata": {
      "needs_background": "light"
     },
     "output_type": "display_data"
    }
   ],
   "source": [
    "precisions_sgd_test, recalls_sgd_test, thresholds_sgd_test = precision_recall_curve(y_test, y_sgd_predict)\n",
    "precisions_log_reg_test, recalls_log_reg_test, thresholds_log_reg_test = precision_recall_curve(y_test, y_log_reg_predict_proba)\n",
    "precisions_forest_test, recalls_forest_test, thresholds_forest_test = precision_recall_curve(y_test, y_forest_predict_proba)\n",
    "precisions_grb_test, recalls_grb_test, thresholds_grb_test = precision_recall_curve(y_test, y_grb_predict_proba)\n",
    "precisions_xgb_test, recalls_xgb_test, thresholds_xgb_test = precision_recall_curve(y_test, y_xgb_predict_proba)\n",
    "precisions_lgbm_test, recalls_lgbm_test, thresholds_lgbm_test = precision_recall_curve(y_test, y_lgbm_predict_proba)\n",
    "\n",
    "\n",
    "plt.figure(figsize=(8, 6))\n",
    "plot_precision_vs_recall(precisions_sgd_test, recalls_sgd_test, label=\"SGD\")\n",
    "plot_precision_vs_recall(precisions_log_reg_test, recalls_log_reg_test, color=\"#b55167\", label=\"LogReg\")\n",
    "plot_precision_vs_recall(precisions_forest_test, recalls_forest_test, color=\"#d000eb\", label=\"RF\")\n",
    "plot_precision_vs_recall(precisions_grb_test, recalls_grb_test, color=\"#ebc700\", label=\"GRB\")\n",
    "plot_precision_vs_recall(precisions_xgb_test, recalls_xgb_test, color=\"r\", label=\"XGB\")\n",
    "plot_precision_vs_recall(precisions_lgbm_test, recalls_lgbm_test, color=\"c\", label=\"LGBM\")\n",
    "plt.legend()\n",
    "plt.show()"
   ]
  },
  {
   "cell_type": "code",
   "execution_count": 43,
   "metadata": {},
   "outputs": [
    {
     "data": {
      "image/png": "[encoded data removed]",
      "text/plain": [
       "<Figure size 576x432 with 1 Axes>"
      ]
     },
     "metadata": {
      "needs_background": "light"
     },
     "output_type": "display_data"
    }
   ],
   "source": [
    "fpr_sgd_test, tpr_sgd_test, thresholds_sgd_test = roc_curve(y_test, y_sgd_predict)\n",
    "fpr_log_reg_test, tpr_log_reg_test, thresholds_log_reg_test = roc_curve(y_test, y_log_reg_predict_proba)\n",
    "fpr_forest_test, tpr_forest_test, thresholds_forest_test = roc_curve(y_test, y_forest_predict_proba)\n",
    "fpr_grb_test, tpr_grb_test, thresholds_grb_test = roc_curve(y_test, y_grb_predict_proba)\n",
    "fpr_xgb_test, tpr_xgb_test, thresholds_xgb_test = roc_curve(y_test, y_xgb_predict_proba)\n",
    "fpr_lgbm_test, tpr_lgbm_test, thresholds_lgbm_test = roc_curve(y_test, y_lgbm_predict_proba)\n",
    "\n",
    "\n",
    "\n",
    "\n",
    "\n",
    "plt.figure(figsize=(8, 6))\n",
    "plot_roc_curve(fpr_sgd_test, tpr_sgd_test, label=\"SGD\")\n",
    "plot_roc_curve(fpr_log_reg_test, tpr_log_reg_test, color=\"#b55167\", label=\"LogReg\")\n",
    "plot_roc_curve(fpr_forest_test, tpr_forest_test, color=\"#d000eb\", label=\"RF\")\n",
    "plot_roc_curve(fpr_grb_test, tpr_grb_test, color=\"#ebc700\", label=\"GRB\")\n",
    "plot_roc_curve(fpr_xgb_test, tpr_xgb_test, color=\"r\", label=\"XGB\")\n",
    "plot_roc_curve(fpr_lgbm_test, tpr_lgbm_test, color=\"c\", label=\"LGBM\")\n",
    "plt.legend()\n",
    "plt.show()"
   ]
  },
  {
   "cell_type": "code",
   "execution_count": 44,
   "metadata": {},
   "outputs": [
    {
     "name": "stdout",
     "output_type": "stream",
     "text": [
      " ROC AUC Score SGD: 0.4990467111534795\n",
      " ROC AUC Score LogReg: 0.4990467111534795\n",
      " ROC AUC Score RF: 0.5188679245283019\n",
      " ROC AUC Score GRB: 0.5664154540712628\n",
      " ROC AUC Score XGB: 0.7659855747612282\n",
      " ROC AUC Score LGBM: 0.528994370199831\n"
     ]
    }
   ],
   "source": [
    "print(f\" ROC AUC Score SGD: {roc_auc_score(y_test, y_sgd_predict)}\")\n",
    "print(f\" ROC AUC Score LogReg: {roc_auc_score(y_test, y_log_reg_predict)}\")\n",
    "print(f\" ROC AUC Score RF: {roc_auc_score(y_test, y_forest_predict)}\")\n",
    "print(f\" ROC AUC Score GRB: {roc_auc_score(y_test, y_grb_predict)}\")\n",
    "print(f\" ROC AUC Score XGB: {roc_auc_score(y_test, y_xgb_predict)}\")\n",
    "print(f\" ROC AUC Score LGBM: {roc_auc_score(y_test, y_lgbm_predict)}\")"
   ]
  },
  {
   "cell_type": "markdown",
   "metadata": {},
   "source": [
    "### Conclusion"
   ]
  },
  {
   "cell_type": "markdown",
   "metadata": {},
   "source": [
    "The task was to select the most important features and the best model to predict if a company will be on its way to bankruptcy or not. <br>\n",
    "\n",
    "After comparing 6 different models for prediction, the results show that: <br>\n",
    "\n",
    "- The classifier with the best prediction score is Random Forest (95.7% accuracy)\n",
    "- The models do not handle the unbalanced test data well\n",
    "\n",
    "Furthermore, because target classes distribution is skewed, the ROC Curve on the final predictions could be misleading for the models performances. <br>\n",
    "\n",
    "In this case the Precision-Recall Curve is the better metric to use, because it focuses more on how a model is performing on the positive instances (which are the minority class) while ROC Curve should be used for more balanced datasets.\n",
    "\n",
    "Clearly, here, there is a lot that could be done, in order to improve the performance of the models in relation to PR Curve. Possible solutions are: <br>\n",
    "\n",
    "- Use the time feature and select only the last time period for each company (results in a balanced data which is easier to handle for analysis and predictions\n",
    "- Create more than two target classes (the distribution of the target variables allows for a good split of three or four equally distributed targets)\n",
    "- Leave the targets as they are, drop the categorical variable x80 and classify the problem as a Regression problem (Ridge and Lasso Regression could be used for Feature engineering which could improve the final results significantly)"
   ]
  },
  {
   "cell_type": "code",
   "execution_count": null,
   "metadata": {},
   "outputs": [],
   "source": []
  }
 ],
 "metadata": {
  "kernelspec": {
   "display_name": "Python 3",
   "language": "python",
   "name": "python3"
  },
  "language_info": {
   "codemirror_mode": {
    "name": "ipython",
    "version": 3
   },
   "file_extension": ".py",
   "mimetype": "text/x-python",
   "name": "python",
   "nbconvert_exporter": "python",
   "pygments_lexer": "ipython3",
   "version": "3.7.3"
  },
  "toc": {
   "base_numbering": 1,
   "nav_menu": {},
   "number_sections": true,
   "sideBar": true,
   "skip_h1_title": false,
   "title_cell": "Table of Contents",
   "title_sidebar": "Contents",
   "toc_cell": false,
   "toc_position": {},
   "toc_section_display": true,
   "toc_window_display": false
  },
  "varInspector": {
   "cols": {
    "lenName": 16,
    "lenType": 16,
    "lenVar": 40
   },
   "kernels_config": {
    "python": {
     "delete_cmd_postfix": "",
     "delete_cmd_prefix": "del ",
     "library": "var_list.py",
     "varRefreshCmd": "print(var_dic_list())"
    },
    "r": {
     "delete_cmd_postfix": ") ",
     "delete_cmd_prefix": "rm(",
     "library": "var_list.r",
     "varRefreshCmd": "cat(var_dic_list()) "
    }
   },
   "types_to_exclude": [
    "module",
    "function",
    "builtin_function_or_method",
    "instance",
    "_Feature"
   ],
   "window_display": false
  }
 },
 "nbformat": 4,
 "nbformat_minor": 4
}
