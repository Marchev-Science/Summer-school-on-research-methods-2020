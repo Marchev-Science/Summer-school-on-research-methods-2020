{
 "cells": [
  {
   "cell_type": "markdown",
   "metadata": {},
   "source": [
    "##  Libraries Used\n",
    "### Authors:\n",
    "Team 4:\n",
    "- Stephen Panev\n",
    "- Marin St\n",
    "- Dayana Hristova\n",
    "- Dimitar Lyubchev"
   ]
  },
  {
   "cell_type": "code",
   "execution_count": 94,
   "metadata": {
    "ExecuteTime": {
     "end_time": "2020-07-26T10:34:27.945541Z",
     "start_time": "2020-07-26T10:34:27.936959Z"
    }
   },
   "outputs": [],
   "source": [
    "%matplotlib inline"
   ]
  },
  {
   "cell_type": "code",
   "execution_count": 1,
   "metadata": {
    "ExecuteTime": {
     "end_time": "2020-07-26T10:20:09.179293Z",
     "start_time": "2020-07-26T10:19:56.527670Z"
    }
   },
   "outputs": [],
   "source": [
    "import numpy as np\n",
    "import pandas as pd\n",
    "import matplotlib.pyplot as plt\n",
    "import seaborn as sns\n",
    "from sklearn.model_selection import train_test_split\n",
    "from sklearn.preprocessing import MinMaxScaler\n",
    "from sklearn.preprocessing import PolynomialFeatures\n",
    "from sklearn.pipeline import Pipeline\n",
    "from sklearn.linear_model import LogisticRegression\n",
    "from sklearn.metrics import accuracy_score\n",
    "from sklearn.metrics import f1_score\n",
    "from sklearn.metrics import confusion_matrix\n",
    "from sklearn.metrics import roc_curve, auc\n",
    "from sklearn.ensemble import RandomForestClassifier\n",
    "from sklearn.datasets import make_classification\n",
    "from sklearn.svm import SVC\n",
    "from sklearn.ensemble import AdaBoostClassifier\n",
    "from sklearn.metrics import precision_recall_fscore_support as score\n",
    "from sklearn.model_selection import RandomizedSearchCV\n",
    "from sklearn.metrics import classification_report\n",
    "from sklearn.metrics import mean_squared_error\n",
    "from sklearn.metrics import roc_auc_score\n",
    "from sklearn.metrics import roc_curve\n",
    "from sklearn.multiclass import OneVsRestClassifier\n",
    "from sklearn.preprocessing import label_binarize\n",
    "from lightgbm import LGBMClassifier\n",
    "import xgboost as xgb\n",
    "from statsmodels.stats.outliers_influence import variance_inflation_factor\n",
    "from itertools import cycle\n",
    "import random as r"
   ]
  },
  {
   "cell_type": "markdown",
   "metadata": {},
   "source": [
    "## Read the data\n",
    "We are using the financial distress data of companies. This is part of a Kaggle dataset which can be viewed in the following link: https://www.kaggle.com/shebrahimi/financial-distress"
   ]
  },
  {
   "cell_type": "code",
   "execution_count": 2,
   "metadata": {
    "ExecuteTime": {
     "end_time": "2020-07-26T10:20:09.466160Z",
     "start_time": "2020-07-26T10:20:09.182564Z"
    }
   },
   "outputs": [],
   "source": [
    "data = pd.read_csv('data/Financial Distress.csv')"
   ]
  },
  {
   "cell_type": "code",
   "execution_count": 3,
   "metadata": {
    "ExecuteTime": {
     "end_time": "2020-07-26T10:20:09.494438Z",
     "start_time": "2020-07-26T10:20:09.467958Z"
    }
   },
   "outputs": [
    {
     "data": {
      "text/plain": [
       "(3672, 86)"
      ]
     },
     "execution_count": 3,
     "metadata": {},
     "output_type": "execute_result"
    }
   ],
   "source": [
    "data.shape"
   ]
  },
  {
   "cell_type": "markdown",
   "metadata": {},
   "source": [
    "There are 3672 rows and 86 columns in the dataset. The names of the columns can be viewed below.Unfortunately most of the columns are not named with their descriptive names. The contain variable of financial and not financial nature. This will hider our analysis without using business logic."
   ]
  },
  {
   "cell_type": "code",
   "execution_count": 4,
   "metadata": {
    "ExecuteTime": {
     "end_time": "2020-07-26T10:20:09.607317Z",
     "start_time": "2020-07-26T10:20:09.498055Z"
    }
   },
   "outputs": [
    {
     "data": {
      "text/plain": [
       "Index(['Company', 'Time', 'Financial Distress', 'x1', 'x2', 'x3', 'x4', 'x5',\n",
       "       'x6', 'x7', 'x8', 'x9', 'x10', 'x11', 'x12', 'x13', 'x14', 'x15', 'x16',\n",
       "       'x17', 'x18', 'x19', 'x20', 'x21', 'x22', 'x23', 'x24', 'x25', 'x26',\n",
       "       'x27', 'x28', 'x29', 'x30', 'x31', 'x32', 'x33', 'x34', 'x35', 'x36',\n",
       "       'x37', 'x38', 'x39', 'x40', 'x41', 'x42', 'x43', 'x44', 'x45', 'x46',\n",
       "       'x47', 'x48', 'x49', 'x50', 'x51', 'x52', 'x53', 'x54', 'x55', 'x56',\n",
       "       'x57', 'x58', 'x59', 'x60', 'x61', 'x62', 'x63', 'x64', 'x65', 'x66',\n",
       "       'x67', 'x68', 'x69', 'x70', 'x71', 'x72', 'x73', 'x74', 'x75', 'x76',\n",
       "       'x77', 'x78', 'x79', 'x80', 'x81', 'x82', 'x83'],\n",
       "      dtype='object')"
      ]
     },
     "execution_count": 4,
     "metadata": {},
     "output_type": "execute_result"
    }
   ],
   "source": [
    "data.columns"
   ]
  },
  {
   "cell_type": "code",
   "execution_count": 5,
   "metadata": {
    "ExecuteTime": {
     "end_time": "2020-07-26T10:20:09.764971Z",
     "start_time": "2020-07-26T10:20:09.609241Z"
    }
   },
   "outputs": [
    {
     "name": "stdout",
     "output_type": "stream",
     "text": [
      "<class 'pandas.core.frame.DataFrame'>\n",
      "RangeIndex: 3672 entries, 0 to 3671\n",
      "Data columns (total 86 columns):\n",
      " #   Column              Non-Null Count  Dtype  \n",
      "---  ------              --------------  -----  \n",
      " 0   Company             3672 non-null   int64  \n",
      " 1   Time                3672 non-null   int64  \n",
      " 2   Financial Distress  3672 non-null   float64\n",
      " 3   x1                  3672 non-null   float64\n",
      " 4   x2                  3672 non-null   float64\n",
      " 5   x3                  3672 non-null   float64\n",
      " 6   x4                  3672 non-null   float64\n",
      " 7   x5                  3672 non-null   float64\n",
      " 8   x6                  3672 non-null   float64\n",
      " 9   x7                  3672 non-null   float64\n",
      " 10  x8                  3672 non-null   float64\n",
      " 11  x9                  3672 non-null   float64\n",
      " 12  x10                 3672 non-null   float64\n",
      " 13  x11                 3672 non-null   float64\n",
      " 14  x12                 3672 non-null   float64\n",
      " 15  x13                 3672 non-null   float64\n",
      " 16  x14                 3672 non-null   float64\n",
      " 17  x15                 3672 non-null   float64\n",
      " 18  x16                 3672 non-null   float64\n",
      " 19  x17                 3672 non-null   float64\n",
      " 20  x18                 3672 non-null   float64\n",
      " 21  x19                 3672 non-null   float64\n",
      " 22  x20                 3672 non-null   float64\n",
      " 23  x21                 3672 non-null   float64\n",
      " 24  x22                 3672 non-null   float64\n",
      " 25  x23                 3672 non-null   float64\n",
      " 26  x24                 3672 non-null   float64\n",
      " 27  x25                 3672 non-null   float64\n",
      " 28  x26                 3672 non-null   float64\n",
      " 29  x27                 3672 non-null   float64\n",
      " 30  x28                 3672 non-null   float64\n",
      " 31  x29                 3672 non-null   float64\n",
      " 32  x30                 3672 non-null   float64\n",
      " 33  x31                 3672 non-null   float64\n",
      " 34  x32                 3672 non-null   float64\n",
      " 35  x33                 3672 non-null   float64\n",
      " 36  x34                 3672 non-null   float64\n",
      " 37  x35                 3672 non-null   float64\n",
      " 38  x36                 3672 non-null   float64\n",
      " 39  x37                 3672 non-null   float64\n",
      " 40  x38                 3672 non-null   float64\n",
      " 41  x39                 3672 non-null   float64\n",
      " 42  x40                 3672 non-null   float64\n",
      " 43  x41                 3672 non-null   float64\n",
      " 44  x42                 3672 non-null   float64\n",
      " 45  x43                 3672 non-null   float64\n",
      " 46  x44                 3672 non-null   float64\n",
      " 47  x45                 3672 non-null   float64\n",
      " 48  x46                 3672 non-null   float64\n",
      " 49  x47                 3672 non-null   float64\n",
      " 50  x48                 3672 non-null   float64\n",
      " 51  x49                 3672 non-null   float64\n",
      " 52  x50                 3672 non-null   float64\n",
      " 53  x51                 3672 non-null   float64\n",
      " 54  x52                 3672 non-null   float64\n",
      " 55  x53                 3672 non-null   float64\n",
      " 56  x54                 3672 non-null   float64\n",
      " 57  x55                 3672 non-null   float64\n",
      " 58  x56                 3672 non-null   float64\n",
      " 59  x57                 3672 non-null   float64\n",
      " 60  x58                 3672 non-null   float64\n",
      " 61  x59                 3672 non-null   float64\n",
      " 62  x60                 3672 non-null   float64\n",
      " 63  x61                 3672 non-null   float64\n",
      " 64  x62                 3672 non-null   float64\n",
      " 65  x63                 3672 non-null   float64\n",
      " 66  x64                 3672 non-null   float64\n",
      " 67  x65                 3672 non-null   float64\n",
      " 68  x66                 3672 non-null   float64\n",
      " 69  x67                 3672 non-null   float64\n",
      " 70  x68                 3672 non-null   float64\n",
      " 71  x69                 3672 non-null   float64\n",
      " 72  x70                 3672 non-null   float64\n",
      " 73  x71                 3672 non-null   float64\n",
      " 74  x72                 3672 non-null   float64\n",
      " 75  x73                 3672 non-null   float64\n",
      " 76  x74                 3672 non-null   float64\n",
      " 77  x75                 3672 non-null   float64\n",
      " 78  x76                 3672 non-null   float64\n",
      " 79  x77                 3672 non-null   float64\n",
      " 80  x78                 3672 non-null   float64\n",
      " 81  x79                 3672 non-null   float64\n",
      " 82  x80                 3672 non-null   int64  \n",
      " 83  x81                 3672 non-null   float64\n",
      " 84  x82                 3672 non-null   int64  \n",
      " 85  x83                 3672 non-null   int64  \n",
      "dtypes: float64(81), int64(5)\n",
      "memory usage: 2.4 MB\n"
     ]
    }
   ],
   "source": [
    "data.info()"
   ]
  },
  {
   "cell_type": "markdown",
   "metadata": {},
   "source": [
    "You can view the columns they are mostly float64, but there are some int64 which will mean different categories."
   ]
  },
  {
   "cell_type": "markdown",
   "metadata": {},
   "source": [
    "## EDA (Exploratory Data Analysis)\n",
    "We have a total of 422 companies in the dataset."
   ]
  },
  {
   "cell_type": "code",
   "execution_count": 6,
   "metadata": {
    "ExecuteTime": {
     "end_time": "2020-07-26T10:20:09.848905Z",
     "start_time": "2020-07-26T10:20:09.766547Z"
    }
   },
   "outputs": [
    {
     "data": {
      "text/plain": [
       "array([  1,   2,   3,   4,   5,   6,   7,   8,   9,  10,  11,  12,  13,\n",
       "        14,  15,  16,  17,  18,  19,  20,  21,  22,  23,  24,  25,  26,\n",
       "        27,  28,  29,  30,  31,  32,  33,  34,  35,  36,  37,  38,  39,\n",
       "        40,  41,  42,  43,  44,  45,  46,  47,  48,  49,  50,  51,  52,\n",
       "        53,  54,  55,  56,  57,  58,  59,  60,  61,  62,  63,  64,  65,\n",
       "        66,  67,  68,  69,  70,  71,  72,  73,  74,  75,  76,  77,  78,\n",
       "        79,  80,  81,  82,  83,  84,  85,  86,  87,  88,  89,  90,  91,\n",
       "        92,  93,  94,  95,  96,  97,  98,  99, 100, 101, 102, 103, 104,\n",
       "       105, 106, 107, 108, 109, 110, 111, 112, 113, 114, 115, 116, 117,\n",
       "       118, 119, 120, 121, 122, 123, 124, 125, 126, 127, 128, 129, 130,\n",
       "       131, 132, 133, 134, 135, 136, 137, 138, 139, 140, 141, 142, 143,\n",
       "       144, 145, 146, 147, 148, 149, 150, 151, 152, 153, 154, 155, 156,\n",
       "       157, 158, 159, 160, 161, 162, 163, 164, 165, 166, 167, 168, 169,\n",
       "       170, 171, 172, 173, 174, 175, 176, 177, 178, 179, 180, 181, 182,\n",
       "       183, 184, 185, 186, 187, 188, 189, 190, 191, 192, 193, 194, 195,\n",
       "       196, 197, 198, 199, 200, 201, 202, 203, 204, 205, 206, 207, 208,\n",
       "       209, 210, 211, 212, 213, 214, 215, 216, 217, 218, 219, 220, 221,\n",
       "       222, 223, 224, 225, 226, 227, 228, 229, 230, 231, 232, 233, 234,\n",
       "       235, 236, 237, 238, 239, 240, 241, 242, 243, 244, 245, 246, 247,\n",
       "       248, 249, 250, 251, 252, 253, 254, 255, 256, 257, 258, 259, 260,\n",
       "       261, 262, 263, 264, 265, 266, 267, 268, 269, 270, 271, 272, 273,\n",
       "       274, 275, 276, 277, 278, 279, 280, 281, 282, 283, 284, 285, 286,\n",
       "       287, 288, 289, 290, 291, 292, 293, 294, 295, 296, 297, 298, 299,\n",
       "       300, 301, 302, 303, 304, 305, 306, 307, 308, 309, 310, 311, 312,\n",
       "       313, 314, 315, 316, 317, 318, 319, 320, 321, 322, 323, 324, 325,\n",
       "       326, 327, 328, 329, 330, 331, 332, 333, 334, 335, 336, 337, 338,\n",
       "       339, 340, 341, 342, 343, 344, 345, 346, 347, 348, 349, 350, 351,\n",
       "       352, 353, 354, 355, 356, 357, 358, 359, 360, 361, 362, 363, 364,\n",
       "       365, 366, 367, 368, 369, 370, 371, 372, 373, 374, 375, 376, 377,\n",
       "       378, 379, 380, 381, 382, 383, 384, 385, 386, 387, 388, 389, 390,\n",
       "       391, 392, 393, 394, 395, 396, 397, 398, 399, 400, 401, 402, 403,\n",
       "       404, 405, 406, 407, 408, 409, 410, 411, 412, 413, 414, 415, 416,\n",
       "       417, 418, 419, 420, 421, 422])"
      ]
     },
     "execution_count": 6,
     "metadata": {},
     "output_type": "execute_result"
    }
   ],
   "source": [
    "data['Company'].unique()"
   ]
  },
  {
   "cell_type": "code",
   "execution_count": 7,
   "metadata": {
    "ExecuteTime": {
     "end_time": "2020-07-26T10:20:09.991726Z",
     "start_time": "2020-07-26T10:20:09.851134Z"
    }
   },
   "outputs": [
    {
     "data": {
      "text/plain": [
       "array([ 1,  2,  3,  4,  5,  6,  7,  8,  9, 10, 11, 12, 13, 14])"
      ]
     },
     "execution_count": 7,
     "metadata": {},
     "output_type": "execute_result"
    }
   ],
   "source": [
    "data['Time'].unique()"
   ]
  },
  {
   "cell_type": "markdown",
   "metadata": {},
   "source": [
    "There are 14 periods in total, although not all companies are present till the end. Below we can view the histogram of the Financial Distress Variable. There is clearly an outlier."
   ]
  },
  {
   "cell_type": "code",
   "execution_count": 8,
   "metadata": {
    "ExecuteTime": {
     "end_time": "2020-07-26T10:20:10.749994Z",
     "start_time": "2020-07-26T10:20:09.994112Z"
    }
   },
   "outputs": [
    {
     "data": {
      "image/png": "[encoded data removed]",
      "text/plain": [
       "<Figure size 1296x720 with 1 Axes>"
      ]
     },
     "metadata": {
      "needs_background": "light"
     },
     "output_type": "display_data"
    }
   ],
   "source": [
    "plt.figure(figsize=(18,10))\n",
    "sns.distplot(data['Financial Distress'],kde=False, rug=True, color = 'blue');\n",
    "plt.title('Financial Distress Histogram')\n",
    "plt.xlabel('Values')\n",
    "plt.ylabel('Frequency')\n",
    "plt.grid(True)\n",
    "plt.show()"
   ]
  },
  {
   "cell_type": "code",
   "execution_count": 9,
   "metadata": {
    "ExecuteTime": {
     "end_time": "2020-07-26T10:20:10.762709Z",
     "start_time": "2020-07-26T10:20:10.753055Z"
    }
   },
   "outputs": [
    {
     "data": {
      "text/plain": [
       "count    3672.000000\n",
       "mean        1.040257\n",
       "std         2.652227\n",
       "min        -8.631700\n",
       "25%         0.172275\n",
       "50%         0.583805\n",
       "75%         1.351750\n",
       "max       128.400000\n",
       "Name: Financial Distress, dtype: float64"
      ]
     },
     "execution_count": 9,
     "metadata": {},
     "output_type": "execute_result"
    }
   ],
   "source": [
    "data['Financial Distress'].describe()"
   ]
  },
  {
   "cell_type": "markdown",
   "metadata": {},
   "source": [
    "The descriptive statistics prove the point as well as the Boxplot. It is possible that the outlier is a flawed value."
   ]
  },
  {
   "cell_type": "code",
   "execution_count": 10,
   "metadata": {
    "ExecuteTime": {
     "end_time": "2020-07-26T10:20:11.229905Z",
     "start_time": "2020-07-26T10:20:10.764333Z"
    }
   },
   "outputs": [
    {
     "data": {
      "image/png": "[encoded data removed]",
      "text/plain": [
       "<Figure size 1296x720 with 1 Axes>"
      ]
     },
     "metadata": {
      "needs_background": "light"
     },
     "output_type": "display_data"
    }
   ],
   "source": [
    "plt.figure(figsize=(18,10))\n",
    "sns.boxplot(x=data['Financial Distress'], color = 'green')\n",
    "plt.title('Financial Distress Boxplot')\n",
    "plt.xlabel('Values')\n",
    "plt.grid(True)\n",
    "plt.show()"
   ]
  },
  {
   "cell_type": "code",
   "execution_count": 11,
   "metadata": {
    "ExecuteTime": {
     "end_time": "2020-07-26T10:20:11.238512Z",
     "start_time": "2020-07-26T10:20:11.231935Z"
    }
   },
   "outputs": [
    {
     "data": {
      "text/plain": [
       "128.4"
      ]
     },
     "execution_count": 11,
     "metadata": {},
     "output_type": "execute_result"
    }
   ],
   "source": [
    "max(data['Financial Distress'])"
   ]
  },
  {
   "cell_type": "code",
   "execution_count": 12,
   "metadata": {
    "ExecuteTime": {
     "end_time": "2020-07-26T10:20:11.801715Z",
     "start_time": "2020-07-26T10:20:11.240451Z"
    }
   },
   "outputs": [
    {
     "data": {
      "image/png": "[encoded data removed]",
      "text/plain": [
       "<Figure size 1224x576 with 1 Axes>"
      ]
     },
     "metadata": {
      "needs_background": "light"
     },
     "output_type": "display_data"
    }
   ],
   "source": [
    "plt.figure(figsize=(17,8))\n",
    "sns.distplot(data[data['Financial Distress'] < 100]['Financial Distress'], kde=False, rug=True, color = 'blue')\n",
    "plt.title('Financial Distress Histogram without outlier')\n",
    "plt.xlabel('Values')\n",
    "plt.ylabel('Frequency')\n",
    "plt.grid(True)\n",
    "plt.show()"
   ]
  },
  {
   "cell_type": "markdown",
   "metadata": {},
   "source": [
    "After removing the outlier value out distribution is more normal looking, although it is still slightly rightly skewed. We will cut the column into 3 categories with equal frequencies. We can get the precise border areas of the bins. "
   ]
  },
  {
   "cell_type": "code",
   "execution_count": 13,
   "metadata": {
    "ExecuteTime": {
     "end_time": "2020-07-26T10:20:11.815783Z",
     "start_time": "2020-07-26T10:20:11.804682Z"
    }
   },
   "outputs": [
    {
     "data": {
      "text/plain": [
       "(1.021, 128.4]     1224\n",
       "(0.295, 1.021]     1224\n",
       "(-8.633, 0.295]    1224\n",
       "Name: Financial Distress, dtype: int64"
      ]
     },
     "execution_count": 13,
     "metadata": {},
     "output_type": "execute_result"
    }
   ],
   "source": [
    "pd.qcut(data['Financial Distress'], 3).value_counts()"
   ]
  },
  {
   "cell_type": "code",
   "execution_count": 14,
   "metadata": {
    "ExecuteTime": {
     "end_time": "2020-07-26T10:20:12.014304Z",
     "start_time": "2020-07-26T10:20:11.817361Z"
    }
   },
   "outputs": [],
   "source": [
    "data['status'] = np.where(data['Financial Distress'] < 0.295,0,np.where(data['Financial Distress'] < 1.021, 1,2))"
   ]
  },
  {
   "cell_type": "code",
   "execution_count": 15,
   "metadata": {
    "ExecuteTime": {
     "end_time": "2020-07-26T10:20:12.148879Z",
     "start_time": "2020-07-26T10:20:12.015952Z"
    }
   },
   "outputs": [
    {
     "data": {
      "text/plain": [
       "2    1225\n",
       "1    1224\n",
       "0    1223\n",
       "Name: status, dtype: int64"
      ]
     },
     "execution_count": 15,
     "metadata": {},
     "output_type": "execute_result"
    }
   ],
   "source": [
    "data['status'].value_counts()"
   ]
  },
  {
   "cell_type": "markdown",
   "metadata": {},
   "source": [
    "## Selecting data for modeling\n",
    "This is a panel data so we have to deal with time. We select the last period of every company that we will use for modeling. Another holdout dataset for testing will be produced this is for the first period of the companies. We need to check if the last period is representative for every period. If this is not the case, it means we are losing information in the process and we need to think about an alternative process."
   ]
  },
  {
   "cell_type": "code",
   "execution_count": 16,
   "metadata": {
    "ExecuteTime": {
     "end_time": "2020-07-26T10:20:12.277419Z",
     "start_time": "2020-07-26T10:20:12.150409Z"
    }
   },
   "outputs": [],
   "source": [
    "data_one_period = data.drop_duplicates(subset=['Company'], keep='last')"
   ]
  },
  {
   "cell_type": "code",
   "execution_count": 17,
   "metadata": {
    "ExecuteTime": {
     "end_time": "2020-07-26T10:20:12.500807Z",
     "start_time": "2020-07-26T10:20:12.279388Z"
    }
   },
   "outputs": [
    {
     "data": {
      "text/html": [
       "<div>\n",
       "<style scoped>\n",
       "    .dataframe tbody tr th:only-of-type {\n",
       "        vertical-align: middle;\n",
       "    }\n",
       "\n",
       "    .dataframe tbody tr th {\n",
       "        vertical-align: top;\n",
       "    }\n",
       "\n",
       "    .dataframe thead th {\n",
       "        text-align: right;\n",
       "    }\n",
       "</style>\n",
       "<table border=\"1\" class=\"dataframe\">\n",
       "  <thead>\n",
       "    <tr style=\"text-align: right;\">\n",
       "      <th></th>\n",
       "      <th>Time</th>\n",
       "      <th>x1</th>\n",
       "      <th>x2</th>\n",
       "      <th>x3</th>\n",
       "      <th>x4</th>\n",
       "      <th>x5</th>\n",
       "      <th>x6</th>\n",
       "      <th>x7</th>\n",
       "      <th>x8</th>\n",
       "      <th>x9</th>\n",
       "      <th>...</th>\n",
       "      <th>x75</th>\n",
       "      <th>x76</th>\n",
       "      <th>x77</th>\n",
       "      <th>x78</th>\n",
       "      <th>x79</th>\n",
       "      <th>x80</th>\n",
       "      <th>x81</th>\n",
       "      <th>x82</th>\n",
       "      <th>x83</th>\n",
       "      <th>status</th>\n",
       "    </tr>\n",
       "  </thead>\n",
       "  <tbody>\n",
       "    <tr>\n",
       "      <th>3</th>\n",
       "      <td>4</td>\n",
       "      <td>1.1131</td>\n",
       "      <td>-0.015229</td>\n",
       "      <td>0.85888</td>\n",
       "      <td>0.80974</td>\n",
       "      <td>0.076037</td>\n",
       "      <td>0.091033</td>\n",
       "      <td>0.67546</td>\n",
       "      <td>-0.018807</td>\n",
       "      <td>-0.10791</td>\n",
       "      <td>...</td>\n",
       "      <td>39.80</td>\n",
       "      <td>38.377</td>\n",
       "      <td>17.167</td>\n",
       "      <td>16.0</td>\n",
       "      <td>5.6</td>\n",
       "      <td>22</td>\n",
       "      <td>-0.32539</td>\n",
       "      <td>33</td>\n",
       "      <td>52</td>\n",
       "      <td>0</td>\n",
       "    </tr>\n",
       "    <tr>\n",
       "      <th>17</th>\n",
       "      <td>14</td>\n",
       "      <td>2.2263</td>\n",
       "      <td>0.325880</td>\n",
       "      <td>0.40651</td>\n",
       "      <td>0.90804</td>\n",
       "      <td>0.455340</td>\n",
       "      <td>0.493550</td>\n",
       "      <td>1.65280</td>\n",
       "      <td>0.358880</td>\n",
       "      <td>0.54909</td>\n",
       "      <td>...</td>\n",
       "      <td>227.50</td>\n",
       "      <td>214.500</td>\n",
       "      <td>21.000</td>\n",
       "      <td>20.5</td>\n",
       "      <td>8.6</td>\n",
       "      <td>29</td>\n",
       "      <td>2.65980</td>\n",
       "      <td>20</td>\n",
       "      <td>40</td>\n",
       "      <td>2</td>\n",
       "    </tr>\n",
       "    <tr>\n",
       "      <th>18</th>\n",
       "      <td>1</td>\n",
       "      <td>0.8744</td>\n",
       "      <td>-0.034676</td>\n",
       "      <td>0.79350</td>\n",
       "      <td>0.60952</td>\n",
       "      <td>-0.002632</td>\n",
       "      <td>-0.086847</td>\n",
       "      <td>0.50609</td>\n",
       "      <td>-0.056892</td>\n",
       "      <td>-0.16793</td>\n",
       "      <td>...</td>\n",
       "      <td>27.07</td>\n",
       "      <td>26.102</td>\n",
       "      <td>16.000</td>\n",
       "      <td>16.0</td>\n",
       "      <td>0.2</td>\n",
       "      <td>25</td>\n",
       "      <td>-0.30317</td>\n",
       "      <td>8</td>\n",
       "      <td>37</td>\n",
       "      <td>0</td>\n",
       "    </tr>\n",
       "    <tr>\n",
       "      <th>32</th>\n",
       "      <td>14</td>\n",
       "      <td>3.1096</td>\n",
       "      <td>0.133630</td>\n",
       "      <td>0.21635</td>\n",
       "      <td>0.70654</td>\n",
       "      <td>0.173030</td>\n",
       "      <td>0.446080</td>\n",
       "      <td>1.25870</td>\n",
       "      <td>0.189140</td>\n",
       "      <td>0.17053</td>\n",
       "      <td>...</td>\n",
       "      <td>227.50</td>\n",
       "      <td>214.500</td>\n",
       "      <td>21.000</td>\n",
       "      <td>20.5</td>\n",
       "      <td>8.6</td>\n",
       "      <td>12</td>\n",
       "      <td>1.09640</td>\n",
       "      <td>41</td>\n",
       "      <td>57</td>\n",
       "      <td>2</td>\n",
       "    </tr>\n",
       "    <tr>\n",
       "      <th>46</th>\n",
       "      <td>14</td>\n",
       "      <td>1.2121</td>\n",
       "      <td>0.084192</td>\n",
       "      <td>0.70161</td>\n",
       "      <td>0.33803</td>\n",
       "      <td>0.130500</td>\n",
       "      <td>0.144520</td>\n",
       "      <td>0.93530</td>\n",
       "      <td>0.249060</td>\n",
       "      <td>0.28215</td>\n",
       "      <td>...</td>\n",
       "      <td>227.50</td>\n",
       "      <td>214.500</td>\n",
       "      <td>21.000</td>\n",
       "      <td>20.5</td>\n",
       "      <td>8.6</td>\n",
       "      <td>23</td>\n",
       "      <td>1.53660</td>\n",
       "      <td>25</td>\n",
       "      <td>50</td>\n",
       "      <td>2</td>\n",
       "    </tr>\n",
       "  </tbody>\n",
       "</table>\n",
       "<p>5 rows × 85 columns</p>\n",
       "</div>"
      ],
      "text/plain": [
       "    Time      x1        x2       x3       x4        x5        x6       x7  \\\n",
       "3      4  1.1131 -0.015229  0.85888  0.80974  0.076037  0.091033  0.67546   \n",
       "17    14  2.2263  0.325880  0.40651  0.90804  0.455340  0.493550  1.65280   \n",
       "18     1  0.8744 -0.034676  0.79350  0.60952 -0.002632 -0.086847  0.50609   \n",
       "32    14  3.1096  0.133630  0.21635  0.70654  0.173030  0.446080  1.25870   \n",
       "46    14  1.2121  0.084192  0.70161  0.33803  0.130500  0.144520  0.93530   \n",
       "\n",
       "          x8       x9  ...     x75      x76     x77   x78  x79  x80      x81  \\\n",
       "3  -0.018807 -0.10791  ...   39.80   38.377  17.167  16.0  5.6   22 -0.32539   \n",
       "17  0.358880  0.54909  ...  227.50  214.500  21.000  20.5  8.6   29  2.65980   \n",
       "18 -0.056892 -0.16793  ...   27.07   26.102  16.000  16.0  0.2   25 -0.30317   \n",
       "32  0.189140  0.17053  ...  227.50  214.500  21.000  20.5  8.6   12  1.09640   \n",
       "46  0.249060  0.28215  ...  227.50  214.500  21.000  20.5  8.6   23  1.53660   \n",
       "\n",
       "    x82  x83  status  \n",
       "3    33   52       0  \n",
       "17   20   40       2  \n",
       "18    8   37       0  \n",
       "32   41   57       2  \n",
       "46   25   50       2  \n",
       "\n",
       "[5 rows x 85 columns]"
      ]
     },
     "execution_count": 17,
     "metadata": {},
     "output_type": "execute_result"
    }
   ],
   "source": [
    "data_one_period_test = data.drop_duplicates(subset=['Company'], keep='first')\n",
    "data_final_test = data_one_period.drop(['Financial Distress', 'Company'], axis=1)\n",
    "data_final_test.head()"
   ]
  },
  {
   "cell_type": "code",
   "execution_count": 18,
   "metadata": {
    "ExecuteTime": {
     "end_time": "2020-07-26T10:20:12.596209Z",
     "start_time": "2020-07-26T10:20:12.502364Z"
    }
   },
   "outputs": [
    {
     "data": {
      "text/plain": [
       "(422, 87)"
      ]
     },
     "execution_count": 18,
     "metadata": {},
     "output_type": "execute_result"
    }
   ],
   "source": [
    "data_one_period.shape"
   ]
  },
  {
   "cell_type": "markdown",
   "metadata": {},
   "source": [
    "In the selected for modeling part of the dataset (data_one_period) we have 422 rows and 87 columns. Here we have the following distribution of the financial distress which we have converted into the status column. Unlike the original split proposed by Kaggles team this is far more balanced."
   ]
  },
  {
   "cell_type": "code",
   "execution_count": 19,
   "metadata": {
    "ExecuteTime": {
     "end_time": "2020-07-26T10:20:12.707414Z",
     "start_time": "2020-07-26T10:20:12.599584Z"
    }
   },
   "outputs": [
    {
     "data": {
      "text/plain": [
       "0    231\n",
       "1    102\n",
       "2     89\n",
       "Name: status, dtype: int64"
      ]
     },
     "execution_count": 19,
     "metadata": {},
     "output_type": "execute_result"
    }
   ],
   "source": [
    "data_one_period['status'].value_counts()"
   ]
  },
  {
   "cell_type": "code",
   "execution_count": 20,
   "metadata": {
    "ExecuteTime": {
     "end_time": "2020-07-26T10:20:12.855127Z",
     "start_time": "2020-07-26T10:20:12.710790Z"
    }
   },
   "outputs": [
    {
     "data": {
      "text/html": [
       "<div>\n",
       "<style scoped>\n",
       "    .dataframe tbody tr th:only-of-type {\n",
       "        vertical-align: middle;\n",
       "    }\n",
       "\n",
       "    .dataframe tbody tr th {\n",
       "        vertical-align: top;\n",
       "    }\n",
       "\n",
       "    .dataframe thead th {\n",
       "        text-align: right;\n",
       "    }\n",
       "</style>\n",
       "<table border=\"1\" class=\"dataframe\">\n",
       "  <thead>\n",
       "    <tr style=\"text-align: right;\">\n",
       "      <th></th>\n",
       "      <th>Company</th>\n",
       "      <th>Time</th>\n",
       "      <th>Financial Distress</th>\n",
       "      <th>x1</th>\n",
       "      <th>x2</th>\n",
       "      <th>x3</th>\n",
       "      <th>x4</th>\n",
       "      <th>x5</th>\n",
       "      <th>x6</th>\n",
       "      <th>x7</th>\n",
       "      <th>...</th>\n",
       "      <th>x75</th>\n",
       "      <th>x76</th>\n",
       "      <th>x77</th>\n",
       "      <th>x78</th>\n",
       "      <th>x79</th>\n",
       "      <th>x80</th>\n",
       "      <th>x81</th>\n",
       "      <th>x82</th>\n",
       "      <th>x83</th>\n",
       "      <th>status</th>\n",
       "    </tr>\n",
       "  </thead>\n",
       "  <tbody>\n",
       "    <tr>\n",
       "      <th>3</th>\n",
       "      <td>1</td>\n",
       "      <td>4</td>\n",
       "      <td>-0.56657</td>\n",
       "      <td>1.1131</td>\n",
       "      <td>-0.015229</td>\n",
       "      <td>0.85888</td>\n",
       "      <td>0.80974</td>\n",
       "      <td>0.076037</td>\n",
       "      <td>0.091033</td>\n",
       "      <td>0.67546</td>\n",
       "      <td>...</td>\n",
       "      <td>39.80</td>\n",
       "      <td>38.377</td>\n",
       "      <td>17.167</td>\n",
       "      <td>16.0</td>\n",
       "      <td>5.6</td>\n",
       "      <td>22</td>\n",
       "      <td>-0.32539</td>\n",
       "      <td>33</td>\n",
       "      <td>52</td>\n",
       "      <td>0</td>\n",
       "    </tr>\n",
       "    <tr>\n",
       "      <th>17</th>\n",
       "      <td>2</td>\n",
       "      <td>14</td>\n",
       "      <td>2.23200</td>\n",
       "      <td>2.2263</td>\n",
       "      <td>0.325880</td>\n",
       "      <td>0.40651</td>\n",
       "      <td>0.90804</td>\n",
       "      <td>0.455340</td>\n",
       "      <td>0.493550</td>\n",
       "      <td>1.65280</td>\n",
       "      <td>...</td>\n",
       "      <td>227.50</td>\n",
       "      <td>214.500</td>\n",
       "      <td>21.000</td>\n",
       "      <td>20.5</td>\n",
       "      <td>8.6</td>\n",
       "      <td>29</td>\n",
       "      <td>2.65980</td>\n",
       "      <td>20</td>\n",
       "      <td>40</td>\n",
       "      <td>2</td>\n",
       "    </tr>\n",
       "    <tr>\n",
       "      <th>18</th>\n",
       "      <td>3</td>\n",
       "      <td>1</td>\n",
       "      <td>-1.65990</td>\n",
       "      <td>0.8744</td>\n",
       "      <td>-0.034676</td>\n",
       "      <td>0.79350</td>\n",
       "      <td>0.60952</td>\n",
       "      <td>-0.002632</td>\n",
       "      <td>-0.086847</td>\n",
       "      <td>0.50609</td>\n",
       "      <td>...</td>\n",
       "      <td>27.07</td>\n",
       "      <td>26.102</td>\n",
       "      <td>16.000</td>\n",
       "      <td>16.0</td>\n",
       "      <td>0.2</td>\n",
       "      <td>25</td>\n",
       "      <td>-0.30317</td>\n",
       "      <td>8</td>\n",
       "      <td>37</td>\n",
       "      <td>0</td>\n",
       "    </tr>\n",
       "    <tr>\n",
       "      <th>32</th>\n",
       "      <td>4</td>\n",
       "      <td>14</td>\n",
       "      <td>1.27700</td>\n",
       "      <td>3.1096</td>\n",
       "      <td>0.133630</td>\n",
       "      <td>0.21635</td>\n",
       "      <td>0.70654</td>\n",
       "      <td>0.173030</td>\n",
       "      <td>0.446080</td>\n",
       "      <td>1.25870</td>\n",
       "      <td>...</td>\n",
       "      <td>227.50</td>\n",
       "      <td>214.500</td>\n",
       "      <td>21.000</td>\n",
       "      <td>20.5</td>\n",
       "      <td>8.6</td>\n",
       "      <td>12</td>\n",
       "      <td>1.09640</td>\n",
       "      <td>41</td>\n",
       "      <td>57</td>\n",
       "      <td>2</td>\n",
       "    </tr>\n",
       "    <tr>\n",
       "      <th>46</th>\n",
       "      <td>5</td>\n",
       "      <td>14</td>\n",
       "      <td>1.63780</td>\n",
       "      <td>1.2121</td>\n",
       "      <td>0.084192</td>\n",
       "      <td>0.70161</td>\n",
       "      <td>0.33803</td>\n",
       "      <td>0.130500</td>\n",
       "      <td>0.144520</td>\n",
       "      <td>0.93530</td>\n",
       "      <td>...</td>\n",
       "      <td>227.50</td>\n",
       "      <td>214.500</td>\n",
       "      <td>21.000</td>\n",
       "      <td>20.5</td>\n",
       "      <td>8.6</td>\n",
       "      <td>23</td>\n",
       "      <td>1.53660</td>\n",
       "      <td>25</td>\n",
       "      <td>50</td>\n",
       "      <td>2</td>\n",
       "    </tr>\n",
       "  </tbody>\n",
       "</table>\n",
       "<p>5 rows × 87 columns</p>\n",
       "</div>"
      ],
      "text/plain": [
       "    Company  Time  Financial Distress      x1        x2       x3       x4  \\\n",
       "3         1     4            -0.56657  1.1131 -0.015229  0.85888  0.80974   \n",
       "17        2    14             2.23200  2.2263  0.325880  0.40651  0.90804   \n",
       "18        3     1            -1.65990  0.8744 -0.034676  0.79350  0.60952   \n",
       "32        4    14             1.27700  3.1096  0.133630  0.21635  0.70654   \n",
       "46        5    14             1.63780  1.2121  0.084192  0.70161  0.33803   \n",
       "\n",
       "          x5        x6       x7  ...     x75      x76     x77   x78  x79  x80  \\\n",
       "3   0.076037  0.091033  0.67546  ...   39.80   38.377  17.167  16.0  5.6   22   \n",
       "17  0.455340  0.493550  1.65280  ...  227.50  214.500  21.000  20.5  8.6   29   \n",
       "18 -0.002632 -0.086847  0.50609  ...   27.07   26.102  16.000  16.0  0.2   25   \n",
       "32  0.173030  0.446080  1.25870  ...  227.50  214.500  21.000  20.5  8.6   12   \n",
       "46  0.130500  0.144520  0.93530  ...  227.50  214.500  21.000  20.5  8.6   23   \n",
       "\n",
       "        x81  x82  x83  status  \n",
       "3  -0.32539   33   52       0  \n",
       "17  2.65980   20   40       2  \n",
       "18 -0.30317    8   37       0  \n",
       "32  1.09640   41   57       2  \n",
       "46  1.53660   25   50       2  \n",
       "\n",
       "[5 rows x 87 columns]"
      ]
     },
     "execution_count": 20,
     "metadata": {},
     "output_type": "execute_result"
    }
   ],
   "source": [
    "data_one_period.head()"
   ]
  },
  {
   "cell_type": "code",
   "execution_count": 21,
   "metadata": {
    "ExecuteTime": {
     "end_time": "2020-07-26T10:20:12.949910Z",
     "start_time": "2020-07-26T10:20:12.857661Z"
    }
   },
   "outputs": [],
   "source": [
    "data_final = data_one_period.drop(['Financial Distress', 'Company'], axis=1)"
   ]
  },
  {
   "cell_type": "markdown",
   "metadata": {},
   "source": [
    "The none useful column will be dropped. Here is a preview. Below that we have produced a heatmap of the correlation matrix. It is very large and it will not be very useful, so it is comment out."
   ]
  },
  {
   "cell_type": "code",
   "execution_count": 22,
   "metadata": {
    "ExecuteTime": {
     "end_time": "2020-07-26T10:20:13.100340Z",
     "start_time": "2020-07-26T10:20:12.955604Z"
    }
   },
   "outputs": [
    {
     "data": {
      "text/html": [
       "<div>\n",
       "<style scoped>\n",
       "    .dataframe tbody tr th:only-of-type {\n",
       "        vertical-align: middle;\n",
       "    }\n",
       "\n",
       "    .dataframe tbody tr th {\n",
       "        vertical-align: top;\n",
       "    }\n",
       "\n",
       "    .dataframe thead th {\n",
       "        text-align: right;\n",
       "    }\n",
       "</style>\n",
       "<table border=\"1\" class=\"dataframe\">\n",
       "  <thead>\n",
       "    <tr style=\"text-align: right;\">\n",
       "      <th></th>\n",
       "      <th>Time</th>\n",
       "      <th>x1</th>\n",
       "      <th>x2</th>\n",
       "      <th>x3</th>\n",
       "      <th>x4</th>\n",
       "      <th>x5</th>\n",
       "      <th>x6</th>\n",
       "      <th>x7</th>\n",
       "      <th>x8</th>\n",
       "      <th>x9</th>\n",
       "      <th>...</th>\n",
       "      <th>x75</th>\n",
       "      <th>x76</th>\n",
       "      <th>x77</th>\n",
       "      <th>x78</th>\n",
       "      <th>x79</th>\n",
       "      <th>x80</th>\n",
       "      <th>x81</th>\n",
       "      <th>x82</th>\n",
       "      <th>x83</th>\n",
       "      <th>status</th>\n",
       "    </tr>\n",
       "  </thead>\n",
       "  <tbody>\n",
       "    <tr>\n",
       "      <th>3</th>\n",
       "      <td>4</td>\n",
       "      <td>1.1131</td>\n",
       "      <td>-0.015229</td>\n",
       "      <td>0.85888</td>\n",
       "      <td>0.80974</td>\n",
       "      <td>0.076037</td>\n",
       "      <td>0.091033</td>\n",
       "      <td>0.67546</td>\n",
       "      <td>-0.018807</td>\n",
       "      <td>-0.10791</td>\n",
       "      <td>...</td>\n",
       "      <td>39.80</td>\n",
       "      <td>38.377</td>\n",
       "      <td>17.167</td>\n",
       "      <td>16.0</td>\n",
       "      <td>5.6</td>\n",
       "      <td>22</td>\n",
       "      <td>-0.32539</td>\n",
       "      <td>33</td>\n",
       "      <td>52</td>\n",
       "      <td>0</td>\n",
       "    </tr>\n",
       "    <tr>\n",
       "      <th>17</th>\n",
       "      <td>14</td>\n",
       "      <td>2.2263</td>\n",
       "      <td>0.325880</td>\n",
       "      <td>0.40651</td>\n",
       "      <td>0.90804</td>\n",
       "      <td>0.455340</td>\n",
       "      <td>0.493550</td>\n",
       "      <td>1.65280</td>\n",
       "      <td>0.358880</td>\n",
       "      <td>0.54909</td>\n",
       "      <td>...</td>\n",
       "      <td>227.50</td>\n",
       "      <td>214.500</td>\n",
       "      <td>21.000</td>\n",
       "      <td>20.5</td>\n",
       "      <td>8.6</td>\n",
       "      <td>29</td>\n",
       "      <td>2.65980</td>\n",
       "      <td>20</td>\n",
       "      <td>40</td>\n",
       "      <td>2</td>\n",
       "    </tr>\n",
       "    <tr>\n",
       "      <th>18</th>\n",
       "      <td>1</td>\n",
       "      <td>0.8744</td>\n",
       "      <td>-0.034676</td>\n",
       "      <td>0.79350</td>\n",
       "      <td>0.60952</td>\n",
       "      <td>-0.002632</td>\n",
       "      <td>-0.086847</td>\n",
       "      <td>0.50609</td>\n",
       "      <td>-0.056892</td>\n",
       "      <td>-0.16793</td>\n",
       "      <td>...</td>\n",
       "      <td>27.07</td>\n",
       "      <td>26.102</td>\n",
       "      <td>16.000</td>\n",
       "      <td>16.0</td>\n",
       "      <td>0.2</td>\n",
       "      <td>25</td>\n",
       "      <td>-0.30317</td>\n",
       "      <td>8</td>\n",
       "      <td>37</td>\n",
       "      <td>0</td>\n",
       "    </tr>\n",
       "    <tr>\n",
       "      <th>32</th>\n",
       "      <td>14</td>\n",
       "      <td>3.1096</td>\n",
       "      <td>0.133630</td>\n",
       "      <td>0.21635</td>\n",
       "      <td>0.70654</td>\n",
       "      <td>0.173030</td>\n",
       "      <td>0.446080</td>\n",
       "      <td>1.25870</td>\n",
       "      <td>0.189140</td>\n",
       "      <td>0.17053</td>\n",
       "      <td>...</td>\n",
       "      <td>227.50</td>\n",
       "      <td>214.500</td>\n",
       "      <td>21.000</td>\n",
       "      <td>20.5</td>\n",
       "      <td>8.6</td>\n",
       "      <td>12</td>\n",
       "      <td>1.09640</td>\n",
       "      <td>41</td>\n",
       "      <td>57</td>\n",
       "      <td>2</td>\n",
       "    </tr>\n",
       "    <tr>\n",
       "      <th>46</th>\n",
       "      <td>14</td>\n",
       "      <td>1.2121</td>\n",
       "      <td>0.084192</td>\n",
       "      <td>0.70161</td>\n",
       "      <td>0.33803</td>\n",
       "      <td>0.130500</td>\n",
       "      <td>0.144520</td>\n",
       "      <td>0.93530</td>\n",
       "      <td>0.249060</td>\n",
       "      <td>0.28215</td>\n",
       "      <td>...</td>\n",
       "      <td>227.50</td>\n",
       "      <td>214.500</td>\n",
       "      <td>21.000</td>\n",
       "      <td>20.5</td>\n",
       "      <td>8.6</td>\n",
       "      <td>23</td>\n",
       "      <td>1.53660</td>\n",
       "      <td>25</td>\n",
       "      <td>50</td>\n",
       "      <td>2</td>\n",
       "    </tr>\n",
       "  </tbody>\n",
       "</table>\n",
       "<p>5 rows × 85 columns</p>\n",
       "</div>"
      ],
      "text/plain": [
       "    Time      x1        x2       x3       x4        x5        x6       x7  \\\n",
       "3      4  1.1131 -0.015229  0.85888  0.80974  0.076037  0.091033  0.67546   \n",
       "17    14  2.2263  0.325880  0.40651  0.90804  0.455340  0.493550  1.65280   \n",
       "18     1  0.8744 -0.034676  0.79350  0.60952 -0.002632 -0.086847  0.50609   \n",
       "32    14  3.1096  0.133630  0.21635  0.70654  0.173030  0.446080  1.25870   \n",
       "46    14  1.2121  0.084192  0.70161  0.33803  0.130500  0.144520  0.93530   \n",
       "\n",
       "          x8       x9  ...     x75      x76     x77   x78  x79  x80      x81  \\\n",
       "3  -0.018807 -0.10791  ...   39.80   38.377  17.167  16.0  5.6   22 -0.32539   \n",
       "17  0.358880  0.54909  ...  227.50  214.500  21.000  20.5  8.6   29  2.65980   \n",
       "18 -0.056892 -0.16793  ...   27.07   26.102  16.000  16.0  0.2   25 -0.30317   \n",
       "32  0.189140  0.17053  ...  227.50  214.500  21.000  20.5  8.6   12  1.09640   \n",
       "46  0.249060  0.28215  ...  227.50  214.500  21.000  20.5  8.6   23  1.53660   \n",
       "\n",
       "    x82  x83  status  \n",
       "3    33   52       0  \n",
       "17   20   40       2  \n",
       "18    8   37       0  \n",
       "32   41   57       2  \n",
       "46   25   50       2  \n",
       "\n",
       "[5 rows x 85 columns]"
      ]
     },
     "execution_count": 22,
     "metadata": {},
     "output_type": "execute_result"
    }
   ],
   "source": [
    "data_final.head()"
   ]
  },
  {
   "cell_type": "code",
   "execution_count": 23,
   "metadata": {
    "ExecuteTime": {
     "end_time": "2020-07-26T10:20:13.202405Z",
     "start_time": "2020-07-26T10:20:13.106781Z"
    }
   },
   "outputs": [],
   "source": [
    "#plt.figure(figsize=(20,10))\n",
    "#plt.title('Correlation Matrix')\n",
    "#sns.heatmap(data_final.corr(), annot=True)\n",
    "#plt.show()"
   ]
  },
  {
   "cell_type": "markdown",
   "metadata": {},
   "source": [
    "Now we will use the correlation coefficients for variable selection. Here are the correlations of the predictors against the status column in absolute values sorted in ascending order. We choose to select the values with the correlation coefficient higher then 10%, but lower then 70%."
   ]
  },
  {
   "cell_type": "code",
   "execution_count": 24,
   "metadata": {
    "ExecuteTime": {
     "end_time": "2020-07-26T10:20:13.339590Z",
     "start_time": "2020-07-26T10:20:13.206712Z"
    }
   },
   "outputs": [
    {
     "data": {
      "text/plain": [
       "x28       0.002354\n",
       "x35       0.016076\n",
       "x39       0.020654\n",
       "x82       0.021716\n",
       "x20       0.039651\n",
       "            ...   \n",
       "x5        0.605355\n",
       "x81       0.609253\n",
       "x2        0.620442\n",
       "x10       0.739800\n",
       "status    1.000000\n",
       "Name: status, Length: 85, dtype: float64"
      ]
     },
     "execution_count": 24,
     "metadata": {},
     "output_type": "execute_result"
    }
   ],
   "source": [
    "abs(data_final.corr()['status']).sort_values(ascending=True)"
   ]
  },
  {
   "cell_type": "code",
   "execution_count": 25,
   "metadata": {
    "ExecuteTime": {
     "end_time": "2020-07-26T10:20:13.458087Z",
     "start_time": "2020-07-26T10:20:13.341237Z"
    }
   },
   "outputs": [],
   "source": [
    "variables = abs(data_final.corr()['status']).sort_values(ascending=True)"
   ]
  },
  {
   "cell_type": "code",
   "execution_count": 26,
   "metadata": {
    "ExecuteTime": {
     "end_time": "2020-07-26T10:20:13.561157Z",
     "start_time": "2020-07-26T10:20:13.462846Z"
    }
   },
   "outputs": [
    {
     "data": {
      "text/plain": [
       "67"
      ]
     },
     "execution_count": 26,
     "metadata": {},
     "output_type": "execute_result"
    }
   ],
   "source": [
    "v1 = variables[0.05 < variables.values]\n",
    "v2 = v1[v1.values < 0.7]\n",
    "len(v2.index)"
   ]
  },
  {
   "cell_type": "code",
   "execution_count": 27,
   "metadata": {
    "ExecuteTime": {
     "end_time": "2020-07-26T10:20:13.683939Z",
     "start_time": "2020-07-26T10:20:13.562715Z"
    }
   },
   "outputs": [
    {
     "data": {
      "text/plain": [
       "Index(['x57', 'x42', 'x17', 'x22', 'x34', 'x40', 'x43', 'x11', 'x15', 'x7',\n",
       "       'x58', 'x21', 'x1', 'x74', 'x44', 'x18', 'x12', 'x65', 'x56', 'x80',\n",
       "       'x4', 'x41', 'x66', 'x33', 'x45', 'x30', 'x72', 'x29', 'x73', 'x71',\n",
       "       'x54', 'x37', 'x24', 'x67', 'x55', 'x69', 'x6', 'x49', 'x14', 'x70',\n",
       "       'x3', 'x13', 'x60', 'x26', 'x51', 'x63', 'x61', 'x23', 'x50', 'x79',\n",
       "       'x46', 'x62', 'x64', 'Time', 'x77', 'x9', 'x78', 'x48', 'x36', 'x68',\n",
       "       'x76', 'x75', 'x53', 'x25', 'x5', 'x81', 'x2'],\n",
       "      dtype='object')"
      ]
     },
     "execution_count": 27,
     "metadata": {},
     "output_type": "execute_result"
    }
   ],
   "source": [
    "ind = v2.index\n",
    "v2.index"
   ]
  },
  {
   "cell_type": "code",
   "execution_count": 28,
   "metadata": {
    "ExecuteTime": {
     "end_time": "2020-07-26T10:20:13.803838Z",
     "start_time": "2020-07-26T10:20:13.688638Z"
    }
   },
   "outputs": [],
   "source": [
    "y = data_final['status']\n",
    "X = data_final[ind]"
   ]
  },
  {
   "cell_type": "code",
   "execution_count": 29,
   "metadata": {
    "ExecuteTime": {
     "end_time": "2020-07-26T10:20:13.927186Z",
     "start_time": "2020-07-26T10:20:13.808652Z"
    }
   },
   "outputs": [
    {
     "data": {
      "text/plain": [
       "(422, 67)"
      ]
     },
     "execution_count": 29,
     "metadata": {},
     "output_type": "execute_result"
    }
   ],
   "source": [
    "X.shape"
   ]
  },
  {
   "cell_type": "markdown",
   "metadata": {},
   "source": [
    "We need to check about multicolinearity between the predictors. The VIF (Variance Inflation Factor) will be used.\n",
    "A function has been written to help us with the variable selection. For the curious reader check more on the topic here https://en.wikipedia.org/wiki/Variance_inflation_factor."
   ]
  },
  {
   "cell_type": "code",
   "execution_count": 30,
   "metadata": {
    "ExecuteTime": {
     "end_time": "2020-07-26T10:20:14.058095Z",
     "start_time": "2020-07-26T10:20:13.929049Z"
    }
   },
   "outputs": [],
   "source": [
    "def calc_vif(X):\n",
    "    \n",
    "    vif = pd.DataFrame()\n",
    "    vif[\"variables\"] = X.columns\n",
    "    vif[\"VIF\"] = [variance_inflation_factor(X.values, i) for i in range(X.shape[1])]\n",
    "\n",
    "    return(vif)"
   ]
  },
  {
   "cell_type": "code",
   "execution_count": 31,
   "metadata": {
    "ExecuteTime": {
     "end_time": "2020-07-26T10:20:14.525901Z",
     "start_time": "2020-07-26T10:20:14.060431Z"
    }
   },
   "outputs": [
    {
     "data": {
      "text/plain": [
       "(67, 2)"
      ]
     },
     "execution_count": 31,
     "metadata": {},
     "output_type": "execute_result"
    }
   ],
   "source": [
    "vif_df = calc_vif(X)\n",
    "vif_df.shape"
   ]
  },
  {
   "cell_type": "code",
   "execution_count": 32,
   "metadata": {
    "ExecuteTime": {
     "end_time": "2020-07-26T10:20:14.542176Z",
     "start_time": "2020-07-26T10:20:14.527606Z"
    }
   },
   "outputs": [
    {
     "data": {
      "text/plain": [
       "(17, 2)"
      ]
     },
     "execution_count": 32,
     "metadata": {},
     "output_type": "execute_result"
    }
   ],
   "source": [
    "vif_df_without_corr = vif_df[vif_df['VIF'] < 10]\n",
    "vif_df_without_corr.shape"
   ]
  },
  {
   "cell_type": "markdown",
   "metadata": {},
   "source": [
    "We have chosen a cutoff rate of 10, it could be lower. Finally we get only 24 variables."
   ]
  },
  {
   "cell_type": "code",
   "execution_count": 33,
   "metadata": {
    "ExecuteTime": {
     "end_time": "2020-07-26T10:20:14.659516Z",
     "start_time": "2020-07-26T10:20:14.543728Z"
    }
   },
   "outputs": [
    {
     "data": {
      "text/plain": [
       "0     x57\n",
       "1     x42\n",
       "3     x22\n",
       "5     x40\n",
       "6     x43\n",
       "8     x15\n",
       "10    x58\n",
       "14    x44\n",
       "15    x18\n",
       "16    x12\n",
       "24    x45\n",
       "30    x54\n",
       "34    x55\n",
       "42    x60\n",
       "50    x46\n",
       "55     x9\n",
       "58    x36\n",
       "Name: variables, dtype: object"
      ]
     },
     "execution_count": 33,
     "metadata": {},
     "output_type": "execute_result"
    }
   ],
   "source": [
    "vif_df_without_corr['variables']"
   ]
  },
  {
   "cell_type": "code",
   "execution_count": 34,
   "metadata": {
    "ExecuteTime": {
     "end_time": "2020-07-26T10:20:14.784546Z",
     "start_time": "2020-07-26T10:20:14.661430Z"
    }
   },
   "outputs": [
    {
     "data": {
      "text/plain": [
       "(422, 17)"
      ]
     },
     "execution_count": 34,
     "metadata": {},
     "output_type": "execute_result"
    }
   ],
   "source": [
    "X = X[vif_df_without_corr['variables']]\n",
    "X.shape"
   ]
  },
  {
   "cell_type": "markdown",
   "metadata": {},
   "source": [
    "We produce a heatmap of the correlation matrix of the leftover values. We can see that there is no multicolinearity."
   ]
  },
  {
   "cell_type": "code",
   "execution_count": 35,
   "metadata": {
    "ExecuteTime": {
     "end_time": "2020-07-26T10:20:16.714031Z",
     "start_time": "2020-07-26T10:20:14.789189Z"
    }
   },
   "outputs": [
    {
     "data": {
      "image/png": "[encoded data removed]",
      "text/plain": [
       "<Figure size 1440x720 with 2 Axes>"
      ]
     },
     "metadata": {
      "needs_background": "light"
     },
     "output_type": "display_data"
    }
   ],
   "source": [
    "plt.figure(figsize=(20,10))\n",
    "plt.title('Correlation Matrix of the selected predictors')\n",
    "sns.heatmap(X.corr(), annot=True)\n",
    "plt.show()"
   ]
  },
  {
   "cell_type": "code",
   "execution_count": 36,
   "metadata": {
    "ExecuteTime": {
     "end_time": "2020-07-26T10:20:16.722880Z",
     "start_time": "2020-07-26T10:20:16.716122Z"
    }
   },
   "outputs": [],
   "source": [
    "X_train, X_test, y_train, y_test = train_test_split(\n",
    "     X, y, test_size=0.3, random_state=42)"
   ]
  },
  {
   "cell_type": "markdown",
   "metadata": {},
   "source": [
    "Finally we have produces a test train slit with 30 percent test size. The random state of 42 has been used for reproduceability."
   ]
  },
  {
   "cell_type": "markdown",
   "metadata": {},
   "source": [
    "## Modeling on the selected data\n",
    "Firstly we have tried scaling with the MinMaxScaler. This has not produced much improvement so, it has been dropped out. The predictors are not that different on the scales basis compared to each other."
   ]
  },
  {
   "cell_type": "code",
   "execution_count": 37,
   "metadata": {
    "ExecuteTime": {
     "end_time": "2020-07-26T10:20:16.846246Z",
     "start_time": "2020-07-26T10:20:16.725644Z"
    }
   },
   "outputs": [],
   "source": [
    "#scaler =  MinMaxScaler()\n",
    "#X_train = scaler.fit_transform(X_train)\n",
    "#X_test = scaler.transform(X_test)"
   ]
  },
  {
   "cell_type": "markdown",
   "metadata": {},
   "source": [
    "We have written a function evaluate the performance of the model using accuracy both on the training and test dataset, as well as the root mean squired error, and the classification report based on the confusion matrix, with the precision, recall, f1-score and support."
   ]
  },
  {
   "cell_type": "code",
   "execution_count": 38,
   "metadata": {
    "ExecuteTime": {
     "end_time": "2020-07-26T10:20:16.971078Z",
     "start_time": "2020-07-26T10:20:16.848162Z"
    }
   },
   "outputs": [],
   "source": [
    "def evaluate(model, train_features, train_labels, test_features, test_labels):\n",
    "    train_acc = model.score(train_features, train_labels)\n",
    "    predictions = model.predict(test_features)\n",
    "    rmse = np.sqrt(mean_squared_error(test_labels, predictions))\n",
    "    accuracy = accuracy_score(test_labels, predictions)\n",
    "    class_report = classification_report(test_labels, predictions)\n",
    "    print('Model Performance')\n",
    "    print('Training data performance {:0.2f}%'.format(train_acc))\n",
    "    print('Root Mean Squired Error: {:0.2f}'.format(rmse))\n",
    "    print('Test Accuracy: {:0.2f}%.'.format(accuracy))\n",
    "    print(class_report)"
   ]
  },
  {
   "cell_type": "markdown",
   "metadata": {},
   "source": [
    "The first model that we will use is the logistic regression. The results are not that impressive."
   ]
  },
  {
   "cell_type": "code",
   "execution_count": 39,
   "metadata": {
    "ExecuteTime": {
     "end_time": "2020-07-26T10:20:17.178956Z",
     "start_time": "2020-07-26T10:20:16.973214Z"
    }
   },
   "outputs": [
    {
     "name": "stdout",
     "output_type": "stream",
     "text": [
      "Model Performance\n",
      "Training data performance 0.53%\n",
      "Root Mean Squired Error: 0.99\n",
      "Test Accuracy: 0.45%.\n",
      "              precision    recall  f1-score   support\n",
      "\n",
      "           0       0.65      0.55      0.59        60\n",
      "           1       0.37      0.57      0.45        37\n",
      "           2       0.16      0.10      0.12        30\n",
      "\n",
      "    accuracy                           0.45       127\n",
      "   macro avg       0.39      0.41      0.39       127\n",
      "weighted avg       0.45      0.45      0.44       127\n",
      "\n"
     ]
    },
    {
     "name": "stderr",
     "output_type": "stream",
     "text": [
      "/home/stefan/anaconda3/lib/python3.7/site-packages/sklearn/linear_model/_logistic.py:939: ConvergenceWarning: lbfgs failed to converge (status=1):\n",
      "STOP: TOTAL NO. of ITERATIONS REACHED LIMIT.\n",
      "\n",
      "Increase the number of iterations (max_iter) or scale the data as shown in:\n",
      "    https://scikit-learn.org/stable/modules/preprocessing.html.\n",
      "Please also refer to the documentation for alternative solver options:\n",
      "    https://scikit-learn.org/stable/modules/linear_model.html#logistic-regression\n",
      "  extra_warning_msg=_LOGISTIC_SOLVER_CONVERGENCE_MSG)\n"
     ]
    }
   ],
   "source": [
    "clf_base = LogisticRegression(random_state=42).fit(X_train, y_train)\n",
    "evaluate(clf_base,  X_train, y_train, X_test, y_test)"
   ]
  },
  {
   "cell_type": "code",
   "execution_count": 40,
   "metadata": {
    "ExecuteTime": {
     "end_time": "2020-07-26T10:20:17.227383Z",
     "start_time": "2020-07-26T10:20:17.180982Z"
    }
   },
   "outputs": [
    {
     "data": {
      "text/plain": [
       "(422, 17)"
      ]
     },
     "execution_count": 40,
     "metadata": {},
     "output_type": "execute_result"
    }
   ],
   "source": [
    "X_test_holdout = data_one_period_test[vif_df_without_corr['variables']]\n",
    "X_test_holdout.shape"
   ]
  },
  {
   "cell_type": "markdown",
   "metadata": {},
   "source": [
    "Now we will test it on the hold out sample."
   ]
  },
  {
   "cell_type": "code",
   "execution_count": 41,
   "metadata": {
    "ExecuteTime": {
     "end_time": "2020-07-26T10:20:17.739110Z",
     "start_time": "2020-07-26T10:20:17.229914Z"
    }
   },
   "outputs": [
    {
     "data": {
      "image/png": "[encoded data removed]",
      "text/plain": [
       "<Figure size 1224x576 with 1 Axes>"
      ]
     },
     "metadata": {
      "needs_background": "light"
     },
     "output_type": "display_data"
    }
   ],
   "source": [
    "plt.figure(figsize=(17,8))\n",
    "sns.distplot(data_one_period_test[data_one_period_test['Financial Distress'] < 100]['Financial Distress'],kde=False, rug=True, color = 'blue')\n",
    "plt.title('Financial Distress Histogram testing holdout')\n",
    "plt.xlabel('Values')\n",
    "plt.ylabel('Frequency')\n",
    "plt.grid(True)\n",
    "plt.show()"
   ]
  },
  {
   "cell_type": "code",
   "execution_count": 42,
   "metadata": {
    "ExecuteTime": {
     "end_time": "2020-07-26T10:20:17.772819Z",
     "start_time": "2020-07-26T10:20:17.741463Z"
    }
   },
   "outputs": [
    {
     "name": "stdout",
     "output_type": "stream",
     "text": [
      "(422,)\n",
      "(422, 17)\n"
     ]
    },
    {
     "name": "stderr",
     "output_type": "stream",
     "text": [
      "/home/stefan/anaconda3/lib/python3.7/site-packages/ipykernel_launcher.py:2: SettingWithCopyWarning: \n",
      "A value is trying to be set on a copy of a slice from a DataFrame.\n",
      "Try using .loc[row_indexer,col_indexer] = value instead\n",
      "\n",
      "See the caveats in the documentation: https://pandas.pydata.org/pandas-docs/stable/user_guide/indexing.html#returning-a-view-versus-a-copy\n",
      "  \n"
     ]
    }
   ],
   "source": [
    "data_one_period_test['status'] = np.where(data_one_period_test['Financial Distress'] < 0.295,0,\n",
    "                                          np.where(data_one_period_test['Financial Distress'] < 1.021, 1,2))\n",
    "y_test_holdout = data_one_period_test['status']\n",
    "print(y_test_holdout.shape)\n",
    "print(X_test_holdout.shape)"
   ]
  },
  {
   "cell_type": "markdown",
   "metadata": {},
   "source": [
    "The results are not that different, even better in this case."
   ]
  },
  {
   "cell_type": "code",
   "execution_count": 43,
   "metadata": {
    "ExecuteTime": {
     "end_time": "2020-07-26T10:20:17.970416Z",
     "start_time": "2020-07-26T10:20:17.774295Z"
    }
   },
   "outputs": [
    {
     "name": "stdout",
     "output_type": "stream",
     "text": [
      "Model Performance\n",
      "Training data performance 0.53%\n",
      "Root Mean Squired Error: 0.95\n",
      "Test Accuracy: 0.49%.\n",
      "              precision    recall  f1-score   support\n",
      "\n",
      "           0       0.50      0.83      0.63       192\n",
      "           1       0.40      0.21      0.28       146\n",
      "           2       0.60      0.18      0.28        84\n",
      "\n",
      "    accuracy                           0.49       422\n",
      "   macro avg       0.50      0.41      0.39       422\n",
      "weighted avg       0.49      0.49      0.44       422\n",
      "\n"
     ]
    },
    {
     "name": "stderr",
     "output_type": "stream",
     "text": [
      "/home/stefan/anaconda3/lib/python3.7/site-packages/sklearn/linear_model/_logistic.py:939: ConvergenceWarning: lbfgs failed to converge (status=1):\n",
      "STOP: TOTAL NO. of ITERATIONS REACHED LIMIT.\n",
      "\n",
      "Increase the number of iterations (max_iter) or scale the data as shown in:\n",
      "    https://scikit-learn.org/stable/modules/preprocessing.html.\n",
      "Please also refer to the documentation for alternative solver options:\n",
      "    https://scikit-learn.org/stable/modules/linear_model.html#logistic-regression\n",
      "  extra_warning_msg=_LOGISTIC_SOLVER_CONVERGENCE_MSG)\n"
     ]
    }
   ],
   "source": [
    "clf_base = LogisticRegression(random_state=42).fit(X_train, y_train)\n",
    "evaluate(clf_base,  X_train, y_train, X_test_holdout, y_test_holdout)"
   ]
  },
  {
   "cell_type": "markdown",
   "metadata": {},
   "source": [
    "Now we will create a Random Forest Classifier. The training performance is significantly better meaning there is overfitting. The holdout data proves further this issue."
   ]
  },
  {
   "cell_type": "code",
   "execution_count": 44,
   "metadata": {
    "ExecuteTime": {
     "end_time": "2020-07-26T10:20:18.250027Z",
     "start_time": "2020-07-26T10:20:17.972595Z"
    }
   },
   "outputs": [
    {
     "name": "stdout",
     "output_type": "stream",
     "text": [
      "Model Performance\n",
      "Training data performance 1.00%\n",
      "Root Mean Squired Error: 0.75\n",
      "Test Accuracy: 0.65%.\n",
      "              precision    recall  f1-score   support\n",
      "\n",
      "           0       0.67      0.95      0.79        60\n",
      "           1       0.53      0.24      0.33        37\n",
      "           2       0.64      0.53      0.58        30\n",
      "\n",
      "    accuracy                           0.65       127\n",
      "   macro avg       0.61      0.58      0.57       127\n",
      "weighted avg       0.62      0.65      0.61       127\n",
      "\n"
     ]
    }
   ],
   "source": [
    "rf_base = RandomForestClassifier(random_state=42).fit(X_train, y_train)\n",
    "evaluate(rf_base,  X_train, y_train, X_test, y_test)"
   ]
  },
  {
   "cell_type": "code",
   "execution_count": 45,
   "metadata": {
    "ExecuteTime": {
     "end_time": "2020-07-26T10:20:18.291017Z",
     "start_time": "2020-07-26T10:20:18.254724Z"
    }
   },
   "outputs": [
    {
     "name": "stdout",
     "output_type": "stream",
     "text": [
      "Model Performance\n",
      "Training data performance 1.00%\n",
      "Root Mean Squired Error: 0.91\n",
      "Test Accuracy: 0.54%.\n",
      "              precision    recall  f1-score   support\n",
      "\n",
      "           0       0.53      0.93      0.67       192\n",
      "           1       0.59      0.11      0.18       146\n",
      "           2       0.62      0.42      0.50        84\n",
      "\n",
      "    accuracy                           0.54       422\n",
      "   macro avg       0.58      0.48      0.45       422\n",
      "weighted avg       0.57      0.54      0.47       422\n",
      "\n"
     ]
    }
   ],
   "source": [
    "evaluate(rf_base,  X_train, y_train, X_test_holdout, y_test_holdout)"
   ]
  },
  {
   "cell_type": "markdown",
   "metadata": {},
   "source": [
    "Now it is time for the AdaBoost classifier. We still have overfitting but to a lesser extent."
   ]
  },
  {
   "cell_type": "code",
   "execution_count": 46,
   "metadata": {
    "ExecuteTime": {
     "end_time": "2020-07-26T10:20:18.503582Z",
     "start_time": "2020-07-26T10:20:18.293590Z"
    }
   },
   "outputs": [
    {
     "name": "stdout",
     "output_type": "stream",
     "text": [
      "Model Performance\n",
      "Training data performance 0.84%\n",
      "Root Mean Squired Error: 0.62\n",
      "Test Accuracy: 0.71%.\n",
      "              precision    recall  f1-score   support\n",
      "\n",
      "           0       0.78      0.95      0.86        60\n",
      "           1       0.56      0.51      0.54        37\n",
      "           2       0.70      0.47      0.56        30\n",
      "\n",
      "    accuracy                           0.71       127\n",
      "   macro avg       0.68      0.64      0.65       127\n",
      "weighted avg       0.70      0.71      0.69       127\n",
      "\n"
     ]
    }
   ],
   "source": [
    "ab_base = AdaBoostClassifier(random_state=0).fit(X_train, y_train)\n",
    "evaluate(ab_base,  X_train, y_train, X_test, y_test)"
   ]
  },
  {
   "cell_type": "code",
   "execution_count": 47,
   "metadata": {
    "ExecuteTime": {
     "end_time": "2020-07-26T10:20:18.698577Z",
     "start_time": "2020-07-26T10:20:18.505568Z"
    }
   },
   "outputs": [
    {
     "name": "stdout",
     "output_type": "stream",
     "text": [
      "Model Performance\n",
      "Training data performance 0.84%\n",
      "Root Mean Squired Error: 0.84\n",
      "Test Accuracy: 0.47%.\n",
      "              precision    recall  f1-score   support\n",
      "\n",
      "           0       0.61      0.54      0.57       192\n",
      "           1       0.38      0.53      0.44       146\n",
      "           2       0.41      0.23      0.29        84\n",
      "\n",
      "    accuracy                           0.47       422\n",
      "   macro avg       0.47      0.43      0.43       422\n",
      "weighted avg       0.49      0.47      0.47       422\n",
      "\n"
     ]
    }
   ],
   "source": [
    "ab_base = AdaBoostClassifier(random_state=42).fit(X_train, y_train)\n",
    "evaluate(ab_base,  X_train, y_train, X_test_holdout, y_test_holdout)"
   ]
  },
  {
   "cell_type": "markdown",
   "metadata": {},
   "source": [
    "We introduce the Support Vector Classifier. There are several kernels to choose from. They don't produce very high accuracy, so they will not be considered further. It should be noted that the linear kernel is slower compared to the other kernels."
   ]
  },
  {
   "cell_type": "code",
   "execution_count": 48,
   "metadata": {
    "ExecuteTime": {
     "end_time": "2020-07-26T10:20:18.794867Z",
     "start_time": "2020-07-26T10:20:18.700358Z"
    }
   },
   "outputs": [
    {
     "name": "stdout",
     "output_type": "stream",
     "text": [
      "Model Performance\n",
      "Training data performance 0.59%\n",
      "Root Mean Squired Error: 1.11\n",
      "Test Accuracy: 0.47%.\n",
      "              precision    recall  f1-score   support\n",
      "\n",
      "           0       0.47      1.00      0.64        60\n",
      "           1       0.00      0.00      0.00        37\n",
      "           2       0.00      0.00      0.00        30\n",
      "\n",
      "    accuracy                           0.47       127\n",
      "   macro avg       0.16      0.33      0.21       127\n",
      "weighted avg       0.22      0.47      0.30       127\n",
      "\n"
     ]
    },
    {
     "name": "stderr",
     "output_type": "stream",
     "text": [
      "/home/stefan/anaconda3/lib/python3.7/site-packages/sklearn/metrics/_classification.py:1268: UndefinedMetricWarning: Precision and F-score are ill-defined and being set to 0.0 in labels with no predicted samples. Use `zero_division` parameter to control this behavior.\n",
      "  _warn_prf(average, modifier, msg_start, len(result))\n",
      "/home/stefan/anaconda3/lib/python3.7/site-packages/sklearn/metrics/_classification.py:1268: UndefinedMetricWarning: Precision and F-score are ill-defined and being set to 0.0 in labels with no predicted samples. Use `zero_division` parameter to control this behavior.\n",
      "  _warn_prf(average, modifier, msg_start, len(result))\n",
      "/home/stefan/anaconda3/lib/python3.7/site-packages/sklearn/metrics/_classification.py:1268: UndefinedMetricWarning: Precision and F-score are ill-defined and being set to 0.0 in labels with no predicted samples. Use `zero_division` parameter to control this behavior.\n",
      "  _warn_prf(average, modifier, msg_start, len(result))\n"
     ]
    }
   ],
   "source": [
    "sv_base_rbf = SVC(kernel='rbf').fit(X_train, y_train)\n",
    "evaluate(sv_base_rbf,  X_train, y_train, X_test, y_test)"
   ]
  },
  {
   "cell_type": "code",
   "execution_count": 49,
   "metadata": {
    "ExecuteTime": {
     "end_time": "2020-07-26T10:20:18.894109Z",
     "start_time": "2020-07-26T10:20:18.796746Z"
    }
   },
   "outputs": [
    {
     "name": "stdout",
     "output_type": "stream",
     "text": [
      "Model Performance\n",
      "Training data performance 0.59%\n",
      "Root Mean Squired Error: 1.07\n",
      "Test Accuracy: 0.49%.\n",
      "              precision    recall  f1-score   support\n",
      "\n",
      "           0       0.48      0.98      0.64        60\n",
      "           1       0.00      0.00      0.00        37\n",
      "           2       1.00      0.10      0.18        30\n",
      "\n",
      "    accuracy                           0.49       127\n",
      "   macro avg       0.49      0.36      0.28       127\n",
      "weighted avg       0.46      0.49      0.35       127\n",
      "\n"
     ]
    }
   ],
   "source": [
    "sv_base_sig = SVC(kernel='sigmoid').fit(X_train, y_train)\n",
    "evaluate(sv_base_sig,  X_train, y_train, X_test, y_test)"
   ]
  },
  {
   "cell_type": "code",
   "execution_count": 50,
   "metadata": {
    "ExecuteTime": {
     "end_time": "2020-07-26T10:20:19.002035Z",
     "start_time": "2020-07-26T10:20:18.896001Z"
    }
   },
   "outputs": [],
   "source": [
    "#sv_base_lin = SVC(kernel='linear').fit(X_train, y_train)\n",
    "#evaluate(sv_base_lin,  X_train, y_train, X_test, y_test)"
   ]
  },
  {
   "cell_type": "markdown",
   "metadata": {},
   "source": [
    "This is the extreme gradient booting classifier from another library different from sklearn. There is still the issue of overfitting."
   ]
  },
  {
   "cell_type": "code",
   "execution_count": 51,
   "metadata": {
    "ExecuteTime": {
     "end_time": "2020-07-26T10:20:19.340228Z",
     "start_time": "2020-07-26T10:20:19.003542Z"
    }
   },
   "outputs": [
    {
     "name": "stdout",
     "output_type": "stream",
     "text": [
      "Model Performance\n",
      "Training data performance 1.00%\n",
      "Root Mean Squired Error: 0.70\n",
      "Test Accuracy: 0.68%.\n",
      "              precision    recall  f1-score   support\n",
      "\n",
      "           0       0.72      0.93      0.81        60\n",
      "           1       0.57      0.35      0.43        37\n",
      "           2       0.65      0.57      0.61        30\n",
      "\n",
      "    accuracy                           0.68       127\n",
      "   macro avg       0.65      0.62      0.62       127\n",
      "weighted avg       0.66      0.68      0.65       127\n",
      "\n"
     ]
    }
   ],
   "source": [
    "xgb_model_base = xgb.XGBClassifier(objective=\"multi:softprob\", random_state=42).fit(X_train, y_train)\n",
    "evaluate(xgb_model_base, X_train, y_train, X_test, y_test)"
   ]
  },
  {
   "cell_type": "code",
   "execution_count": 52,
   "metadata": {
    "ExecuteTime": {
     "end_time": "2020-07-26T10:20:19.406302Z",
     "start_time": "2020-07-26T10:20:19.342166Z"
    }
   },
   "outputs": [
    {
     "name": "stdout",
     "output_type": "stream",
     "text": [
      "Model Performance\n",
      "Training data performance 1.00%\n",
      "Root Mean Squired Error: 0.88\n",
      "Test Accuracy: 0.55%.\n",
      "              precision    recall  f1-score   support\n",
      "\n",
      "           0       0.54      0.92      0.68       192\n",
      "           1       0.54      0.14      0.22       146\n",
      "           2       0.63      0.44      0.52        84\n",
      "\n",
      "    accuracy                           0.55       422\n",
      "   macro avg       0.57      0.50      0.47       422\n",
      "weighted avg       0.56      0.55      0.49       422\n",
      "\n"
     ]
    }
   ],
   "source": [
    "evaluate(xgb_model_base, X_train, y_train, X_test_holdout, y_test_holdout)"
   ]
  },
  {
   "cell_type": "markdown",
   "metadata": {},
   "source": [
    "The last model to consider is the Light Gradient Boosting classifier. There is still the issue of overfitting."
   ]
  },
  {
   "cell_type": "code",
   "execution_count": 53,
   "metadata": {
    "ExecuteTime": {
     "end_time": "2020-07-26T10:20:19.674536Z",
     "start_time": "2020-07-26T10:20:19.409128Z"
    }
   },
   "outputs": [
    {
     "name": "stdout",
     "output_type": "stream",
     "text": [
      "Model Performance\n",
      "Training data performance 1.00%\n",
      "Root Mean Squired Error: 0.66\n",
      "Test Accuracy: 0.68%.\n",
      "              precision    recall  f1-score   support\n",
      "\n",
      "           0       0.73      0.92      0.81        60\n",
      "           1       0.52      0.30      0.38        37\n",
      "           2       0.65      0.67      0.66        30\n",
      "\n",
      "    accuracy                           0.68       127\n",
      "   macro avg       0.63      0.63      0.62       127\n",
      "weighted avg       0.65      0.68      0.65       127\n",
      "\n"
     ]
    }
   ],
   "source": [
    "lgb_model = LGBMClassifier(random_state=42).fit(X_train, y_train)\n",
    "evaluate(lgb_model, X_train, y_train, X_test, y_test)"
   ]
  },
  {
   "cell_type": "code",
   "execution_count": 54,
   "metadata": {
    "ExecuteTime": {
     "end_time": "2020-07-26T10:20:19.700656Z",
     "start_time": "2020-07-26T10:20:19.676327Z"
    }
   },
   "outputs": [
    {
     "name": "stdout",
     "output_type": "stream",
     "text": [
      "Model Performance\n",
      "Training data performance 1.00%\n",
      "Root Mean Squired Error: 0.89\n",
      "Test Accuracy: 0.55%.\n",
      "              precision    recall  f1-score   support\n",
      "\n",
      "           0       0.54      0.91      0.67       192\n",
      "           1       0.53      0.14      0.23       146\n",
      "           2       0.60      0.42      0.49        84\n",
      "\n",
      "    accuracy                           0.55       422\n",
      "   macro avg       0.56      0.49      0.46       422\n",
      "weighted avg       0.55      0.55      0.48       422\n",
      "\n"
     ]
    }
   ],
   "source": [
    "evaluate(lgb_model, X_train, y_train, X_test_holdout, y_test_holdout)"
   ]
  },
  {
   "cell_type": "markdown",
   "metadata": {},
   "source": [
    "Considering the finding we can infer that there there is a significant difference between the first and the last time period. So we must take another approach. We will take the mean of all the values for every company in the dataset."
   ]
  },
  {
   "cell_type": "markdown",
   "metadata": {},
   "source": [
    "## Model building of average data"
   ]
  },
  {
   "cell_type": "code",
   "execution_count": 55,
   "metadata": {
    "ExecuteTime": {
     "end_time": "2020-07-26T10:20:19.818853Z",
     "start_time": "2020-07-26T10:20:19.702368Z"
    }
   },
   "outputs": [
    {
     "data": {
      "text/plain": [
       "(422, 86)"
      ]
     },
     "execution_count": 55,
     "metadata": {},
     "output_type": "execute_result"
    }
   ],
   "source": [
    "data_average = data.groupby(\"Company\", as_index=False).mean() \n",
    "data_average = data_average.drop(['Time'], axis=1)\n",
    "data_average.shape"
   ]
  },
  {
   "cell_type": "code",
   "execution_count": 56,
   "metadata": {
    "ExecuteTime": {
     "end_time": "2020-07-26T10:20:19.954523Z",
     "start_time": "2020-07-26T10:20:19.821719Z"
    }
   },
   "outputs": [
    {
     "data": {
      "text/html": [
       "<div>\n",
       "<style scoped>\n",
       "    .dataframe tbody tr th:only-of-type {\n",
       "        vertical-align: middle;\n",
       "    }\n",
       "\n",
       "    .dataframe tbody tr th {\n",
       "        vertical-align: top;\n",
       "    }\n",
       "\n",
       "    .dataframe thead th {\n",
       "        text-align: right;\n",
       "    }\n",
       "</style>\n",
       "<table border=\"1\" class=\"dataframe\">\n",
       "  <thead>\n",
       "    <tr style=\"text-align: right;\">\n",
       "      <th></th>\n",
       "      <th>Company</th>\n",
       "      <th>Financial Distress</th>\n",
       "      <th>x1</th>\n",
       "      <th>x2</th>\n",
       "      <th>x3</th>\n",
       "      <th>x4</th>\n",
       "      <th>x5</th>\n",
       "      <th>x6</th>\n",
       "      <th>x7</th>\n",
       "      <th>x8</th>\n",
       "      <th>...</th>\n",
       "      <th>x75</th>\n",
       "      <th>x76</th>\n",
       "      <th>x77</th>\n",
       "      <th>x78</th>\n",
       "      <th>x79</th>\n",
       "      <th>x80</th>\n",
       "      <th>x81</th>\n",
       "      <th>x82</th>\n",
       "      <th>x83</th>\n",
       "      <th>status</th>\n",
       "    </tr>\n",
       "  </thead>\n",
       "  <tbody>\n",
       "    <tr>\n",
       "      <th>0</th>\n",
       "      <td>1</td>\n",
       "      <td>-0.334323</td>\n",
       "      <td>1.179250</td>\n",
       "      <td>-0.011305</td>\n",
       "      <td>0.869128</td>\n",
       "      <td>0.940075</td>\n",
       "      <td>0.035843</td>\n",
       "      <td>0.126302</td>\n",
       "      <td>0.564090</td>\n",
       "      <td>-0.018738</td>\n",
       "      <td>...</td>\n",
       "      <td>33.5625</td>\n",
       "      <td>32.486500</td>\n",
       "      <td>16.791750</td>\n",
       "      <td>15.750000</td>\n",
       "      <td>1.500000</td>\n",
       "      <td>22.0</td>\n",
       "      <td>-0.177584</td>\n",
       "      <td>31.5</td>\n",
       "      <td>50.5</td>\n",
       "      <td>0.000000</td>\n",
       "    </tr>\n",
       "    <tr>\n",
       "      <th>1</th>\n",
       "      <td>2</td>\n",
       "      <td>1.966056</td>\n",
       "      <td>1.539892</td>\n",
       "      <td>0.204816</td>\n",
       "      <td>0.628511</td>\n",
       "      <td>0.931229</td>\n",
       "      <td>0.302304</td>\n",
       "      <td>0.251645</td>\n",
       "      <td>1.068073</td>\n",
       "      <td>0.218296</td>\n",
       "      <td>...</td>\n",
       "      <td>92.1600</td>\n",
       "      <td>89.237286</td>\n",
       "      <td>17.770857</td>\n",
       "      <td>15.142857</td>\n",
       "      <td>-2.721429</td>\n",
       "      <td>29.0</td>\n",
       "      <td>1.895985</td>\n",
       "      <td>13.5</td>\n",
       "      <td>33.5</td>\n",
       "      <td>1.857143</td>\n",
       "    </tr>\n",
       "    <tr>\n",
       "      <th>2</th>\n",
       "      <td>3</td>\n",
       "      <td>-1.659900</td>\n",
       "      <td>0.874400</td>\n",
       "      <td>-0.034676</td>\n",
       "      <td>0.793500</td>\n",
       "      <td>0.609520</td>\n",
       "      <td>-0.002632</td>\n",
       "      <td>-0.086847</td>\n",
       "      <td>0.506090</td>\n",
       "      <td>-0.056892</td>\n",
       "      <td>...</td>\n",
       "      <td>27.0700</td>\n",
       "      <td>26.102000</td>\n",
       "      <td>16.000000</td>\n",
       "      <td>16.000000</td>\n",
       "      <td>0.200000</td>\n",
       "      <td>25.0</td>\n",
       "      <td>-0.303170</td>\n",
       "      <td>8.0</td>\n",
       "      <td>37.0</td>\n",
       "      <td>0.000000</td>\n",
       "    </tr>\n",
       "    <tr>\n",
       "      <th>3</th>\n",
       "      <td>4</td>\n",
       "      <td>0.839656</td>\n",
       "      <td>1.553275</td>\n",
       "      <td>0.138410</td>\n",
       "      <td>0.462178</td>\n",
       "      <td>0.759583</td>\n",
       "      <td>0.185367</td>\n",
       "      <td>0.168315</td>\n",
       "      <td>0.472444</td>\n",
       "      <td>0.171318</td>\n",
       "      <td>...</td>\n",
       "      <td>92.1600</td>\n",
       "      <td>89.237286</td>\n",
       "      <td>17.770857</td>\n",
       "      <td>15.142857</td>\n",
       "      <td>-2.721429</td>\n",
       "      <td>12.0</td>\n",
       "      <td>0.748936</td>\n",
       "      <td>34.5</td>\n",
       "      <td>50.5</td>\n",
       "      <td>1.142857</td>\n",
       "    </tr>\n",
       "    <tr>\n",
       "      <th>4</th>\n",
       "      <td>5</td>\n",
       "      <td>1.969673</td>\n",
       "      <td>1.127500</td>\n",
       "      <td>0.107643</td>\n",
       "      <td>0.743549</td>\n",
       "      <td>0.449420</td>\n",
       "      <td>0.108686</td>\n",
       "      <td>0.089244</td>\n",
       "      <td>0.664047</td>\n",
       "      <td>0.249389</td>\n",
       "      <td>...</td>\n",
       "      <td>92.1600</td>\n",
       "      <td>89.237286</td>\n",
       "      <td>17.770857</td>\n",
       "      <td>15.142857</td>\n",
       "      <td>-2.721429</td>\n",
       "      <td>23.0</td>\n",
       "      <td>1.921633</td>\n",
       "      <td>18.5</td>\n",
       "      <td>43.5</td>\n",
       "      <td>1.357143</td>\n",
       "    </tr>\n",
       "  </tbody>\n",
       "</table>\n",
       "<p>5 rows × 86 columns</p>\n",
       "</div>"
      ],
      "text/plain": [
       "   Company  Financial Distress        x1        x2        x3        x4  \\\n",
       "0        1           -0.334323  1.179250 -0.011305  0.869128  0.940075   \n",
       "1        2            1.966056  1.539892  0.204816  0.628511  0.931229   \n",
       "2        3           -1.659900  0.874400 -0.034676  0.793500  0.609520   \n",
       "3        4            0.839656  1.553275  0.138410  0.462178  0.759583   \n",
       "4        5            1.969673  1.127500  0.107643  0.743549  0.449420   \n",
       "\n",
       "         x5        x6        x7        x8  ...      x75        x76        x77  \\\n",
       "0  0.035843  0.126302  0.564090 -0.018738  ...  33.5625  32.486500  16.791750   \n",
       "1  0.302304  0.251645  1.068073  0.218296  ...  92.1600  89.237286  17.770857   \n",
       "2 -0.002632 -0.086847  0.506090 -0.056892  ...  27.0700  26.102000  16.000000   \n",
       "3  0.185367  0.168315  0.472444  0.171318  ...  92.1600  89.237286  17.770857   \n",
       "4  0.108686  0.089244  0.664047  0.249389  ...  92.1600  89.237286  17.770857   \n",
       "\n",
       "         x78       x79   x80       x81   x82   x83    status  \n",
       "0  15.750000  1.500000  22.0 -0.177584  31.5  50.5  0.000000  \n",
       "1  15.142857 -2.721429  29.0  1.895985  13.5  33.5  1.857143  \n",
       "2  16.000000  0.200000  25.0 -0.303170   8.0  37.0  0.000000  \n",
       "3  15.142857 -2.721429  12.0  0.748936  34.5  50.5  1.142857  \n",
       "4  15.142857 -2.721429  23.0  1.921633  18.5  43.5  1.357143  \n",
       "\n",
       "[5 rows x 86 columns]"
      ]
     },
     "execution_count": 56,
     "metadata": {},
     "output_type": "execute_result"
    }
   ],
   "source": [
    "data_average.head()"
   ]
  },
  {
   "cell_type": "markdown",
   "metadata": {},
   "source": [
    "We need to change the Time column with the full time. So we will drop the average age column and merge the tables with the one below to get the needed total Time periods."
   ]
  },
  {
   "cell_type": "code",
   "execution_count": 57,
   "metadata": {
    "ExecuteTime": {
     "end_time": "2020-07-26T10:20:20.055770Z",
     "start_time": "2020-07-26T10:20:19.957801Z"
    }
   },
   "outputs": [
    {
     "data": {
      "text/html": [
       "<div>\n",
       "<style scoped>\n",
       "    .dataframe tbody tr th:only-of-type {\n",
       "        vertical-align: middle;\n",
       "    }\n",
       "\n",
       "    .dataframe tbody tr th {\n",
       "        vertical-align: top;\n",
       "    }\n",
       "\n",
       "    .dataframe thead th {\n",
       "        text-align: right;\n",
       "    }\n",
       "</style>\n",
       "<table border=\"1\" class=\"dataframe\">\n",
       "  <thead>\n",
       "    <tr style=\"text-align: right;\">\n",
       "      <th></th>\n",
       "      <th>Company</th>\n",
       "      <th>Time</th>\n",
       "    </tr>\n",
       "  </thead>\n",
       "  <tbody>\n",
       "    <tr>\n",
       "      <th>3</th>\n",
       "      <td>1</td>\n",
       "      <td>4</td>\n",
       "    </tr>\n",
       "    <tr>\n",
       "      <th>17</th>\n",
       "      <td>2</td>\n",
       "      <td>14</td>\n",
       "    </tr>\n",
       "    <tr>\n",
       "      <th>18</th>\n",
       "      <td>3</td>\n",
       "      <td>1</td>\n",
       "    </tr>\n",
       "    <tr>\n",
       "      <th>32</th>\n",
       "      <td>4</td>\n",
       "      <td>14</td>\n",
       "    </tr>\n",
       "    <tr>\n",
       "      <th>46</th>\n",
       "      <td>5</td>\n",
       "      <td>14</td>\n",
       "    </tr>\n",
       "  </tbody>\n",
       "</table>\n",
       "</div>"
      ],
      "text/plain": [
       "    Company  Time\n",
       "3         1     4\n",
       "17        2    14\n",
       "18        3     1\n",
       "32        4    14\n",
       "46        5    14"
      ]
     },
     "execution_count": 57,
     "metadata": {},
     "output_type": "execute_result"
    }
   ],
   "source": [
    "time_to_merge = pd.DataFrame(data_one_period[['Company','Time']])\n",
    "time_to_merge.head()"
   ]
  },
  {
   "cell_type": "code",
   "execution_count": 58,
   "metadata": {
    "ExecuteTime": {
     "end_time": "2020-07-26T10:20:20.205131Z",
     "start_time": "2020-07-26T10:20:20.058782Z"
    }
   },
   "outputs": [
    {
     "data": {
      "text/html": [
       "<div>\n",
       "<style scoped>\n",
       "    .dataframe tbody tr th:only-of-type {\n",
       "        vertical-align: middle;\n",
       "    }\n",
       "\n",
       "    .dataframe tbody tr th {\n",
       "        vertical-align: top;\n",
       "    }\n",
       "\n",
       "    .dataframe thead th {\n",
       "        text-align: right;\n",
       "    }\n",
       "</style>\n",
       "<table border=\"1\" class=\"dataframe\">\n",
       "  <thead>\n",
       "    <tr style=\"text-align: right;\">\n",
       "      <th></th>\n",
       "      <th>Company</th>\n",
       "      <th>Time</th>\n",
       "      <th>Financial Distress</th>\n",
       "      <th>x1</th>\n",
       "      <th>x2</th>\n",
       "      <th>x3</th>\n",
       "      <th>x4</th>\n",
       "      <th>x5</th>\n",
       "      <th>x6</th>\n",
       "      <th>x7</th>\n",
       "      <th>...</th>\n",
       "      <th>x75</th>\n",
       "      <th>x76</th>\n",
       "      <th>x77</th>\n",
       "      <th>x78</th>\n",
       "      <th>x79</th>\n",
       "      <th>x80</th>\n",
       "      <th>x81</th>\n",
       "      <th>x82</th>\n",
       "      <th>x83</th>\n",
       "      <th>status</th>\n",
       "    </tr>\n",
       "  </thead>\n",
       "  <tbody>\n",
       "    <tr>\n",
       "      <th>0</th>\n",
       "      <td>1</td>\n",
       "      <td>4</td>\n",
       "      <td>-0.334323</td>\n",
       "      <td>1.179250</td>\n",
       "      <td>-0.011305</td>\n",
       "      <td>0.869128</td>\n",
       "      <td>0.940075</td>\n",
       "      <td>0.035843</td>\n",
       "      <td>0.126302</td>\n",
       "      <td>0.564090</td>\n",
       "      <td>...</td>\n",
       "      <td>33.5625</td>\n",
       "      <td>32.486500</td>\n",
       "      <td>16.791750</td>\n",
       "      <td>15.750000</td>\n",
       "      <td>1.500000</td>\n",
       "      <td>22.0</td>\n",
       "      <td>-0.177584</td>\n",
       "      <td>31.5</td>\n",
       "      <td>50.5</td>\n",
       "      <td>0.000000</td>\n",
       "    </tr>\n",
       "    <tr>\n",
       "      <th>1</th>\n",
       "      <td>2</td>\n",
       "      <td>14</td>\n",
       "      <td>1.966056</td>\n",
       "      <td>1.539892</td>\n",
       "      <td>0.204816</td>\n",
       "      <td>0.628511</td>\n",
       "      <td>0.931229</td>\n",
       "      <td>0.302304</td>\n",
       "      <td>0.251645</td>\n",
       "      <td>1.068073</td>\n",
       "      <td>...</td>\n",
       "      <td>92.1600</td>\n",
       "      <td>89.237286</td>\n",
       "      <td>17.770857</td>\n",
       "      <td>15.142857</td>\n",
       "      <td>-2.721429</td>\n",
       "      <td>29.0</td>\n",
       "      <td>1.895985</td>\n",
       "      <td>13.5</td>\n",
       "      <td>33.5</td>\n",
       "      <td>1.857143</td>\n",
       "    </tr>\n",
       "    <tr>\n",
       "      <th>2</th>\n",
       "      <td>3</td>\n",
       "      <td>1</td>\n",
       "      <td>-1.659900</td>\n",
       "      <td>0.874400</td>\n",
       "      <td>-0.034676</td>\n",
       "      <td>0.793500</td>\n",
       "      <td>0.609520</td>\n",
       "      <td>-0.002632</td>\n",
       "      <td>-0.086847</td>\n",
       "      <td>0.506090</td>\n",
       "      <td>...</td>\n",
       "      <td>27.0700</td>\n",
       "      <td>26.102000</td>\n",
       "      <td>16.000000</td>\n",
       "      <td>16.000000</td>\n",
       "      <td>0.200000</td>\n",
       "      <td>25.0</td>\n",
       "      <td>-0.303170</td>\n",
       "      <td>8.0</td>\n",
       "      <td>37.0</td>\n",
       "      <td>0.000000</td>\n",
       "    </tr>\n",
       "    <tr>\n",
       "      <th>3</th>\n",
       "      <td>4</td>\n",
       "      <td>14</td>\n",
       "      <td>0.839656</td>\n",
       "      <td>1.553275</td>\n",
       "      <td>0.138410</td>\n",
       "      <td>0.462178</td>\n",
       "      <td>0.759583</td>\n",
       "      <td>0.185367</td>\n",
       "      <td>0.168315</td>\n",
       "      <td>0.472444</td>\n",
       "      <td>...</td>\n",
       "      <td>92.1600</td>\n",
       "      <td>89.237286</td>\n",
       "      <td>17.770857</td>\n",
       "      <td>15.142857</td>\n",
       "      <td>-2.721429</td>\n",
       "      <td>12.0</td>\n",
       "      <td>0.748936</td>\n",
       "      <td>34.5</td>\n",
       "      <td>50.5</td>\n",
       "      <td>1.142857</td>\n",
       "    </tr>\n",
       "    <tr>\n",
       "      <th>4</th>\n",
       "      <td>5</td>\n",
       "      <td>14</td>\n",
       "      <td>1.969673</td>\n",
       "      <td>1.127500</td>\n",
       "      <td>0.107643</td>\n",
       "      <td>0.743549</td>\n",
       "      <td>0.449420</td>\n",
       "      <td>0.108686</td>\n",
       "      <td>0.089244</td>\n",
       "      <td>0.664047</td>\n",
       "      <td>...</td>\n",
       "      <td>92.1600</td>\n",
       "      <td>89.237286</td>\n",
       "      <td>17.770857</td>\n",
       "      <td>15.142857</td>\n",
       "      <td>-2.721429</td>\n",
       "      <td>23.0</td>\n",
       "      <td>1.921633</td>\n",
       "      <td>18.5</td>\n",
       "      <td>43.5</td>\n",
       "      <td>1.357143</td>\n",
       "    </tr>\n",
       "  </tbody>\n",
       "</table>\n",
       "<p>5 rows × 87 columns</p>\n",
       "</div>"
      ],
      "text/plain": [
       "   Company  Time  Financial Distress        x1        x2        x3        x4  \\\n",
       "0        1     4           -0.334323  1.179250 -0.011305  0.869128  0.940075   \n",
       "1        2    14            1.966056  1.539892  0.204816  0.628511  0.931229   \n",
       "2        3     1           -1.659900  0.874400 -0.034676  0.793500  0.609520   \n",
       "3        4    14            0.839656  1.553275  0.138410  0.462178  0.759583   \n",
       "4        5    14            1.969673  1.127500  0.107643  0.743549  0.449420   \n",
       "\n",
       "         x5        x6        x7  ...      x75        x76        x77  \\\n",
       "0  0.035843  0.126302  0.564090  ...  33.5625  32.486500  16.791750   \n",
       "1  0.302304  0.251645  1.068073  ...  92.1600  89.237286  17.770857   \n",
       "2 -0.002632 -0.086847  0.506090  ...  27.0700  26.102000  16.000000   \n",
       "3  0.185367  0.168315  0.472444  ...  92.1600  89.237286  17.770857   \n",
       "4  0.108686  0.089244  0.664047  ...  92.1600  89.237286  17.770857   \n",
       "\n",
       "         x78       x79   x80       x81   x82   x83    status  \n",
       "0  15.750000  1.500000  22.0 -0.177584  31.5  50.5  0.000000  \n",
       "1  15.142857 -2.721429  29.0  1.895985  13.5  33.5  1.857143  \n",
       "2  16.000000  0.200000  25.0 -0.303170   8.0  37.0  0.000000  \n",
       "3  15.142857 -2.721429  12.0  0.748936  34.5  50.5  1.142857  \n",
       "4  15.142857 -2.721429  23.0  1.921633  18.5  43.5  1.357143  \n",
       "\n",
       "[5 rows x 87 columns]"
      ]
     },
     "execution_count": 58,
     "metadata": {},
     "output_type": "execute_result"
    }
   ],
   "source": [
    "data_average_with_time = pd.merge(time_to_merge,data_average, on='Company')\n",
    "data_average_with_time.head()"
   ]
  },
  {
   "cell_type": "code",
   "execution_count": 59,
   "metadata": {
    "ExecuteTime": {
     "end_time": "2020-07-26T10:20:20.742892Z",
     "start_time": "2020-07-26T10:20:20.207215Z"
    }
   },
   "outputs": [
    {
     "data": {
      "image/png": "[encoded data removed]",
      "text/plain": [
       "<Figure size 1224x576 with 1 Axes>"
      ]
     },
     "metadata": {
      "needs_background": "light"
     },
     "output_type": "display_data"
    }
   ],
   "source": [
    "plt.figure(figsize=(17,8))\n",
    "sns.distplot(data_average['Financial Distress'],kde=False, rug=True, color = 'blue')\n",
    "plt.title('Financial Distress of the data average Histogram')\n",
    "plt.xlabel('Values')\n",
    "plt.ylabel('Frequency')\n",
    "plt.grid(True)\n",
    "plt.show()"
   ]
  },
  {
   "cell_type": "code",
   "execution_count": 60,
   "metadata": {
    "ExecuteTime": {
     "end_time": "2020-07-26T10:20:21.193816Z",
     "start_time": "2020-07-26T10:20:20.745045Z"
    }
   },
   "outputs": [
    {
     "data": {
      "image/png": "[encoded data removed]",
      "text/plain": [
       "<Figure size 1224x576 with 1 Axes>"
      ]
     },
     "metadata": {
      "needs_background": "light"
     },
     "output_type": "display_data"
    }
   ],
   "source": [
    "plt.figure(figsize=(17,8))\n",
    "sns.distplot(data_average[data_average['Financial Distress'] < 10]['Financial Distress'],kde=False, rug=True, color = 'blue')\n",
    "plt.title('Financial Distress Histogram  of data average without outliers testing holdout')\n",
    "plt.xlabel('Values')\n",
    "plt.ylabel('Frequency')\n",
    "plt.grid(True)\n",
    "plt.show()"
   ]
  },
  {
   "cell_type": "code",
   "execution_count": 61,
   "metadata": {
    "ExecuteTime": {
     "end_time": "2020-07-26T10:20:21.207400Z",
     "start_time": "2020-07-26T10:20:21.196063Z"
    }
   },
   "outputs": [
    {
     "data": {
      "text/plain": [
       "(0.929, 32.813]                141\n",
       "(-5.6850000000000005, 0.25]    141\n",
       "(0.25, 0.929]                  140\n",
       "Name: Financial Distress, dtype: int64"
      ]
     },
     "execution_count": 61,
     "metadata": {},
     "output_type": "execute_result"
    }
   ],
   "source": [
    "pd.qcut(data_average['Financial Distress'], 3).value_counts()"
   ]
  },
  {
   "cell_type": "code",
   "execution_count": 62,
   "metadata": {
    "ExecuteTime": {
     "end_time": "2020-07-26T10:20:21.347896Z",
     "start_time": "2020-07-26T10:20:21.209171Z"
    }
   },
   "outputs": [],
   "source": [
    "data_average['status'] = np.where(data_average['Financial Distress'] < 0.25,0,np.where(data_average['Financial Distress'] < 0.929, 1,2))"
   ]
  },
  {
   "cell_type": "code",
   "execution_count": 63,
   "metadata": {
    "ExecuteTime": {
     "end_time": "2020-07-26T10:20:21.472000Z",
     "start_time": "2020-07-26T10:20:21.349802Z"
    }
   },
   "outputs": [],
   "source": [
    "data_average = data_average.drop(['Financial Distress'], axis=1)"
   ]
  },
  {
   "cell_type": "code",
   "execution_count": 64,
   "metadata": {
    "ExecuteTime": {
     "end_time": "2020-07-26T10:20:21.599842Z",
     "start_time": "2020-07-26T10:20:21.476989Z"
    }
   },
   "outputs": [
    {
     "data": {
      "text/plain": [
       "x83       0.011300\n",
       "x42       0.012796\n",
       "x47       0.013212\n",
       "x82       0.015567\n",
       "x35       0.015965\n",
       "            ...   \n",
       "x9        0.645239\n",
       "x2        0.654896\n",
       "x5        0.670634\n",
       "x10       0.735160\n",
       "status    1.000000\n",
       "Name: status, Length: 85, dtype: float64"
      ]
     },
     "execution_count": 64,
     "metadata": {},
     "output_type": "execute_result"
    }
   ],
   "source": [
    "abs(data_average.corr()['status']).sort_values(ascending=True)"
   ]
  },
  {
   "cell_type": "code",
   "execution_count": 65,
   "metadata": {
    "ExecuteTime": {
     "end_time": "2020-07-26T10:20:21.708904Z",
     "start_time": "2020-07-26T10:20:21.601639Z"
    }
   },
   "outputs": [],
   "source": [
    "variables = abs(data_average.corr()['status']).sort_values(ascending=True)"
   ]
  },
  {
   "cell_type": "code",
   "execution_count": 66,
   "metadata": {
    "ExecuteTime": {
     "end_time": "2020-07-26T10:20:21.826682Z",
     "start_time": "2020-07-26T10:20:21.710372Z"
    }
   },
   "outputs": [
    {
     "data": {
      "text/plain": [
       "71"
      ]
     },
     "execution_count": 66,
     "metadata": {},
     "output_type": "execute_result"
    }
   ],
   "source": [
    "v12 = variables[0.05 < variables.values]\n",
    "v22 = v12[v12.values < 0.7]\n",
    "len(v22.index)"
   ]
  },
  {
   "cell_type": "code",
   "execution_count": 67,
   "metadata": {
    "ExecuteTime": {
     "end_time": "2020-07-26T10:20:21.962497Z",
     "start_time": "2020-07-26T10:20:21.828933Z"
    }
   },
   "outputs": [
    {
     "data": {
      "text/plain": [
       "Index(['x8', 'x27', 'x19', 'x38', 'x32', 'x28', 'x80', 'x1', 'x39', 'x43',\n",
       "       'x57', 'x44', 'x59', 'x41', 'x31', 'x45', 'x58', 'x20', 'x16', 'x78',\n",
       "       'x52', 'x33', 'x7', 'x22', 'x30', 'x12', 'x18', 'x6', 'x56', 'x65',\n",
       "       'x4', 'x21', 'x29', 'x24', 'x54', 'x66', 'x37', 'x63', 'x79', 'x49',\n",
       "       'x72', 'x46', 'x14', 'x13', 'x3', 'x67', 'x26', 'x70', 'x48', 'x60',\n",
       "       'x81', 'x77', 'x51', 'x55', 'x68', 'x76', 'x75', 'x69', 'x25', 'x50',\n",
       "       'x23', 'x62', 'x71', 'x61', 'x64', 'x36', 'x73', 'x53', 'x9', 'x2',\n",
       "       'x5'],\n",
       "      dtype='object')"
      ]
     },
     "execution_count": 67,
     "metadata": {},
     "output_type": "execute_result"
    }
   ],
   "source": [
    "ind1 = v22.index\n",
    "v22.index"
   ]
  },
  {
   "cell_type": "code",
   "execution_count": 68,
   "metadata": {
    "ExecuteTime": {
     "end_time": "2020-07-26T10:20:22.081822Z",
     "start_time": "2020-07-26T10:20:21.979496Z"
    }
   },
   "outputs": [],
   "source": [
    "y1 = data_final['status']\n",
    "X1 = data_final[ind1]"
   ]
  },
  {
   "cell_type": "code",
   "execution_count": 69,
   "metadata": {
    "ExecuteTime": {
     "end_time": "2020-07-26T10:20:22.590236Z",
     "start_time": "2020-07-26T10:20:22.088781Z"
    }
   },
   "outputs": [
    {
     "data": {
      "text/plain": [
       "(71, 2)"
      ]
     },
     "execution_count": 69,
     "metadata": {},
     "output_type": "execute_result"
    }
   ],
   "source": [
    "vif_df1 = calc_vif(X1)\n",
    "vif_df1.shape"
   ]
  },
  {
   "cell_type": "markdown",
   "metadata": {},
   "source": [
    "We change the VIF threshold to 7 to remove the multicolinearity."
   ]
  },
  {
   "cell_type": "code",
   "execution_count": 70,
   "metadata": {
    "ExecuteTime": {
     "end_time": "2020-07-26T10:20:22.596168Z",
     "start_time": "2020-07-26T10:20:22.591831Z"
    }
   },
   "outputs": [
    {
     "data": {
      "text/plain": [
       "(13, 2)"
      ]
     },
     "execution_count": 70,
     "metadata": {},
     "output_type": "execute_result"
    }
   ],
   "source": [
    "vif_df_without_corr1 = vif_df1[vif_df1['VIF'] < 7]\n",
    "vif_df_without_corr1.shape"
   ]
  },
  {
   "cell_type": "code",
   "execution_count": 71,
   "metadata": {
    "ExecuteTime": {
     "end_time": "2020-07-26T10:20:22.855528Z",
     "start_time": "2020-07-26T10:20:22.598227Z"
    }
   },
   "outputs": [
    {
     "data": {
      "text/plain": [
       "(422, 13)"
      ]
     },
     "execution_count": 71,
     "metadata": {},
     "output_type": "execute_result"
    }
   ],
   "source": [
    "X1 = X1[vif_df_without_corr1['variables']]\n",
    "X1.shape"
   ]
  },
  {
   "cell_type": "code",
   "execution_count": 72,
   "metadata": {
    "ExecuteTime": {
     "end_time": "2020-07-26T10:20:23.952803Z",
     "start_time": "2020-07-26T10:20:22.857412Z"
    }
   },
   "outputs": [
    {
     "data": {
      "image/png": "[encoded data removed]",
      "text/plain": [
       "<Figure size 1440x720 with 2 Axes>"
      ]
     },
     "metadata": {
      "needs_background": "light"
     },
     "output_type": "display_data"
    }
   ],
   "source": [
    "plt.figure(figsize=(20,10))\n",
    "plt.title('Correlation Matrix of the selected predictors for data average')\n",
    "sns.heatmap(X1.corr(), annot=True)\n",
    "plt.show()"
   ]
  },
  {
   "cell_type": "code",
   "execution_count": 73,
   "metadata": {
    "ExecuteTime": {
     "end_time": "2020-07-26T10:20:23.959086Z",
     "start_time": "2020-07-26T10:20:23.954496Z"
    }
   },
   "outputs": [],
   "source": [
    "X_train1, X_test1, y_train1, y_test1 = train_test_split(\n",
    "     X1, y1, test_size=0.3, random_state=42)"
   ]
  },
  {
   "cell_type": "markdown",
   "metadata": {},
   "source": [
    "A pipeline has been created with the model and polynomial features, you can review the results below, it seems to worsen the results, so we will not explore it further."
   ]
  },
  {
   "cell_type": "code",
   "execution_count": 74,
   "metadata": {
    "ExecuteTime": {
     "end_time": "2020-07-26T10:20:24.081419Z",
     "start_time": "2020-07-26T10:20:23.960695Z"
    }
   },
   "outputs": [],
   "source": [
    "polynomial_features = PolynomialFeatures(degree=4,\n",
    "                                             include_bias=False)\n",
    "pipeline = Pipeline([(\"polynomial_features\", polynomial_features),\n",
    "                         (\"linear_regression\", LogisticRegression(random_state=42))])"
   ]
  },
  {
   "cell_type": "code",
   "execution_count": 75,
   "metadata": {
    "ExecuteTime": {
     "end_time": "2020-07-26T10:20:24.271268Z",
     "start_time": "2020-07-26T10:20:24.088020Z"
    }
   },
   "outputs": [
    {
     "name": "stdout",
     "output_type": "stream",
     "text": [
      "Model Performance\n",
      "Training data performance 0.59%\n",
      "Root Mean Squired Error: 1.09\n",
      "Test Accuracy: 0.50%.\n",
      "              precision    recall  f1-score   support\n",
      "\n",
      "           0       0.54      0.82      0.65        60\n",
      "           1       1.00      0.05      0.10        37\n",
      "           2       0.34      0.40      0.37        30\n",
      "\n",
      "    accuracy                           0.50       127\n",
      "   macro avg       0.63      0.42      0.38       127\n",
      "weighted avg       0.63      0.50      0.43       127\n",
      "\n"
     ]
    },
    {
     "name": "stderr",
     "output_type": "stream",
     "text": [
      "/home/stefan/anaconda3/lib/python3.7/site-packages/sklearn/linear_model/_logistic.py:939: ConvergenceWarning: lbfgs failed to converge (status=1):\n",
      "STOP: TOTAL NO. of ITERATIONS REACHED LIMIT.\n",
      "\n",
      "Increase the number of iterations (max_iter) or scale the data as shown in:\n",
      "    https://scikit-learn.org/stable/modules/preprocessing.html.\n",
      "Please also refer to the documentation for alternative solver options:\n",
      "    https://scikit-learn.org/stable/modules/linear_model.html#logistic-regression\n",
      "  extra_warning_msg=_LOGISTIC_SOLVER_CONVERGENCE_MSG)\n"
     ]
    }
   ],
   "source": [
    "clf_avg = LogisticRegression(random_state=42).fit(X_train1, y_train1)\n",
    "evaluate(clf_avg,  X_train1, y_train1, X_test1, y_test1)"
   ]
  },
  {
   "cell_type": "code",
   "execution_count": 76,
   "metadata": {
    "ExecuteTime": {
     "end_time": "2020-07-26T10:20:24.478056Z",
     "start_time": "2020-07-26T10:20:24.273367Z"
    }
   },
   "outputs": [
    {
     "name": "stderr",
     "output_type": "stream",
     "text": [
      "/home/stefan/anaconda3/lib/python3.7/site-packages/sklearn/linear_model/_logistic.py:939: ConvergenceWarning: lbfgs failed to converge (status=2):\n",
      "ABNORMAL_TERMINATION_IN_LNSRCH.\n",
      "\n",
      "Increase the number of iterations (max_iter) or scale the data as shown in:\n",
      "    https://scikit-learn.org/stable/modules/preprocessing.html.\n",
      "Please also refer to the documentation for alternative solver options:\n",
      "    https://scikit-learn.org/stable/modules/linear_model.html#logistic-regression\n",
      "  extra_warning_msg=_LOGISTIC_SOLVER_CONVERGENCE_MSG)\n"
     ]
    },
    {
     "name": "stdout",
     "output_type": "stream",
     "text": [
      "Model Performance\n",
      "Training data performance 0.58%\n",
      "Root Mean Squired Error: 1.11\n",
      "Test Accuracy: 0.47%.\n",
      "              precision    recall  f1-score   support\n",
      "\n",
      "           0       0.47      1.00      0.64        60\n",
      "           1       0.00      0.00      0.00        37\n",
      "           2       0.00      0.00      0.00        30\n",
      "\n",
      "    accuracy                           0.47       127\n",
      "   macro avg       0.16      0.33      0.21       127\n",
      "weighted avg       0.22      0.47      0.30       127\n",
      "\n"
     ]
    },
    {
     "name": "stderr",
     "output_type": "stream",
     "text": [
      "/home/stefan/anaconda3/lib/python3.7/site-packages/sklearn/metrics/_classification.py:1268: UndefinedMetricWarning: Precision and F-score are ill-defined and being set to 0.0 in labels with no predicted samples. Use `zero_division` parameter to control this behavior.\n",
      "  _warn_prf(average, modifier, msg_start, len(result))\n",
      "/home/stefan/anaconda3/lib/python3.7/site-packages/sklearn/metrics/_classification.py:1268: UndefinedMetricWarning: Precision and F-score are ill-defined and being set to 0.0 in labels with no predicted samples. Use `zero_division` parameter to control this behavior.\n",
      "  _warn_prf(average, modifier, msg_start, len(result))\n",
      "/home/stefan/anaconda3/lib/python3.7/site-packages/sklearn/metrics/_classification.py:1268: UndefinedMetricWarning: Precision and F-score are ill-defined and being set to 0.0 in labels with no predicted samples. Use `zero_division` parameter to control this behavior.\n",
      "  _warn_prf(average, modifier, msg_start, len(result))\n"
     ]
    }
   ],
   "source": [
    "clf_avg_pipe = pipeline.fit(X_train1, y_train1)\n",
    "evaluate(clf_avg_pipe,  X_train1, y_train1, X_test1, y_test1)"
   ]
  },
  {
   "cell_type": "code",
   "execution_count": 77,
   "metadata": {
    "ExecuteTime": {
     "end_time": "2020-07-26T10:20:24.484755Z",
     "start_time": "2020-07-26T10:20:24.479401Z"
    }
   },
   "outputs": [],
   "source": [
    "pipeline_rf = Pipeline([(\"polynomial_features\", polynomial_features),\n",
    "                         (\"linear_regression\", RandomForestClassifier(random_state=42))])"
   ]
  },
  {
   "cell_type": "code",
   "execution_count": 78,
   "metadata": {
    "ExecuteTime": {
     "end_time": "2020-07-26T10:20:24.838470Z",
     "start_time": "2020-07-26T10:20:24.486552Z"
    }
   },
   "outputs": [
    {
     "name": "stdout",
     "output_type": "stream",
     "text": [
      "Model Performance\n",
      "Training data performance 1.00%\n",
      "Root Mean Squired Error: 0.78\n",
      "Test Accuracy: 0.65%.\n",
      "              precision    recall  f1-score   support\n",
      "\n",
      "           0       0.68      0.93      0.79        60\n",
      "           1       0.57      0.32      0.41        37\n",
      "           2       0.58      0.47      0.52        30\n",
      "\n",
      "    accuracy                           0.65       127\n",
      "   macro avg       0.61      0.57      0.57       127\n",
      "weighted avg       0.63      0.65      0.62       127\n",
      "\n"
     ]
    }
   ],
   "source": [
    "rf_avg = RandomForestClassifier(random_state=42).fit(X_train1, y_train1)\n",
    "evaluate(rf_avg,  X_train1, y_train1, X_test1, y_test1)"
   ]
  },
  {
   "cell_type": "code",
   "execution_count": 79,
   "metadata": {
    "ExecuteTime": {
     "end_time": "2020-07-26T10:20:25.492670Z",
     "start_time": "2020-07-26T10:20:24.843181Z"
    }
   },
   "outputs": [
    {
     "name": "stdout",
     "output_type": "stream",
     "text": [
      "Model Performance\n",
      "Training data performance 1.00%\n",
      "Root Mean Squired Error: 0.77\n",
      "Test Accuracy: 0.60%.\n",
      "              precision    recall  f1-score   support\n",
      "\n",
      "           0       0.73      0.88      0.80        60\n",
      "           1       0.38      0.27      0.32        37\n",
      "           2       0.46      0.43      0.45        30\n",
      "\n",
      "    accuracy                           0.60       127\n",
      "   macro avg       0.52      0.53      0.52       127\n",
      "weighted avg       0.56      0.60      0.57       127\n",
      "\n"
     ]
    }
   ],
   "source": [
    "rf_avg_pipe = pipeline_rf.fit(X_train1, y_train1)\n",
    "evaluate(rf_avg_pipe,  X_train1, y_train1, X_test1, y_test1)"
   ]
  },
  {
   "cell_type": "code",
   "execution_count": 80,
   "metadata": {
    "ExecuteTime": {
     "end_time": "2020-07-26T10:20:25.639016Z",
     "start_time": "2020-07-26T10:20:25.494483Z"
    }
   },
   "outputs": [
    {
     "name": "stdout",
     "output_type": "stream",
     "text": [
      "Model Performance\n",
      "Training data performance 0.85%\n",
      "Root Mean Squired Error: 0.76\n",
      "Test Accuracy: 0.61%.\n",
      "              precision    recall  f1-score   support\n",
      "\n",
      "           0       0.71      0.87      0.78        60\n",
      "           1       0.43      0.32      0.37        37\n",
      "           2       0.54      0.47      0.50        30\n",
      "\n",
      "    accuracy                           0.61       127\n",
      "   macro avg       0.56      0.55      0.55       127\n",
      "weighted avg       0.59      0.61      0.60       127\n",
      "\n"
     ]
    }
   ],
   "source": [
    "ab_avg = AdaBoostClassifier(random_state=42).fit(X_train1, y_train1)\n",
    "evaluate(ab_avg,  X_train1, y_train1, X_test1, y_test1)"
   ]
  },
  {
   "cell_type": "code",
   "execution_count": 81,
   "metadata": {
    "ExecuteTime": {
     "end_time": "2020-07-26T10:20:25.669364Z",
     "start_time": "2020-07-26T10:20:25.640522Z"
    }
   },
   "outputs": [
    {
     "name": "stdout",
     "output_type": "stream",
     "text": [
      "Model Performance\n",
      "Training data performance 0.58%\n",
      "Root Mean Squired Error: 1.11\n",
      "Test Accuracy: 0.47%.\n",
      "              precision    recall  f1-score   support\n",
      "\n",
      "           0       0.47      1.00      0.64        60\n",
      "           1       0.00      0.00      0.00        37\n",
      "           2       0.00      0.00      0.00        30\n",
      "\n",
      "    accuracy                           0.47       127\n",
      "   macro avg       0.16      0.33      0.21       127\n",
      "weighted avg       0.22      0.47      0.30       127\n",
      "\n"
     ]
    },
    {
     "name": "stderr",
     "output_type": "stream",
     "text": [
      "/home/stefan/anaconda3/lib/python3.7/site-packages/sklearn/metrics/_classification.py:1268: UndefinedMetricWarning: Precision and F-score are ill-defined and being set to 0.0 in labels with no predicted samples. Use `zero_division` parameter to control this behavior.\n",
      "  _warn_prf(average, modifier, msg_start, len(result))\n",
      "/home/stefan/anaconda3/lib/python3.7/site-packages/sklearn/metrics/_classification.py:1268: UndefinedMetricWarning: Precision and F-score are ill-defined and being set to 0.0 in labels with no predicted samples. Use `zero_division` parameter to control this behavior.\n",
      "  _warn_prf(average, modifier, msg_start, len(result))\n",
      "/home/stefan/anaconda3/lib/python3.7/site-packages/sklearn/metrics/_classification.py:1268: UndefinedMetricWarning: Precision and F-score are ill-defined and being set to 0.0 in labels with no predicted samples. Use `zero_division` parameter to control this behavior.\n",
      "  _warn_prf(average, modifier, msg_start, len(result))\n"
     ]
    }
   ],
   "source": [
    "sv_avg_rbf = SVC(kernel='rbf', random_state = 42).fit(X_train1, y_train1)\n",
    "evaluate(sv_avg_rbf,  X_train1, y_train1, X_test1, y_test1)"
   ]
  },
  {
   "cell_type": "code",
   "execution_count": 82,
   "metadata": {
    "ExecuteTime": {
     "end_time": "2020-07-26T10:20:25.882670Z",
     "start_time": "2020-07-26T10:20:25.671500Z"
    }
   },
   "outputs": [
    {
     "name": "stdout",
     "output_type": "stream",
     "text": [
      "Model Performance\n",
      "Training data performance 0.99%\n",
      "Root Mean Squired Error: 0.72\n",
      "Test Accuracy: 0.62%.\n",
      "              precision    recall  f1-score   support\n",
      "\n",
      "           0       0.73      0.88      0.80        60\n",
      "           1       0.41      0.30      0.34        37\n",
      "           2       0.56      0.50      0.53        30\n",
      "\n",
      "    accuracy                           0.62       127\n",
      "   macro avg       0.56      0.56      0.56       127\n",
      "weighted avg       0.59      0.62      0.60       127\n",
      "\n"
     ]
    }
   ],
   "source": [
    "xgb_model_avg = xgb.XGBClassifier(objective=\"multi:softprob\", random_state=42).fit(X_train1, y_train1)\n",
    "evaluate(xgb_model_avg, X_train1, y_train1, X_test1, y_test1)"
   ]
  },
  {
   "cell_type": "code",
   "execution_count": 83,
   "metadata": {
    "ExecuteTime": {
     "end_time": "2020-07-26T10:20:26.082526Z",
     "start_time": "2020-07-26T10:20:25.884675Z"
    }
   },
   "outputs": [
    {
     "name": "stdout",
     "output_type": "stream",
     "text": [
      "Model Performance\n",
      "Training data performance 1.00%\n",
      "Root Mean Squired Error: 0.76\n",
      "Test Accuracy: 0.64%.\n",
      "              precision    recall  f1-score   support\n",
      "\n",
      "           0       0.69      0.93      0.79        60\n",
      "           1       0.50      0.32      0.39        37\n",
      "           2       0.59      0.43      0.50        30\n",
      "\n",
      "    accuracy                           0.64       127\n",
      "   macro avg       0.59      0.56      0.56       127\n",
      "weighted avg       0.61      0.64      0.61       127\n",
      "\n"
     ]
    }
   ],
   "source": [
    "lgb_model_avg = LGBMClassifier(random_state=42).fit(X_train1, y_train1)\n",
    "evaluate(lgb_model_avg, X_train1, y_train1, X_test1, y_test1)"
   ]
  },
  {
   "cell_type": "code",
   "execution_count": 84,
   "metadata": {
    "ExecuteTime": {
     "end_time": "2020-07-26T10:20:26.086915Z",
     "start_time": "2020-07-26T10:20:26.084012Z"
    }
   },
   "outputs": [],
   "source": [
    "pipeline_lgb = Pipeline([(\"polynomial_features\", polynomial_features),\n",
    "                         (\"linear_regression\", LGBMClassifier(random_state=42))])"
   ]
  },
  {
   "cell_type": "code",
   "execution_count": 85,
   "metadata": {
    "ExecuteTime": {
     "end_time": "2020-07-26T10:20:42.452960Z",
     "start_time": "2020-07-26T10:20:26.088667Z"
    }
   },
   "outputs": [
    {
     "name": "stdout",
     "output_type": "stream",
     "text": [
      "Model Performance\n",
      "Training data performance 1.00%\n",
      "Root Mean Squired Error: 0.79\n",
      "Test Accuracy: 0.63%.\n",
      "              precision    recall  f1-score   support\n",
      "\n",
      "           0       0.70      0.87      0.78        60\n",
      "           1       0.52      0.30      0.38        37\n",
      "           2       0.53      0.57      0.55        30\n",
      "\n",
      "    accuracy                           0.63       127\n",
      "   macro avg       0.59      0.58      0.57       127\n",
      "weighted avg       0.61      0.63      0.61       127\n",
      "\n"
     ]
    }
   ],
   "source": [
    "lgb_model_avg_pipe = pipeline_lgb.fit(X_train1, y_train1)\n",
    "evaluate(lgb_model_avg_pipe, X_train1, y_train1, X_test1, y_test1)"
   ]
  },
  {
   "cell_type": "markdown",
   "metadata": {},
   "source": [
    "### Random Search with the best models\n",
    "Grid search has been tried, but it takes to much time, so we will try the less computationally intensive random search with Random forest and the Light Gradient Boosting Classifier."
   ]
  },
  {
   "cell_type": "code",
   "execution_count": 86,
   "metadata": {
    "ExecuteTime": {
     "end_time": "2020-07-26T10:20:42.468101Z",
     "start_time": "2020-07-26T10:20:42.456025Z"
    }
   },
   "outputs": [],
   "source": [
    "params = {'bootstrap': [True, False],\n",
    " 'max_depth': [10, 20, 30, 40, 50, 60, 70, 80, 90, 100, None],\n",
    " 'max_features': ['auto', 'sqrt'],\n",
    " 'min_samples_leaf': [1, 2, 4],\n",
    " 'min_samples_split': [2, 5, 10],\n",
    " 'n_estimators': [200, 400, 600, 800, 1000, 1200, 1400, 1600, 1800, 2000]}"
   ]
  },
  {
   "cell_type": "code",
   "execution_count": 87,
   "metadata": {
    "ExecuteTime": {
     "end_time": "2020-07-26T10:25:19.549298Z",
     "start_time": "2020-07-26T10:20:42.470926Z"
    }
   },
   "outputs": [],
   "source": [
    "rf_random_avg = RandomizedSearchCV(estimator = RandomForestClassifier(random_state=42),param_distributions = params,\n",
    "                                   n_iter = 100,cv = 3,random_state=42, n_jobs = -1)\n",
    "rf_avg_tuned = rf_random_avg.fit(X_train1, y_train1)"
   ]
  },
  {
   "cell_type": "code",
   "execution_count": 88,
   "metadata": {
    "ExecuteTime": {
     "end_time": "2020-07-26T10:25:19.555670Z",
     "start_time": "2020-07-26T10:25:19.551076Z"
    }
   },
   "outputs": [
    {
     "data": {
      "text/plain": [
       "{'n_estimators': 400,\n",
       " 'min_samples_split': 2,\n",
       " 'min_samples_leaf': 4,\n",
       " 'max_features': 'sqrt',\n",
       " 'max_depth': 70,\n",
       " 'bootstrap': True}"
      ]
     },
     "execution_count": 88,
     "metadata": {},
     "output_type": "execute_result"
    }
   ],
   "source": [
    "rf_avg_tuned.best_params_"
   ]
  },
  {
   "cell_type": "code",
   "execution_count": 89,
   "metadata": {
    "ExecuteTime": {
     "end_time": "2020-07-26T10:25:20.333148Z",
     "start_time": "2020-07-26T10:25:19.557067Z"
    }
   },
   "outputs": [
    {
     "name": "stdout",
     "output_type": "stream",
     "text": [
      "Model Performance\n",
      "Training data performance 0.93%\n",
      "Root Mean Squired Error: 0.78\n",
      "Test Accuracy: 0.65%.\n",
      "              precision    recall  f1-score   support\n",
      "\n",
      "           0       0.68      0.95      0.79        60\n",
      "           1       0.59      0.27      0.37        37\n",
      "           2       0.58      0.50      0.54        30\n",
      "\n",
      "    accuracy                           0.65       127\n",
      "   macro avg       0.61      0.57      0.57       127\n",
      "weighted avg       0.63      0.65      0.61       127\n",
      "\n"
     ]
    }
   ],
   "source": [
    "rf_avg_final = RandomForestClassifier(random_state=42,n_estimators = 400,\n",
    " min_samples_split = 2,\n",
    " min_samples_leaf = 4,\n",
    " max_features = 'sqrt',\n",
    " max_depth = 70,\n",
    " bootstrap =True ).fit(X_train1, y_train1)\n",
    "evaluate(rf_avg_final, X_train1, y_train1, X_test1, y_test1)"
   ]
  },
  {
   "cell_type": "markdown",
   "metadata": {},
   "source": [
    "The hyperparameters form PyCaret (check here for more information https://pycaret.org/) have been taken, but it seems that there are significantly lower results.\n",
    "The results are not that good even after the hyperparameter tuning. We a loosing information when removing of averaging the different periods of the dataset. We will try to analyse the time series to see if there are any trends or seasonality."
   ]
  },
  {
   "cell_type": "markdown",
   "metadata": {},
   "source": [
    "## Time series"
   ]
  },
  {
   "cell_type": "code",
   "execution_count": 91,
   "metadata": {
    "ExecuteTime": {
     "end_time": "2020-07-26T10:26:26.188156Z",
     "start_time": "2020-07-26T10:26:25.939647Z"
    }
   },
   "outputs": [
    {
     "data": {
      "text/html": [
       "<div>\n",
       "<style scoped>\n",
       "    .dataframe tbody tr th:only-of-type {\n",
       "        vertical-align: middle;\n",
       "    }\n",
       "\n",
       "    .dataframe tbody tr th {\n",
       "        vertical-align: top;\n",
       "    }\n",
       "\n",
       "    .dataframe thead th {\n",
       "        text-align: right;\n",
       "    }\n",
       "</style>\n",
       "<table border=\"1\" class=\"dataframe\">\n",
       "  <thead>\n",
       "    <tr style=\"text-align: right;\">\n",
       "      <th></th>\n",
       "      <th>Company</th>\n",
       "      <th>Time</th>\n",
       "      <th>Financial Distress</th>\n",
       "      <th>x1</th>\n",
       "      <th>x2</th>\n",
       "      <th>x3</th>\n",
       "      <th>x4</th>\n",
       "      <th>x5</th>\n",
       "      <th>x6</th>\n",
       "      <th>x7</th>\n",
       "      <th>...</th>\n",
       "      <th>x75</th>\n",
       "      <th>x76</th>\n",
       "      <th>x77</th>\n",
       "      <th>x78</th>\n",
       "      <th>x79</th>\n",
       "      <th>x80</th>\n",
       "      <th>x81</th>\n",
       "      <th>x82</th>\n",
       "      <th>x83</th>\n",
       "      <th>status</th>\n",
       "    </tr>\n",
       "  </thead>\n",
       "  <tbody>\n",
       "    <tr>\n",
       "      <th>count</th>\n",
       "      <td>3672.000000</td>\n",
       "      <td>3672.000000</td>\n",
       "      <td>3672.000000</td>\n",
       "      <td>3672.000000</td>\n",
       "      <td>3672.000000</td>\n",
       "      <td>3672.000000</td>\n",
       "      <td>3.672000e+03</td>\n",
       "      <td>3672.000000</td>\n",
       "      <td>3672.000000</td>\n",
       "      <td>3672.000000</td>\n",
       "      <td>...</td>\n",
       "      <td>3672.000000</td>\n",
       "      <td>3672.000000</td>\n",
       "      <td>3672.000000</td>\n",
       "      <td>3672.000000</td>\n",
       "      <td>3672.000000</td>\n",
       "      <td>3672.000000</td>\n",
       "      <td>3672.000000</td>\n",
       "      <td>3672.000000</td>\n",
       "      <td>3672.000000</td>\n",
       "      <td>3672.000000</td>\n",
       "    </tr>\n",
       "    <tr>\n",
       "      <th>mean</th>\n",
       "      <td>182.084423</td>\n",
       "      <td>7.528322</td>\n",
       "      <td>1.040257</td>\n",
       "      <td>1.387820</td>\n",
       "      <td>0.129706</td>\n",
       "      <td>0.615769</td>\n",
       "      <td>8.681599e-01</td>\n",
       "      <td>0.154949</td>\n",
       "      <td>0.106717</td>\n",
       "      <td>0.784031</td>\n",
       "      <td>...</td>\n",
       "      <td>91.920506</td>\n",
       "      <td>89.115908</td>\n",
       "      <td>17.780855</td>\n",
       "      <td>15.198708</td>\n",
       "      <td>-2.664305</td>\n",
       "      <td>19.714597</td>\n",
       "      <td>1.100488</td>\n",
       "      <td>13.122277</td>\n",
       "      <td>33.044935</td>\n",
       "      <td>1.000545</td>\n",
       "    </tr>\n",
       "    <tr>\n",
       "      <th>std</th>\n",
       "      <td>117.024636</td>\n",
       "      <td>4.064016</td>\n",
       "      <td>2.652227</td>\n",
       "      <td>1.452926</td>\n",
       "      <td>0.120013</td>\n",
       "      <td>0.177904</td>\n",
       "      <td>5.719519e-01</td>\n",
       "      <td>0.124904</td>\n",
       "      <td>0.210555</td>\n",
       "      <td>1.033606</td>\n",
       "      <td>...</td>\n",
       "      <td>64.656504</td>\n",
       "      <td>64.349382</td>\n",
       "      <td>2.040152</td>\n",
       "      <td>2.828648</td>\n",
       "      <td>8.192663</td>\n",
       "      <td>7.508588</td>\n",
       "      <td>2.666733</td>\n",
       "      <td>9.465907</td>\n",
       "      <td>13.714563</td>\n",
       "      <td>0.816608</td>\n",
       "    </tr>\n",
       "    <tr>\n",
       "      <th>min</th>\n",
       "      <td>1.000000</td>\n",
       "      <td>1.000000</td>\n",
       "      <td>-8.631700</td>\n",
       "      <td>0.075170</td>\n",
       "      <td>-0.258080</td>\n",
       "      <td>0.016135</td>\n",
       "      <td>5.350000e-07</td>\n",
       "      <td>-0.269790</td>\n",
       "      <td>-0.627750</td>\n",
       "      <td>0.035160</td>\n",
       "      <td>...</td>\n",
       "      <td>24.318000</td>\n",
       "      <td>23.776000</td>\n",
       "      <td>15.250000</td>\n",
       "      <td>12.000000</td>\n",
       "      <td>-20.200000</td>\n",
       "      <td>1.000000</td>\n",
       "      <td>-0.499220</td>\n",
       "      <td>1.000000</td>\n",
       "      <td>2.000000</td>\n",
       "      <td>0.000000</td>\n",
       "    </tr>\n",
       "    <tr>\n",
       "      <th>25%</th>\n",
       "      <td>80.000000</td>\n",
       "      <td>4.000000</td>\n",
       "      <td>0.172275</td>\n",
       "      <td>0.952145</td>\n",
       "      <td>0.048701</td>\n",
       "      <td>0.501888</td>\n",
       "      <td>5.525575e-01</td>\n",
       "      <td>0.070001</td>\n",
       "      <td>-0.027754</td>\n",
       "      <td>0.436003</td>\n",
       "      <td>...</td>\n",
       "      <td>39.800000</td>\n",
       "      <td>38.377000</td>\n",
       "      <td>16.000000</td>\n",
       "      <td>13.000000</td>\n",
       "      <td>-7.000000</td>\n",
       "      <td>14.000000</td>\n",
       "      <td>0.189912</td>\n",
       "      <td>6.000000</td>\n",
       "      <td>21.000000</td>\n",
       "      <td>0.000000</td>\n",
       "    </tr>\n",
       "    <tr>\n",
       "      <th>50%</th>\n",
       "      <td>168.000000</td>\n",
       "      <td>7.000000</td>\n",
       "      <td>0.583805</td>\n",
       "      <td>1.183600</td>\n",
       "      <td>0.107530</td>\n",
       "      <td>0.638690</td>\n",
       "      <td>7.752450e-01</td>\n",
       "      <td>0.131830</td>\n",
       "      <td>0.104325</td>\n",
       "      <td>0.641875</td>\n",
       "      <td>...</td>\n",
       "      <td>66.120000</td>\n",
       "      <td>59.471000</td>\n",
       "      <td>17.000000</td>\n",
       "      <td>14.500000</td>\n",
       "      <td>0.200000</td>\n",
       "      <td>20.000000</td>\n",
       "      <td>0.594765</td>\n",
       "      <td>11.000000</td>\n",
       "      <td>34.000000</td>\n",
       "      <td>1.000000</td>\n",
       "    </tr>\n",
       "    <tr>\n",
       "      <th>75%</th>\n",
       "      <td>264.250000</td>\n",
       "      <td>11.000000</td>\n",
       "      <td>1.351750</td>\n",
       "      <td>1.506475</td>\n",
       "      <td>0.188685</td>\n",
       "      <td>0.749425</td>\n",
       "      <td>1.039000e+00</td>\n",
       "      <td>0.219570</td>\n",
       "      <td>0.231230</td>\n",
       "      <td>0.896773</td>\n",
       "      <td>...</td>\n",
       "      <td>130.500000</td>\n",
       "      <td>132.400000</td>\n",
       "      <td>20.000000</td>\n",
       "      <td>16.000000</td>\n",
       "      <td>2.100000</td>\n",
       "      <td>26.000000</td>\n",
       "      <td>1.355050</td>\n",
       "      <td>17.000000</td>\n",
       "      <td>44.000000</td>\n",
       "      <td>2.000000</td>\n",
       "    </tr>\n",
       "    <tr>\n",
       "      <th>max</th>\n",
       "      <td>422.000000</td>\n",
       "      <td>14.000000</td>\n",
       "      <td>128.400000</td>\n",
       "      <td>51.954000</td>\n",
       "      <td>0.749410</td>\n",
       "      <td>0.967900</td>\n",
       "      <td>6.835600e+00</td>\n",
       "      <td>0.858540</td>\n",
       "      <td>0.929550</td>\n",
       "      <td>38.836000</td>\n",
       "      <td>...</td>\n",
       "      <td>227.500000</td>\n",
       "      <td>214.500000</td>\n",
       "      <td>22.000000</td>\n",
       "      <td>22.000000</td>\n",
       "      <td>8.600000</td>\n",
       "      <td>37.000000</td>\n",
       "      <td>128.400000</td>\n",
       "      <td>49.000000</td>\n",
       "      <td>74.000000</td>\n",
       "      <td>2.000000</td>\n",
       "    </tr>\n",
       "  </tbody>\n",
       "</table>\n",
       "<p>8 rows × 87 columns</p>\n",
       "</div>"
      ],
      "text/plain": [
       "           Company         Time  Financial Distress           x1           x2  \\\n",
       "count  3672.000000  3672.000000         3672.000000  3672.000000  3672.000000   \n",
       "mean    182.084423     7.528322            1.040257     1.387820     0.129706   \n",
       "std     117.024636     4.064016            2.652227     1.452926     0.120013   \n",
       "min       1.000000     1.000000           -8.631700     0.075170    -0.258080   \n",
       "25%      80.000000     4.000000            0.172275     0.952145     0.048701   \n",
       "50%     168.000000     7.000000            0.583805     1.183600     0.107530   \n",
       "75%     264.250000    11.000000            1.351750     1.506475     0.188685   \n",
       "max     422.000000    14.000000          128.400000    51.954000     0.749410   \n",
       "\n",
       "                x3            x4           x5           x6           x7  ...  \\\n",
       "count  3672.000000  3.672000e+03  3672.000000  3672.000000  3672.000000  ...   \n",
       "mean      0.615769  8.681599e-01     0.154949     0.106717     0.784031  ...   \n",
       "std       0.177904  5.719519e-01     0.124904     0.210555     1.033606  ...   \n",
       "min       0.016135  5.350000e-07    -0.269790    -0.627750     0.035160  ...   \n",
       "25%       0.501888  5.525575e-01     0.070001    -0.027754     0.436003  ...   \n",
       "50%       0.638690  7.752450e-01     0.131830     0.104325     0.641875  ...   \n",
       "75%       0.749425  1.039000e+00     0.219570     0.231230     0.896773  ...   \n",
       "max       0.967900  6.835600e+00     0.858540     0.929550    38.836000  ...   \n",
       "\n",
       "               x75          x76          x77          x78          x79  \\\n",
       "count  3672.000000  3672.000000  3672.000000  3672.000000  3672.000000   \n",
       "mean     91.920506    89.115908    17.780855    15.198708    -2.664305   \n",
       "std      64.656504    64.349382     2.040152     2.828648     8.192663   \n",
       "min      24.318000    23.776000    15.250000    12.000000   -20.200000   \n",
       "25%      39.800000    38.377000    16.000000    13.000000    -7.000000   \n",
       "50%      66.120000    59.471000    17.000000    14.500000     0.200000   \n",
       "75%     130.500000   132.400000    20.000000    16.000000     2.100000   \n",
       "max     227.500000   214.500000    22.000000    22.000000     8.600000   \n",
       "\n",
       "               x80          x81          x82          x83       status  \n",
       "count  3672.000000  3672.000000  3672.000000  3672.000000  3672.000000  \n",
       "mean     19.714597     1.100488    13.122277    33.044935     1.000545  \n",
       "std       7.508588     2.666733     9.465907    13.714563     0.816608  \n",
       "min       1.000000    -0.499220     1.000000     2.000000     0.000000  \n",
       "25%      14.000000     0.189912     6.000000    21.000000     0.000000  \n",
       "50%      20.000000     0.594765    11.000000    34.000000     1.000000  \n",
       "75%      26.000000     1.355050    17.000000    44.000000     2.000000  \n",
       "max      37.000000   128.400000    49.000000    74.000000     2.000000  \n",
       "\n",
       "[8 rows x 87 columns]"
      ]
     },
     "execution_count": 91,
     "metadata": {},
     "output_type": "execute_result"
    }
   ],
   "source": [
    "data.describe()"
   ]
  },
  {
   "cell_type": "markdown",
   "metadata": {},
   "source": [
    "We can check the summary statistics of every column of the full dataset. Dimitar has stated that there are outlier values that impact significantly the financial distress variable. We will try to plot some of the values developing over time to check if there are trends."
   ]
  },
  {
   "cell_type": "code",
   "execution_count": 93,
   "metadata": {
    "ExecuteTime": {
     "end_time": "2020-07-26T10:33:36.033620Z",
     "start_time": "2020-07-26T10:33:35.985634Z"
    }
   },
   "outputs": [
    {
     "data": {
      "text/html": [
       "<div>\n",
       "<style scoped>\n",
       "    .dataframe tbody tr th:only-of-type {\n",
       "        vertical-align: middle;\n",
       "    }\n",
       "\n",
       "    .dataframe tbody tr th {\n",
       "        vertical-align: top;\n",
       "    }\n",
       "\n",
       "    .dataframe thead th {\n",
       "        text-align: right;\n",
       "    }\n",
       "</style>\n",
       "<table border=\"1\" class=\"dataframe\">\n",
       "  <thead>\n",
       "    <tr style=\"text-align: right;\">\n",
       "      <th></th>\n",
       "      <th>Company</th>\n",
       "      <th>Time</th>\n",
       "      <th>Financial Distress</th>\n",
       "      <th>x1</th>\n",
       "      <th>x2</th>\n",
       "      <th>x3</th>\n",
       "      <th>x4</th>\n",
       "      <th>x5</th>\n",
       "      <th>x6</th>\n",
       "      <th>x7</th>\n",
       "      <th>...</th>\n",
       "      <th>x75</th>\n",
       "      <th>x76</th>\n",
       "      <th>x77</th>\n",
       "      <th>x78</th>\n",
       "      <th>x79</th>\n",
       "      <th>x80</th>\n",
       "      <th>x81</th>\n",
       "      <th>x82</th>\n",
       "      <th>x83</th>\n",
       "      <th>status</th>\n",
       "    </tr>\n",
       "  </thead>\n",
       "  <tbody>\n",
       "    <tr>\n",
       "      <th>4</th>\n",
       "      <td>2</td>\n",
       "      <td>1</td>\n",
       "      <td>1.357300</td>\n",
       "      <td>1.06230</td>\n",
       "      <td>0.107020</td>\n",
       "      <td>0.81460</td>\n",
       "      <td>0.83593</td>\n",
       "      <td>0.19996</td>\n",
       "      <td>0.047800</td>\n",
       "      <td>0.74200</td>\n",
       "      <td>...</td>\n",
       "      <td>27.07</td>\n",
       "      <td>26.102</td>\n",
       "      <td>16.000</td>\n",
       "      <td>16.0</td>\n",
       "      <td>0.2</td>\n",
       "      <td>29</td>\n",
       "      <td>1.251000</td>\n",
       "      <td>7</td>\n",
       "      <td>27</td>\n",
       "      <td>2</td>\n",
       "    </tr>\n",
       "    <tr>\n",
       "      <th>5</th>\n",
       "      <td>2</td>\n",
       "      <td>2</td>\n",
       "      <td>0.007188</td>\n",
       "      <td>1.05580</td>\n",
       "      <td>0.081916</td>\n",
       "      <td>0.87949</td>\n",
       "      <td>0.68673</td>\n",
       "      <td>0.14263</td>\n",
       "      <td>0.043102</td>\n",
       "      <td>0.77198</td>\n",
       "      <td>...</td>\n",
       "      <td>31.31</td>\n",
       "      <td>30.194</td>\n",
       "      <td>17.000</td>\n",
       "      <td>16.0</td>\n",
       "      <td>0.4</td>\n",
       "      <td>29</td>\n",
       "      <td>1.357300</td>\n",
       "      <td>8</td>\n",
       "      <td>28</td>\n",
       "      <td>0</td>\n",
       "    </tr>\n",
       "    <tr>\n",
       "      <th>6</th>\n",
       "      <td>2</td>\n",
       "      <td>3</td>\n",
       "      <td>1.200200</td>\n",
       "      <td>0.97059</td>\n",
       "      <td>0.076064</td>\n",
       "      <td>0.90677</td>\n",
       "      <td>0.80980</td>\n",
       "      <td>0.16592</td>\n",
       "      <td>-0.024649</td>\n",
       "      <td>0.73660</td>\n",
       "      <td>...</td>\n",
       "      <td>36.07</td>\n",
       "      <td>35.273</td>\n",
       "      <td>17.000</td>\n",
       "      <td>15.0</td>\n",
       "      <td>-0.2</td>\n",
       "      <td>29</td>\n",
       "      <td>0.007188</td>\n",
       "      <td>9</td>\n",
       "      <td>29</td>\n",
       "      <td>2</td>\n",
       "    </tr>\n",
       "    <tr>\n",
       "      <th>7</th>\n",
       "      <td>2</td>\n",
       "      <td>4</td>\n",
       "      <td>2.234800</td>\n",
       "      <td>1.05900</td>\n",
       "      <td>0.130200</td>\n",
       "      <td>0.81811</td>\n",
       "      <td>0.87599</td>\n",
       "      <td>0.23445</td>\n",
       "      <td>0.045576</td>\n",
       "      <td>0.78727</td>\n",
       "      <td>...</td>\n",
       "      <td>39.80</td>\n",
       "      <td>38.377</td>\n",
       "      <td>17.167</td>\n",
       "      <td>16.0</td>\n",
       "      <td>5.6</td>\n",
       "      <td>29</td>\n",
       "      <td>1.200200</td>\n",
       "      <td>10</td>\n",
       "      <td>30</td>\n",
       "      <td>2</td>\n",
       "    </tr>\n",
       "    <tr>\n",
       "      <th>8</th>\n",
       "      <td>2</td>\n",
       "      <td>5</td>\n",
       "      <td>1.340500</td>\n",
       "      <td>1.12450</td>\n",
       "      <td>0.147840</td>\n",
       "      <td>0.75871</td>\n",
       "      <td>1.07990</td>\n",
       "      <td>0.27644</td>\n",
       "      <td>0.089408</td>\n",
       "      <td>0.80356</td>\n",
       "      <td>...</td>\n",
       "      <td>44.53</td>\n",
       "      <td>42.822</td>\n",
       "      <td>15.500</td>\n",
       "      <td>14.0</td>\n",
       "      <td>2.1</td>\n",
       "      <td>29</td>\n",
       "      <td>2.234800</td>\n",
       "      <td>11</td>\n",
       "      <td>31</td>\n",
       "      <td>2</td>\n",
       "    </tr>\n",
       "    <tr>\n",
       "      <th>9</th>\n",
       "      <td>2</td>\n",
       "      <td>6</td>\n",
       "      <td>2.047400</td>\n",
       "      <td>1.59980</td>\n",
       "      <td>0.262460</td>\n",
       "      <td>0.54615</td>\n",
       "      <td>1.31270</td>\n",
       "      <td>0.36948</td>\n",
       "      <td>0.296640</td>\n",
       "      <td>0.85364</td>\n",
       "      <td>...</td>\n",
       "      <td>52.74</td>\n",
       "      <td>49.206</td>\n",
       "      <td>15.500</td>\n",
       "      <td>12.0</td>\n",
       "      <td>-6.4</td>\n",
       "      <td>29</td>\n",
       "      <td>1.340500</td>\n",
       "      <td>12</td>\n",
       "      <td>32</td>\n",
       "      <td>2</td>\n",
       "    </tr>\n",
       "    <tr>\n",
       "      <th>10</th>\n",
       "      <td>2</td>\n",
       "      <td>7</td>\n",
       "      <td>2.345900</td>\n",
       "      <td>1.57560</td>\n",
       "      <td>0.262100</td>\n",
       "      <td>0.56448</td>\n",
       "      <td>1.15650</td>\n",
       "      <td>0.34862</td>\n",
       "      <td>0.299840</td>\n",
       "      <td>0.85817</td>\n",
       "      <td>...</td>\n",
       "      <td>66.12</td>\n",
       "      <td>59.471</td>\n",
       "      <td>18.000</td>\n",
       "      <td>12.0</td>\n",
       "      <td>-13.4</td>\n",
       "      <td>29</td>\n",
       "      <td>2.047400</td>\n",
       "      <td>13</td>\n",
       "      <td>33</td>\n",
       "      <td>2</td>\n",
       "    </tr>\n",
       "    <tr>\n",
       "      <th>11</th>\n",
       "      <td>2</td>\n",
       "      <td>8</td>\n",
       "      <td>2.249900</td>\n",
       "      <td>1.54430</td>\n",
       "      <td>0.240910</td>\n",
       "      <td>0.59073</td>\n",
       "      <td>1.07700</td>\n",
       "      <td>0.32561</td>\n",
       "      <td>0.301170</td>\n",
       "      <td>1.12100</td>\n",
       "      <td>...</td>\n",
       "      <td>73.20</td>\n",
       "      <td>63.880</td>\n",
       "      <td>16.000</td>\n",
       "      <td>12.0</td>\n",
       "      <td>1.2</td>\n",
       "      <td>29</td>\n",
       "      <td>2.345900</td>\n",
       "      <td>14</td>\n",
       "      <td>34</td>\n",
       "      <td>2</td>\n",
       "    </tr>\n",
       "    <tr>\n",
       "      <th>12</th>\n",
       "      <td>2</td>\n",
       "      <td>9</td>\n",
       "      <td>2.282600</td>\n",
       "      <td>1.72170</td>\n",
       "      <td>0.215250</td>\n",
       "      <td>0.55229</td>\n",
       "      <td>0.84101</td>\n",
       "      <td>0.29350</td>\n",
       "      <td>0.333360</td>\n",
       "      <td>1.28690</td>\n",
       "      <td>...</td>\n",
       "      <td>82.30</td>\n",
       "      <td>74.497</td>\n",
       "      <td>16.500</td>\n",
       "      <td>13.0</td>\n",
       "      <td>0.6</td>\n",
       "      <td>29</td>\n",
       "      <td>2.249900</td>\n",
       "      <td>15</td>\n",
       "      <td>35</td>\n",
       "      <td>2</td>\n",
       "    </tr>\n",
       "    <tr>\n",
       "      <th>13</th>\n",
       "      <td>2</td>\n",
       "      <td>10</td>\n",
       "      <td>1.798200</td>\n",
       "      <td>1.72320</td>\n",
       "      <td>0.208630</td>\n",
       "      <td>0.53398</td>\n",
       "      <td>0.78651</td>\n",
       "      <td>0.29303</td>\n",
       "      <td>0.329800</td>\n",
       "      <td>1.35480</td>\n",
       "      <td>...</td>\n",
       "      <td>100.00</td>\n",
       "      <td>100.000</td>\n",
       "      <td>17.125</td>\n",
       "      <td>14.5</td>\n",
       "      <td>-7.0</td>\n",
       "      <td>29</td>\n",
       "      <td>2.282600</td>\n",
       "      <td>16</td>\n",
       "      <td>36</td>\n",
       "      <td>2</td>\n",
       "    </tr>\n",
       "    <tr>\n",
       "      <th>14</th>\n",
       "      <td>2</td>\n",
       "      <td>11</td>\n",
       "      <td>2.827700</td>\n",
       "      <td>1.63070</td>\n",
       "      <td>0.186230</td>\n",
       "      <td>0.54772</td>\n",
       "      <td>0.72819</td>\n",
       "      <td>0.27358</td>\n",
       "      <td>0.320850</td>\n",
       "      <td>1.10110</td>\n",
       "      <td>...</td>\n",
       "      <td>130.50</td>\n",
       "      <td>132.400</td>\n",
       "      <td>20.000</td>\n",
       "      <td>14.5</td>\n",
       "      <td>-16.0</td>\n",
       "      <td>29</td>\n",
       "      <td>1.798200</td>\n",
       "      <td>17</td>\n",
       "      <td>37</td>\n",
       "      <td>2</td>\n",
       "    </tr>\n",
       "    <tr>\n",
       "      <th>15</th>\n",
       "      <td>2</td>\n",
       "      <td>12</td>\n",
       "      <td>2.941300</td>\n",
       "      <td>2.17230</td>\n",
       "      <td>0.319450</td>\n",
       "      <td>0.44139</td>\n",
       "      <td>0.94698</td>\n",
       "      <td>0.42740</td>\n",
       "      <td>0.481260</td>\n",
       "      <td>1.39200</td>\n",
       "      <td>...</td>\n",
       "      <td>175.90</td>\n",
       "      <td>178.100</td>\n",
       "      <td>20.000</td>\n",
       "      <td>14.5</td>\n",
       "      <td>-20.2</td>\n",
       "      <td>29</td>\n",
       "      <td>2.827700</td>\n",
       "      <td>18</td>\n",
       "      <td>38</td>\n",
       "      <td>2</td>\n",
       "    </tr>\n",
       "    <tr>\n",
       "      <th>16</th>\n",
       "      <td>2</td>\n",
       "      <td>13</td>\n",
       "      <td>2.659800</td>\n",
       "      <td>2.09240</td>\n",
       "      <td>0.303480</td>\n",
       "      <td>0.43822</td>\n",
       "      <td>0.99193</td>\n",
       "      <td>0.42630</td>\n",
       "      <td>0.465320</td>\n",
       "      <td>1.49120</td>\n",
       "      <td>...</td>\n",
       "      <td>203.20</td>\n",
       "      <td>204.500</td>\n",
       "      <td>22.000</td>\n",
       "      <td>22.0</td>\n",
       "      <td>6.4</td>\n",
       "      <td>29</td>\n",
       "      <td>2.941300</td>\n",
       "      <td>19</td>\n",
       "      <td>39</td>\n",
       "      <td>2</td>\n",
       "    </tr>\n",
       "    <tr>\n",
       "      <th>17</th>\n",
       "      <td>2</td>\n",
       "      <td>14</td>\n",
       "      <td>2.232000</td>\n",
       "      <td>2.22630</td>\n",
       "      <td>0.325880</td>\n",
       "      <td>0.40651</td>\n",
       "      <td>0.90804</td>\n",
       "      <td>0.45534</td>\n",
       "      <td>0.493550</td>\n",
       "      <td>1.65280</td>\n",
       "      <td>...</td>\n",
       "      <td>227.50</td>\n",
       "      <td>214.500</td>\n",
       "      <td>21.000</td>\n",
       "      <td>20.5</td>\n",
       "      <td>8.6</td>\n",
       "      <td>29</td>\n",
       "      <td>2.659800</td>\n",
       "      <td>20</td>\n",
       "      <td>40</td>\n",
       "      <td>2</td>\n",
       "    </tr>\n",
       "  </tbody>\n",
       "</table>\n",
       "<p>14 rows × 87 columns</p>\n",
       "</div>"
      ],
      "text/plain": [
       "    Company  Time  Financial Distress       x1        x2       x3       x4  \\\n",
       "4         2     1            1.357300  1.06230  0.107020  0.81460  0.83593   \n",
       "5         2     2            0.007188  1.05580  0.081916  0.87949  0.68673   \n",
       "6         2     3            1.200200  0.97059  0.076064  0.90677  0.80980   \n",
       "7         2     4            2.234800  1.05900  0.130200  0.81811  0.87599   \n",
       "8         2     5            1.340500  1.12450  0.147840  0.75871  1.07990   \n",
       "9         2     6            2.047400  1.59980  0.262460  0.54615  1.31270   \n",
       "10        2     7            2.345900  1.57560  0.262100  0.56448  1.15650   \n",
       "11        2     8            2.249900  1.54430  0.240910  0.59073  1.07700   \n",
       "12        2     9            2.282600  1.72170  0.215250  0.55229  0.84101   \n",
       "13        2    10            1.798200  1.72320  0.208630  0.53398  0.78651   \n",
       "14        2    11            2.827700  1.63070  0.186230  0.54772  0.72819   \n",
       "15        2    12            2.941300  2.17230  0.319450  0.44139  0.94698   \n",
       "16        2    13            2.659800  2.09240  0.303480  0.43822  0.99193   \n",
       "17        2    14            2.232000  2.22630  0.325880  0.40651  0.90804   \n",
       "\n",
       "         x5        x6       x7  ...     x75      x76     x77   x78   x79  x80  \\\n",
       "4   0.19996  0.047800  0.74200  ...   27.07   26.102  16.000  16.0   0.2   29   \n",
       "5   0.14263  0.043102  0.77198  ...   31.31   30.194  17.000  16.0   0.4   29   \n",
       "6   0.16592 -0.024649  0.73660  ...   36.07   35.273  17.000  15.0  -0.2   29   \n",
       "7   0.23445  0.045576  0.78727  ...   39.80   38.377  17.167  16.0   5.6   29   \n",
       "8   0.27644  0.089408  0.80356  ...   44.53   42.822  15.500  14.0   2.1   29   \n",
       "9   0.36948  0.296640  0.85364  ...   52.74   49.206  15.500  12.0  -6.4   29   \n",
       "10  0.34862  0.299840  0.85817  ...   66.12   59.471  18.000  12.0 -13.4   29   \n",
       "11  0.32561  0.301170  1.12100  ...   73.20   63.880  16.000  12.0   1.2   29   \n",
       "12  0.29350  0.333360  1.28690  ...   82.30   74.497  16.500  13.0   0.6   29   \n",
       "13  0.29303  0.329800  1.35480  ...  100.00  100.000  17.125  14.5  -7.0   29   \n",
       "14  0.27358  0.320850  1.10110  ...  130.50  132.400  20.000  14.5 -16.0   29   \n",
       "15  0.42740  0.481260  1.39200  ...  175.90  178.100  20.000  14.5 -20.2   29   \n",
       "16  0.42630  0.465320  1.49120  ...  203.20  204.500  22.000  22.0   6.4   29   \n",
       "17  0.45534  0.493550  1.65280  ...  227.50  214.500  21.000  20.5   8.6   29   \n",
       "\n",
       "         x81  x82  x83  status  \n",
       "4   1.251000    7   27       2  \n",
       "5   1.357300    8   28       0  \n",
       "6   0.007188    9   29       2  \n",
       "7   1.200200   10   30       2  \n",
       "8   2.234800   11   31       2  \n",
       "9   1.340500   12   32       2  \n",
       "10  2.047400   13   33       2  \n",
       "11  2.345900   14   34       2  \n",
       "12  2.249900   15   35       2  \n",
       "13  2.282600   16   36       2  \n",
       "14  1.798200   17   37       2  \n",
       "15  2.827700   18   38       2  \n",
       "16  2.941300   19   39       2  \n",
       "17  2.659800   20   40       2  \n",
       "\n",
       "[14 rows x 87 columns]"
      ]
     },
     "execution_count": 93,
     "metadata": {},
     "output_type": "execute_result"
    }
   ],
   "source": [
    "data[data['Company'] == 2]"
   ]
  },
  {
   "cell_type": "code",
   "execution_count": 108,
   "metadata": {
    "ExecuteTime": {
     "end_time": "2020-07-26T10:44:35.618062Z",
     "start_time": "2020-07-26T10:44:35.610827Z"
    }
   },
   "outputs": [
    {
     "data": {
      "text/plain": [
       "Index(['x1', 'x2', 'x3', 'x4', 'x5', 'x6', 'x7', 'x8', 'x9', 'x10', 'x11',\n",
       "       'x12', 'x13', 'x14', 'x15', 'x16', 'x17', 'x18', 'x19', 'x20', 'x21',\n",
       "       'x22', 'x23', 'x24', 'x25', 'x26', 'x27', 'x28', 'x29', 'x30', 'x31',\n",
       "       'x32', 'x33', 'x34', 'x35', 'x36', 'x37', 'x38', 'x39', 'x40', 'x41',\n",
       "       'x42', 'x43', 'x44', 'x45', 'x46', 'x47', 'x48', 'x49', 'x50', 'x51',\n",
       "       'x52', 'x53', 'x54', 'x55', 'x56', 'x57', 'x58', 'x59', 'x60', 'x61',\n",
       "       'x62', 'x63', 'x64', 'x65', 'x66', 'x67', 'x68', 'x69', 'x70', 'x71',\n",
       "       'x72', 'x73', 'x74', 'x75', 'x76', 'x77', 'x78', 'x79', 'x80', 'x81',\n",
       "       'x82', 'x83'],\n",
       "      dtype='object')"
      ]
     },
     "execution_count": 108,
     "metadata": {},
     "output_type": "execute_result"
    }
   ],
   "source": [
    "data.columns[3:-1]"
   ]
  },
  {
   "cell_type": "code",
   "execution_count": 116,
   "metadata": {
    "ExecuteTime": {
     "end_time": "2020-07-26T10:52:03.287392Z",
     "start_time": "2020-07-26T10:52:03.275733Z"
    }
   },
   "outputs": [
    {
     "data": {
      "text/plain": [
       "4      1\n",
       "5      2\n",
       "6      3\n",
       "7      4\n",
       "8      5\n",
       "9      6\n",
       "10     7\n",
       "11     8\n",
       "12     9\n",
       "13    10\n",
       "14    11\n",
       "15    12\n",
       "16    13\n",
       "17    14\n",
       "Name: Time, dtype: int64"
      ]
     },
     "execution_count": 116,
     "metadata": {},
     "output_type": "execute_result"
    }
   ],
   "source": [
    "data.loc[data['Company'] == 2].iloc[:,data.index[1]]"
   ]
  },
  {
   "cell_type": "code",
   "execution_count": 121,
   "metadata": {
    "ExecuteTime": {
     "end_time": "2020-07-26T10:55:26.846944Z",
     "start_time": "2020-07-26T10:55:26.210034Z"
    }
   },
   "outputs": [
    {
     "data": {
      "image/png": "[encoded data removed]",
      "text/plain": [
       "<Figure size 1224x576 with 1 Axes>"
      ]
     },
     "metadata": {
      "needs_background": "light"
     },
     "output_type": "display_data"
    }
   ],
   "source": [
    "plt.figure(figsize=(17,8))\n",
    "for i in range(len(data.columns[3:-1])):\n",
    "    plt.plot(data.loc[data['Company'] == 2]['Time'], \n",
    "             data.loc[data['Company'] == 2].iloc[:,data.index[i]], label = 'i')\n",
    "plt.title('Line plot of Xs during the obseved period.')\n",
    "#plt.legend()\n",
    "plt.xlabel('Time')\n",
    "plt.ylabel('values')\n",
    "plt.grid(True)\n",
    "plt.show()"
   ]
  },
  {
   "cell_type": "markdown",
   "metadata": {},
   "source": [
    "We can see some of the changes of the development of the predictors during the observed period. There are some changes, but every company needs to be investigated."
   ]
  },
  {
   "cell_type": "markdown",
   "metadata": {
    "ExecuteTime": {
     "end_time": "2020-07-25T09:11:10.242539Z",
     "start_time": "2020-07-25T09:11:10.133252Z"
    }
   },
   "source": [
    "## Conclusion\n",
    "The financial distress was binned into 3 equal parts.Several approaches have been tried. The first one was only using the last period. A lot of the models have significantly overfitted. Regularization needs to be implemented like tree pruning. There has been a discrepancy between the results using sklearn and PyCaret that needs to be investigated more thoroughly. The hold out dataset of a different period has been used to check the models and the results are lower, meaning we are loosing information when selecting only 1 period. So the average of all the periods has been used, this achieves accuracy of around 65% of the best models meaning that we again are loosing information.\n",
    "<br>\n",
    "The trajectory of every variable needs further investigation to see if there are trends, seasonality or idiosyncrasies.\n",
    "<br>\n",
    "To conclude the problem can be tried to be investigated as a regression problem, also binning might be implemented for the predictors. It is possible to view the the problem as a survival analysis problem https://en.wikipedia.org/wiki/Survival_analysis"
   ]
  },
  {
   "cell_type": "markdown",
   "metadata": {},
   "source": [
    "## References\n",
    "1. https://towardsdatascience.com\n",
    "2. https://pandas.pydata.org/pandas-docs/stable/index.html\n",
    "3. https://scikit-learn.org/stable/\n",
    "4. https://www.analyticsvidhya.com/blog/\n",
    "5. https://stackoverflow.com/\n",
    "6. https://pycaret.org/\n",
    "7. https://www.kaggle.com/shebrahimi/financial-distress\n",
    "8. https://en.wikipedia.org/wiki/Main_Page"
   ]
  }
 ],
 "metadata": {
  "kernelspec": {
   "display_name": "Python 3",
   "language": "python",
   "name": "python3"
  },
  "language_info": {
   "codemirror_mode": {
    "name": "ipython",
    "version": 3
   },
   "file_extension": ".py",
   "mimetype": "text/x-python",
   "name": "python",
   "nbconvert_exporter": "python",
   "pygments_lexer": "ipython3",
   "version": "3.7.3"
  },
  "toc": {
   "base_numbering": 1,
   "nav_menu": {},
   "number_sections": true,
   "sideBar": true,
   "skip_h1_title": false,
   "title_cell": "Table of Contents",
   "title_sidebar": "Contents",
   "toc_cell": false,
   "toc_position": {},
   "toc_section_display": true,
   "toc_window_display": false
  },
  "varInspector": {
   "cols": {
    "lenName": 16,
    "lenType": 16,
    "lenVar": 40
   },
   "kernels_config": {
    "python": {
     "delete_cmd_postfix": "",
     "delete_cmd_prefix": "del ",
     "library": "var_list.py",
     "varRefreshCmd": "print(var_dic_list())"
    },
    "r": {
     "delete_cmd_postfix": ") ",
     "delete_cmd_prefix": "rm(",
     "library": "var_list.r",
     "varRefreshCmd": "cat(var_dic_list()) "
    }
   },
   "types_to_exclude": [
    "module",
    "function",
    "builtin_function_or_method",
    "instance",
    "_Feature"
   ],
   "window_display": false
  }
 },
 "nbformat": 4,
 "nbformat_minor": 2
}
