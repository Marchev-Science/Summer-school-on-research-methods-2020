{
 "cells": [
  {
   "cell_type": "markdown",
   "metadata": {},
   "source": [
    "How to access google sheets document from jupyter notebook\n",
    "A quick guide on “How to access google sheets document from jupyter notebook”:\n",
    "\n",
    "Read the instructions in the link and create google drive credentials for your google account: https://socraticowl.com/post/integrate-google-sheets-and-jupyter-notebooks/\n",
    "Go to folder “Notebooks” in the same drive where this document is and locate the file: “Read_Write_Google_Sheets.ipynb”.\n",
    "Copy the notebook to your Jupyter environment and replace the credentials with yours and Google sheet’s information (link and sheet name) with the corresponding ones.\n"
   ]
  },
  {
   "cell_type": "markdown",
   "metadata": {},
   "source": [
    "Read dataframe from the google sheets file. <br>\n",
    "**To read another file: Change spreadsheet_key and worksheet. Also share it with the e-mail in the credentials json file**"
   ]
  },
  {
   "cell_type": "code",
   "execution_count": 1,
   "metadata": {},
   "outputs": [],
   "source": [
    "import pandas as pd\n",
    "import gspread\n",
    "from oauth2client.service_account import ServiceAccountCredentials\n",
    "\n",
    "\n",
    "scope = ['https://spreadsheets.google.com/feeds']\n",
    "credentials = ServiceAccountCredentials.from_json_keyfile_name('jupyter_sheets.json', scope)\n",
    "gc = gspread.authorize(credentials)\n",
    "spreadsheet_key = '1R-34SB3NOzHUvwyz47jtyH3SRZ5LJWwUzBl7jXToo3A'"
   ]
  },
  {
   "cell_type": "code",
   "execution_count": 2,
   "metadata": {},
   "outputs": [],
   "source": [
    "book = gc.open_by_key(spreadsheet_key)\n",
    "worksheet = book.worksheet(\"2019-03-17-th_db_plus_apptracker_outer-junior-filledin\")\n",
    "table = worksheet.get_all_values()\n",
    "#print(table)\n",
    "df = pd.DataFrame(table[1:], columns=table[0])"
   ]
  },
  {
   "cell_type": "markdown",
   "metadata": {},
   "source": [
    "**Write dataframe to the google sheets file.** <br>"
   ]
  },
  {
   "cell_type": "code",
   "execution_count": null,
   "metadata": {},
   "outputs": [],
   "source": [
    "##Upload data to google sheets\n",
    "from df2gspread import df2gspread as d2g\n",
    "wks_name = 'Jupyter Manipulated Data'\n",
    "d2g.upload('<dataframe_name-here>', spreadsheet_key, '<worksheet_name-here>', credentials=credentials, row_names=True)"
   ]
  },
  {
   "cell_type": "code",
   "execution_count": 3,
   "metadata": {
    "scrolled": true
   },
   "outputs": [
    {
     "data": {
      "text/plain": [
       "Index(['rec_id', 'candidate_id', 'campaign_id', 'No', 'database', 'sex',\n",
       "       'birth_date', 'age', 'Nationality', 'experience', 'salary',\n",
       "       'dateofevaluation', 'available_to_start', 'source_name', 'grade_name',\n",
       "       'wtime_name', 'position_type', 'employer_name', 'lang_id',\n",
       "       'position_id', 'tmp_langid/position', 'technical_position', 'position',\n",
       "       'th_lead', 'contactp_name', 'sdate_x', 'stdate', 'sdate_y',\n",
       "       'date_presented', 'statusdate_startingdate', 'status_name', 'filter',\n",
       "       'result', 'joined_comments', 'general_comments_and_recommendation', '0',\n",
       "       'Arabic', 'Armenian', 'Bulgarian', 'Chinese', 'Croatian', 'Czech',\n",
       "       'Danish', 'Dutch', 'English', 'Estonian', 'Finnish', 'French', 'German',\n",
       "       'Greek', 'Hebrew', 'Hungarian', 'Italian', 'Japanese', 'Kazakh',\n",
       "       'Korean', 'Latvian', 'Lithuanian', 'Nordics', 'Norwegian', 'Polish',\n",
       "       'Portuguese', 'Romanian', 'Russian', 'Serbian', 'Slovak', 'Slovenian',\n",
       "       'Spanish', 'Swedish', 'Turkish', 'count'],\n",
       "      dtype='object')"
      ]
     },
     "execution_count": 3,
     "metadata": {},
     "output_type": "execute_result"
    }
   ],
   "source": [
    "df.columns"
   ]
  }
 ],
 "metadata": {
  "kernelspec": {
   "display_name": "Python 3",
   "language": "python",
   "name": "python3"
  },
  "language_info": {
   "codemirror_mode": {
    "name": "ipython",
    "version": 3
   },
   "file_extension": ".py",
   "mimetype": "text/x-python",
   "name": "python",
   "nbconvert_exporter": "python",
   "pygments_lexer": "ipython3",
   "version": "3.6.8"
  }
 },
 "nbformat": 4,
 "nbformat_minor": 2
}
